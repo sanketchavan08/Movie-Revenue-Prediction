{
 "cells": [
  {
   "cell_type": "code",
   "execution_count": 1,
   "metadata": {},
   "outputs": [],
   "source": [
    "#!pip install holidays \n",
    "#!pip install xgboost\n",
    "#!pip install bayesian-optimization"
   ]
  },
  {
   "cell_type": "code",
   "execution_count": 2,
   "metadata": {},
   "outputs": [
    {
     "data": {
      "text/html": [
       "        <script type=\"text/javascript\">\n",
       "        window.PlotlyConfig = {MathJaxConfig: 'local'};\n",
       "        if (window.MathJax) {MathJax.Hub.Config({SVG: {font: \"STIX-Web\"}});}\n",
       "        if (typeof require !== 'undefined') {\n",
       "        require.undef(\"plotly\");\n",
       "        requirejs.config({\n",
       "            paths: {\n",
       "                'plotly': ['https://cdn.plot.ly/plotly-latest.min']\n",
       "            }\n",
       "        });\n",
       "        require(['plotly'], function(Plotly) {\n",
       "            window._Plotly = Plotly;\n",
       "        });\n",
       "        }\n",
       "        </script>\n",
       "        "
      ]
     },
     "metadata": {},
     "output_type": "display_data"
    }
   ],
   "source": [
    "import pandas as pd\n",
    "from itertools import *\n",
    "import matplotlib.pyplot as plt\n",
    "import seaborn as sns \n",
    "%matplotlib inline\n",
    "import numpy as np\n",
    "import plotly.offline as py\n",
    "py.init_notebook_mode(connected=True)\n",
    "import plotly.graph_objs as go\n",
    "import plotly.tools as tls\n",
    "import plotly.express as px\n",
    "from collections import Counter\n",
    "import ast\n",
    "import gc\n",
    "import datetime\n",
    "import holidays\n",
    "from datetime import date\n",
    "from scipy.stats import chi2_contingency\n",
    "from scipy.stats import chi2\n",
    "from scipy.stats import pearsonr\n",
    "from scipy import stats\n",
    "from sklearn.model_selection import train_test_split\n",
    "from sklearn.ensemble import RandomForestClassifier\n",
    "from sklearn.ensemble import RandomForestRegressor\n",
    "import xgboost as xgb\n",
    "from sklearn.metrics import accuracy_score, mean_squared_error\n",
    "from xgboost import XGBClassifier\n",
    "from xgboost.sklearn import XGBRegressor\n",
    "from math import sqrt\n",
    "from bayes_opt import BayesianOptimization\n",
    "from sklearn.model_selection import cross_val_score\n",
    "from lightgbm import LGBMRegressor\n",
    "import lightgbm as lgb\n",
    "import warnings\n",
    "warnings.simplefilter(action='ignore', category=FutureWarning)\n",
    "import gc"
   ]
  },
  {
   "cell_type": "code",
   "execution_count": 3,
   "metadata": {},
   "outputs": [
    {
     "name": "stdout",
     "output_type": "stream",
     "text": [
      "\n",
      "\n",
      "\n",
      "title                      0\n",
      "tagline                  844\n",
      "revenue                    0\n",
      "budget                     0\n",
      "genres                     0\n",
      "homepage                3091\n",
      "id                         0\n",
      "keywords                   0\n",
      "original_language          0\n",
      "overview                   0\n",
      "production_companies       0\n",
      "production_countries       0\n",
      "release_date               0\n",
      "runtime                    0\n",
      "spoken_languages           0\n",
      "status                     0\n",
      "dtype: int64\n"
     ]
    }
   ],
   "source": [
    "##basic information about data \n",
    "\n",
    "main_data = pd.read_csv(\"Movie_Revenue_predictions.csv\", parse_dates=['release_date'])\n",
    "## Missing Values \n",
    "\n",
    "\n",
    "x = datetime.datetime(2015, 1, 4)\n",
    "main_data.loc[main_data['id'] == 380097,'release_date'] = x\n",
    "main_data.loc[main_data['id'] == 370980,'runtime'] = 113\n",
    "main_data.loc[main_data['id'] == 459488,'runtime'] = 81\n",
    "main_data.loc[main_data['id'] == 370980,'overview'] = \"The life of Jorge Mario Bergoglio, from his youth to his election as head of the Roman Catholic Church.\"\n",
    "main_data.loc[main_data['id'] == 459488,'overview'] = \"An exploration of how singer and actor Frank Sinatra became one of the biggest stars of the 20th century while remaining, in his heart, a normal person.\"\n",
    "main_data.loc[main_data['id'] == 292539,'overview'] = \"Farmworkers in Immokalee, Fla., launch a hunger strike at the headquarters of Publix supermarkets to protest poor wages and working conditions.\"\n",
    "main_data.loc[main_data['id'] == 19,'budget'] = 5300000\n",
    "main_data.loc[main_data['id'] == 408,'revenue'] = 6500000\n",
    "#we have successfully filled the missing values in release date, runtime and overview column \n",
    "\n",
    "print(\"\\n\\n\")\n",
    "print(main_data.isnull().sum()) ## now we only have two features with missing value\n"
   ]
  },
  {
   "cell_type": "markdown",
   "metadata": {},
   "source": [
    "we also have missing values in release date,runtime and overview column. so lets manually impute those values."
   ]
  },
  {
   "cell_type": "markdown",
   "metadata": {},
   "source": [
    "**Feature Engineering**"
   ]
  },
  {
   "cell_type": "code",
   "execution_count": 4,
   "metadata": {},
   "outputs": [],
   "source": [
    "def feature_engineering(df):\n",
    "   \n",
    "    \n",
    "    ##lets correct the release date and extract year, month, day and day of week in separate columns\n",
    "    def correcting_dates(df):    \n",
    "        df['release_year'] = df['release_date'].dt.year\n",
    "        df['release_month'] = df['release_date'].dt.month\n",
    "        df['release_day'] = df['release_date'].dt.day\n",
    "        df['release_quarter'] = df['release_date'].dt.quarter\n",
    "        df.drop(columns=['release_date'], inplace=True)\n",
    "        df['release_year']=np.where(df['release_year']> 2019, df['release_year']-100, df['release_year'])\n",
    "        year = df[\"release_year\"].astype(int).copy().astype(str)\n",
    "        month=df['release_month'].astype(int).copy().astype(str)\n",
    "        day=df['release_day'].astype(int).copy().astype(str) \n",
    "        df[\"release_date\"]=  month.str.cat(day.str.cat(year,sep=\"/\"), sep =\"/\") \n",
    "        df['release_date']=pd.to_datetime(df['release_date'],format=\"%m/%d/%Y\")\n",
    "        df['release_dow'] = df['release_date'].dt.dayofweek\n",
    "        return df\n",
    "    \n",
    "    df = correcting_dates(df)\n",
    "    \n",
    "    ## title\n",
    "    df['title_word_count'] = df['title'].str.split().str.len()\n",
    "    \n",
    "    ##for genres column\n",
    "    \n",
    "    df['genres'] = df['genres'].apply(lambda x: {} if pd.isna(x) else ast.literal_eval(x) )\n",
    "    df['num_genres'] = df['genres'].apply(lambda x: len(x) if x != {} else 0) #summation of number of genres\n",
    "    df['all_genres'] = df['genres'].apply(lambda x: ' '.join(sorted([i['name'] for i in x])) if x != {} else '') #all possible genres in one column\\\n",
    "    list_of_genres = list(df['genres'].apply(lambda x: [i['name'] for i in x] if x != {} else []).values) ##list of all genres in every row #20\n",
    "    top_genres = [m[0] for m in Counter([i for j in list_of_genres for i in j]).most_common()] #we may create more sparse data using all genre\n",
    "    for g in top_genres:\n",
    "        \n",
    "        df[ g + '_genre'] = df['all_genres'].apply(lambda x: 1 if g in x else 0)\n",
    "        \n",
    "        \n",
    "    \n",
    "    \n",
    "    ## homepage\n",
    "    df['has_homepage'] = 1\n",
    "    df.loc[pd.isnull(df['homepage']) ,\"has_homepage\"] = 0\n",
    "    \n",
    "    \n",
    "    \n",
    "    ## tagline\n",
    "    df['isTaglineNA'] = 0\n",
    "    df.loc[df['tagline'] == 0 ,\"isTaglineNA\"] = 1\n",
    "    df['tagline_word_count'] = df['tagline'].str.split().str.len()\n",
    "    \n",
    "    \n",
    "    \n",
    "    \n",
    "    \n",
    "    ##original language\n",
    "    df['eng_language'] = 0 \n",
    "    df.loc[ df['original_language'] == \"en\" ,'eng_language'] = 1\n",
    "    \n",
    "    \n",
    "    \n",
    "    ##overview\n",
    "    df['overview_word_count'] = df['overview'].str.split().str.len()\n",
    "    \n",
    "    \n",
    "    ##production companies\n",
    "    df['num_production_companies'] = df['production_companies'].apply(lambda x: len(x) if x != {} else 0)\n",
    "    \n",
    "    \n",
    "    \n",
    "    ## production countries\n",
    "    df['num_production_countries'] = df['production_countries'].apply(lambda x: len(x) if x != {} else 0)\n",
    "    \n",
    "    ## spoken languages\n",
    "    df['num_spoken_languages'] = df['spoken_languages'].apply(lambda x: len(x) if x != {} else 0)\n",
    "    \n",
    "    \n",
    "    \n",
    "    ## extra features\n",
    "    df['meanruntimebyyear'] = df.groupby(\"release_year\")[\"runtime\"].transform('mean')\n",
    "    \n",
    "    \n",
    "    \n",
    "    ## number of clashes\n",
    "    \n",
    "    hit_movies = df[df['revenue'] >=  df.revenue.quantile(0.60)] #38 million\n",
    "    hit_movies_dates = list(hit_movies['release_date'])\n",
    "    hit_movies_title = list(hit_movies['title'])\n",
    "    upp = pd.Timedelta('15 days')\n",
    "    low = pd.Timedelta('-15 days')\n",
    "    same = pd.Timedelta('0 days')\n",
    "    \n",
    "    def number_of_clashes(row):\n",
    "        if row['title'] in hit_movies_title:\n",
    "            a = 0\n",
    "            return a\n",
    "        else:\n",
    "\n",
    "            for i in hit_movies_dates:\n",
    "                ans = row['release_date'] - i\n",
    "                num_clashes = 0\n",
    "                if low <= ans <= upp:\n",
    "                    num_clashes += 1\n",
    "                else:\n",
    "                    num_clashes += 0\n",
    "                return num_clashes\n",
    "    \n",
    "    df['Num_clash'] = df.apply(lambda row : number_of_clashes(row), axis=1)\n",
    "    \n",
    "    \n",
    "    \n",
    "    ## binned release year into decades (binning helps)\n",
    "    \n",
    "    bins = [1920, 1930, 1940, 1950, 1960, 1970, 1980, 1990, 2000, 2010, 2020]\n",
    "    labels = [1,2,3,4,5,6,7,8,9,10]\n",
    "    df['binned_release_year'] = pd.cut(df['release_year'], bins=bins, labels=labels)\n",
    "    \n",
    "    \n",
    "    ## BUDGET ##########################\n",
    "    ## there are 1037 missing budget in our dataset. lets fill that mean budget value by year\n",
    "    \n",
    "    mean_budget_year = df.groupby(\"release_year\")[\"budget\"].mean()\n",
    "    \n",
    "    '''\n",
    "    def filling_zero(row):\n",
    "        if row['budget'] == 0:\n",
    "            year = row['release_year']\n",
    "            ans = mean_budget_year[year]\n",
    "            return ans\n",
    "        else:\n",
    "            ans = row['budget']\n",
    "            return ans\n",
    "    df['budget'] = df.apply(lambda row : filling_zero(row), axis=1)\n",
    "    \n",
    "    '''\n",
    "    df.drop([4255], inplace = True) ## this row was causing a problem. \n",
    "    df['meanbudgetbyyear'] = df.groupby(\"release_year\")[\"budget\"].transform('mean')\n",
    "    df['medianbudgetbyyear'] = df.groupby(\"release_year\")[\"budget\"].transform('median')\n",
    "\n",
    "    #now binning budget\n",
    "    bins = list(range(0,380000000, 5000000)) #1 bin = 5 mil\n",
    "    labels = list(range(1,76,1))\n",
    "    df['binned_budget'] = pd.cut(df['budget'], bins=bins, labels=labels)\n",
    "    \n",
    "    ##inflation budget over a year, so we will see rise in mean year budget with respect to first year mean budget in our dataset\n",
    "    df['inflated_budget_year'] = df.apply(lambda row : (row['meanbudgetbyyear'] - 245000)/row['meanbudgetbyyear'] , axis=1)\n",
    "    \n",
    "    ##inflation budget over a decade, so we will see rise in mean decade budget with respect to first decade mean budget\n",
    "    df['meanbudgetbydecade'] = df.groupby(\"binned_release_year\")[\"budget\"].transform('mean')\n",
    "    df['inflated_budget_decade'] = df.apply(lambda row : (row['meanbudgetbydecade'] - 19514600)/row['meanbudgetbydecade'] , axis=1)\n",
    "    \n",
    "    ## inflation budget by last year\n",
    "    def inflated_budget_last_year(row):\n",
    "        if row['release_year'] == 1925:\n",
    "            return 0\n",
    "        elif row['release_year'] == 1927 or 1929 or 1932:\n",
    "            return 1\n",
    "        else:\n",
    "            mean_budget_last_year = mean_budget_year(row['release_year'] - 1)\n",
    "            ans = (row['meanbudgetbyyear'] - mean_budget_last_year) / row['meanbudgetbyyear']\n",
    "            return ans\n",
    "            \n",
    "            \n",
    "    \n",
    "    df['inflation_last_year'] = df.apply(lambda row : inflated_budget_last_year(row), axis=1)\n",
    "    \n",
    "    \n",
    "    \n",
    "    ## budget year ratio\n",
    "    df['budget_year_ratio'] = df['budget'] / (df['release_year'] * df['release_year'])\n",
    "    \n",
    "    ##budget runtime ratio\n",
    "    df['budget_to_runtime'] = df['budget'] / df['runtime']\n",
    "    \n",
    "    ##budget to mean year budget\n",
    "    df['budget_to_mean_year'] = df['budget'] / df['meanbudgetbyyear']\n",
    "    \n",
    "    ## runtime to mean year \n",
    "    df['runtime_to_meanruntime'] = df['runtime'] / df['meanruntimebyyear']\n",
    "    \n",
    "    ## log transform budget\n",
    "    df['budget'] = np.log1p(df['budget'])  ## can also use np.log() bcoz we dont have tiny values and np.log(0) cause an error\n",
    "    \n",
    "    ## log revenue\n",
    "    df['revenue'] = np.log1p(df['revenue'])\n",
    "    \n",
    "    \n",
    "    \n",
    "    \n",
    "    ## movie released ?\n",
    "    df['isMovieReleased'] = 1\n",
    "    df.loc[ df['status'] != \"Released\" ,\"isMovieReleased\"] = 0 \n",
    "    \n",
    "    ## CHECKING FOR HOLIDAY RELEASE\n",
    "    #import holidays\n",
    "    #from datetime import date\n",
    "    us_holidays = holidays.UnitedStates()\n",
    "    df['USholidayreleased'] = df['release_date'].apply(lambda x: 1 if x in us_holidays else 0)\n",
    "    \n",
    "    \n",
    "    \n",
    "    ##KEYWORDS\n",
    "    df['num_Keywords'] = df['keywords'].apply(lambda x: len(x) if x != {} else 0)\n",
    "    df['keywords'] = df['keywords'].apply(lambda x: {} if pd.isna(x) else ast.literal_eval(x) )\n",
    "    indx_of_top_movies = []\n",
    "    indx_of_top_movies = list(df.sort_values(by=[\"revenue\"], ascending=[False]).head(500).index.values)\n",
    "\n",
    "    list_of_keywords = list(df['keywords'][indx_of_top_movies].apply(lambda x: [i['name'] for i in x] if x != {} else []).values)\n",
    "\n",
    "    most_common_keywords=Counter([i for j in list_of_keywords for i in j]).most_common(100)\n",
    "    most_common_keywords = [i[0] for i in most_common_keywords]\n",
    "\n",
    "    \n",
    "    \n",
    "    \n",
    "\n",
    "\n",
    "    whole_list = []\n",
    "    for num_1 in df['keywords'].index.values:\n",
    "        list_keys = []\n",
    "        if num_1 != 4255:\n",
    "            for num in range(0, len(df['keywords'][num_1])):\n",
    "                list_keys.append(list(df['keywords'][num_1][num].values())[1])\n",
    "            whole_list.append(list_keys)\n",
    "        \n",
    "    df.insert(1, \"keys\", whole_list, True)\n",
    "    percentage = []\n",
    "    for num in df['keys'].index.values:\n",
    "        p = 0\n",
    "        p = (len(set(df.loc[num]['keys']).intersection(set(most_common_keywords)))*100/ len(set(most_common_keywords)))\n",
    "        percentage.append(p)\n",
    "    df.insert(1, \"keys_Percent\", percentage, True)\n",
    "    \n",
    "    df = df.drop(['id','genres','homepage','overview','runtime'\n",
    "    ,'production_companies','production_countries','release_date','spoken_languages'\n",
    "    ,'status','title','keywords','original_language','tagline', 'keys','all_genres'],axis=1)\n",
    "    \n",
    "    \n",
    "    return df    "
   ]
  },
  {
   "cell_type": "code",
   "execution_count": 5,
   "metadata": {},
   "outputs": [],
   "source": [
    "tmp = feature_engineering(main_data)   ## total 55 features \n",
    "num_variable = ['keys_Percent', 'budget', 'release_year', 'release_month',\n",
    "       'release_day', 'release_quarter', 'release_dow', 'title_word_count',\n",
    "       'num_genres','tagline_word_count', 'overview_word_count',\n",
    "       'num_production_companies', 'num_production_countries',\n",
    "       'num_spoken_languages', 'meanruntimebyyear', 'Num_clash',\n",
    "       'meanbudgetbyyear', 'medianbudgetbyyear', 'inflated_budget_year',\n",
    "       'meanbudgetbydecade', 'inflated_budget_decade', 'inflation_last_year',\n",
    "       'budget_year_ratio', 'budget_to_runtime', 'budget_to_mean_year',\n",
    "       'runtime_to_meanruntime',\n",
    "        'num_Keywords','revenue']\n",
    "flag_variable = ['Drama_genre', 'Comedy_genre', 'Thriller_genre',\n",
    "       'Action_genre', 'Romance_genre', 'Adventure_genre', 'Crime_genre',\n",
    "       'Science Fiction_genre', 'Horror_genre', 'Family_genre',\n",
    "       'Fantasy_genre', 'Mystery_genre', 'Animation_genre', 'History_genre',\n",
    "       'Music_genre', 'War_genre', 'Documentary_genre', 'Western_genre',\n",
    "       'Foreign_genre', 'TV Movie_genre', 'has_homepage', 'isTaglineNA',\n",
    "         'eng_language','isMovieReleased', 'USholidayreleased','binned_release_year', 'binned_budget']"
   ]
  },
  {
   "cell_type": "markdown",
   "metadata": {},
   "source": [
    "# Feature Selection"
   ]
  },
  {
   "cell_type": "markdown",
   "metadata": {},
   "source": [
    "Lets find out the numerical variables with correlation more than 0.1 with target variable and plot them "
   ]
  },
  {
   "cell_type": "code",
   "execution_count": 6,
   "metadata": {},
   "outputs": [
    {
     "name": "stdout",
     "output_type": "stream",
     "text": [
      "keys_Percent\n",
      "budget\n",
      "num_genres\n",
      "num_production_companies\n",
      "num_production_countries\n",
      "num_spoken_languages\n",
      "budget_year_ratio\n",
      "budget_to_mean_year\n",
      "runtime_to_meanruntime\n",
      "num_Keywords\n",
      "revenue\n"
     ]
    },
    {
     "name": "stderr",
     "output_type": "stream",
     "text": [
      "C:\\Users\\chava\\Anaconda3\\envs\\tensorflow\\lib\\site-packages\\scipy\\stats\\stats.py:5256: RuntimeWarning:\n",
      "\n",
      "invalid value encountered in less\n",
      "\n"
     ]
    },
    {
     "data": {
      "image/png": "[encoded data removed]",
      "text/plain": [
       "<Figure size 1440x1080 with 2 Axes>"
      ]
     },
     "metadata": {
      "needs_background": "light"
     },
     "output_type": "display_data"
    }
   ],
   "source": [
    "signi_num_var = []  #11\n",
    "for col in num_variable:\n",
    "    p, f = pearsonr(tmp['revenue'], tmp[col])\n",
    "    if p > .1:\n",
    "        print(col)\n",
    "        signi_num_var.append(col) \n",
    "        \n",
    "tmp1 = tmp[signi_num_var]\n",
    "f,ax = plt.subplots(figsize=(20, 15))\n",
    "sns.heatmap(tmp1.corr(), annot=True)\n",
    "plt.show()    "
   ]
  },
  {
   "cell_type": "markdown",
   "metadata": {},
   "source": [
    "we have significant numerical variable. Lets find out significant categorical variable"
   ]
  },
  {
   "cell_type": "code",
   "execution_count": 7,
   "metadata": {},
   "outputs": [
    {
     "name": "stdout",
     "output_type": "stream",
     "text": [
      "Drama_genre\n",
      "Comedy_genre\n",
      "Thriller_genre\n",
      "Action_genre\n",
      "Romance_genre\n",
      "Adventure_genre\n",
      "Crime_genre\n",
      "Science Fiction_genre\n",
      "Horror_genre\n",
      "Family_genre\n",
      "Fantasy_genre\n",
      "Mystery_genre\n",
      "Animation_genre\n",
      "War_genre\n",
      "Documentary_genre\n",
      "Foreign_genre\n",
      "TV Movie_genre\n",
      "has_homepage\n",
      "eng_language\n",
      "isMovieReleased\n",
      "USholidayreleased\n"
     ]
    },
    {
     "name": "stderr",
     "output_type": "stream",
     "text": [
      "C:\\Users\\chava\\Anaconda3\\envs\\tensorflow\\lib\\site-packages\\scipy\\stats\\stats.py:2923: RuntimeWarning:\n",
      "\n",
      "invalid value encountered in double_scalars\n",
      "\n"
     ]
    }
   ],
   "source": [
    "def anova_stat(df, a, b):\n",
    "    F, p = stats.f_oneway(df[df[b] == 1][a],\n",
    "                      df[df[b] == 0][a])\n",
    "    return p\n",
    "signi_cat_var = []    #21 features\n",
    "for col in flag_variable:\n",
    "    p = anova_stat(tmp, 'revenue', col)\n",
    "    if p < .05:\n",
    "        print(col)\n",
    "        signi_cat_var.append(col)\n",
    "        \n",
    "complete_variable_list = signi_num_var + signi_cat_var       \n",
    "final_data = tmp[complete_variable_list]     #32 total features "
   ]
  },
  {
   "cell_type": "code",
   "execution_count": 8,
   "metadata": {},
   "outputs": [],
   "source": [
    "X = final_data.drop('revenue', axis = 1)\n",
    "y = final_data['revenue']\n",
    "X_train, X_test, y_train, y_test = train_test_split(X, y, test_size=0.20, random_state=123)"
   ]
  },
  {
   "cell_type": "markdown",
   "metadata": {},
   "source": [
    "# 1.Considering complete dataset "
   ]
  },
  {
   "cell_type": "markdown",
   "metadata": {},
   "source": [
    "## 1.1 Baseline Linear Regression"
   ]
  },
  {
   "cell_type": "code",
   "execution_count": 9,
   "metadata": {},
   "outputs": [
    {
     "name": "stdout",
     "output_type": "stream",
     "text": [
      "The rmse of prediction of baseline linear regression is : 5.542587567809025\n"
     ]
    }
   ],
   "source": [
    "from sklearn.linear_model import LinearRegression\n",
    "\n",
    "reg = LinearRegression()\n",
    "reg.fit(X_train, y_train)\n",
    "y_pred = reg.predict(X_test)\n",
    "print('The rmse of prediction of baseline linear regression is :', sqrt(mean_squared_error(y_test, y_pred)))\n",
    "linear_regression = sqrt(mean_squared_error(y_test, y_pred))"
   ]
  },
  {
   "cell_type": "markdown",
   "metadata": {},
   "source": [
    "   ##  1.2  RandomForest"
   ]
  },
  {
   "cell_type": "code",
   "execution_count": 10,
   "metadata": {},
   "outputs": [
    {
     "name": "stdout",
     "output_type": "stream",
     "text": [
      "The rmse of prediction of baseline randomforest is : 5.762243074407854\n",
      "|   iter    |  target   | max_depth | max_fe... | min_sa... | min_sa... | n_esti... |\n",
      "-------------------------------------------------------------------------------------\n",
      "| \u001b[0m 1       \u001b[0m | \u001b[0m-30.54   \u001b[0m | \u001b[0m 121.9   \u001b[0m | \u001b[0m 0.2205  \u001b[0m | \u001b[0m 99.67   \u001b[0m | \u001b[0m 11.22   \u001b[0m | \u001b[0m 306.7   \u001b[0m |\n",
      "| \u001b[95m 2       \u001b[0m | \u001b[95m-30.07   \u001b[0m | \u001b[95m 9.397   \u001b[0m | \u001b[95m 0.9072  \u001b[0m | \u001b[95m 89.0    \u001b[0m | \u001b[95m 3.697   \u001b[0m | \u001b[95m 867.6   \u001b[0m |\n",
      "| \u001b[95m 3       \u001b[0m | \u001b[95m-29.76   \u001b[0m | \u001b[95m 70.5    \u001b[0m | \u001b[95m 0.5706  \u001b[0m | \u001b[95m 50.59   \u001b[0m | \u001b[95m 9.97    \u001b[0m | \u001b[95m 409.3   \u001b[0m |\n",
      "| \u001b[0m 4       \u001b[0m | \u001b[0m-29.97   \u001b[0m | \u001b[0m 39.35   \u001b[0m | \u001b[0m 0.7105  \u001b[0m | \u001b[0m 74.04   \u001b[0m | \u001b[0m 5.263   \u001b[0m | \u001b[0m 815.8   \u001b[0m |\n",
      "| \u001b[0m 5       \u001b[0m | \u001b[0m-30.1    \u001b[0m | \u001b[0m 116.3   \u001b[0m | \u001b[0m 0.9085  \u001b[0m | \u001b[0m 95.26   \u001b[0m | \u001b[0m 8.648   \u001b[0m | \u001b[0m 742.8   \u001b[0m |\n",
      "| \u001b[0m 6       \u001b[0m | \u001b[0m-29.84   \u001b[0m | \u001b[0m 136.0   \u001b[0m | \u001b[0m 0.8314  \u001b[0m | \u001b[0m 56.26   \u001b[0m | \u001b[0m 12.57   \u001b[0m | \u001b[0m 614.9   \u001b[0m |\n",
      "| \u001b[0m 7       \u001b[0m | \u001b[0m-29.99   \u001b[0m | \u001b[0m 196.4   \u001b[0m | \u001b[0m 0.7786  \u001b[0m | \u001b[0m 76.53   \u001b[0m | \u001b[0m 13.86   \u001b[0m | \u001b[0m 606.1   \u001b[0m |\n",
      "| \u001b[0m 8       \u001b[0m | \u001b[0m-30.1    \u001b[0m | \u001b[0m 171.2   \u001b[0m | \u001b[0m 0.5447  \u001b[0m | \u001b[0m 97.46   \u001b[0m | \u001b[0m 6.903   \u001b[0m | \u001b[0m 328.1   \u001b[0m |\n",
      "| \u001b[0m 9       \u001b[0m | \u001b[0m-29.93   \u001b[0m | \u001b[0m 195.4   \u001b[0m | \u001b[0m 0.7719  \u001b[0m | \u001b[0m 69.11   \u001b[0m | \u001b[0m 7.105   \u001b[0m | \u001b[0m 561.3   \u001b[0m |\n",
      "| \u001b[0m 10      \u001b[0m | \u001b[0m-30.27   \u001b[0m | \u001b[0m 144.3   \u001b[0m | \u001b[0m 0.2367  \u001b[0m | \u001b[0m 85.74   \u001b[0m | \u001b[0m 2.713   \u001b[0m | \u001b[0m 568.8   \u001b[0m |\n",
      "| \u001b[0m 11      \u001b[0m | \u001b[0m-30.22   \u001b[0m | \u001b[0m 192.4   \u001b[0m | \u001b[0m 0.2476  \u001b[0m | \u001b[0m 79.59   \u001b[0m | \u001b[0m 6.118   \u001b[0m | \u001b[0m 882.1   \u001b[0m |\n",
      "| \u001b[0m 12      \u001b[0m | \u001b[0m-29.93   \u001b[0m | \u001b[0m 48.19   \u001b[0m | \u001b[0m 0.4995  \u001b[0m | \u001b[0m 73.38   \u001b[0m | \u001b[0m 8.546   \u001b[0m | \u001b[0m 891.5   \u001b[0m |\n",
      "| \u001b[0m 13      \u001b[0m | \u001b[0m-29.81   \u001b[0m | \u001b[0m 200.0   \u001b[0m | \u001b[0m 1.0     \u001b[0m | \u001b[0m 50.0    \u001b[0m | \u001b[0m 2.0     \u001b[0m | \u001b[0m 100.0   \u001b[0m |\n",
      "| \u001b[0m 14      \u001b[0m | \u001b[0m-35.89   \u001b[0m | \u001b[0m 1.0     \u001b[0m | \u001b[0m 1.0     \u001b[0m | \u001b[0m 50.0    \u001b[0m | \u001b[0m 2.0     \u001b[0m | \u001b[0m 100.0   \u001b[0m |\n",
      "| \u001b[0m 15      \u001b[0m | \u001b[0m-35.91   \u001b[0m | \u001b[0m 1.0     \u001b[0m | \u001b[0m 1.0     \u001b[0m | \u001b[0m 50.0    \u001b[0m | \u001b[0m 15.0    \u001b[0m | \u001b[0m 631.0   \u001b[0m |\n",
      "| \u001b[0m 16      \u001b[0m | \u001b[0m-29.85   \u001b[0m | \u001b[0m 154.7   \u001b[0m | \u001b[0m 0.9064  \u001b[0m | \u001b[0m 55.39   \u001b[0m | \u001b[0m 10.18   \u001b[0m | \u001b[0m 422.8   \u001b[0m |\n",
      "| \u001b[0m 17      \u001b[0m | \u001b[0m-29.97   \u001b[0m | \u001b[0m 190.4   \u001b[0m | \u001b[0m 0.2     \u001b[0m | \u001b[0m 50.0    \u001b[0m | \u001b[0m 2.0     \u001b[0m | \u001b[0m 702.6   \u001b[0m |\n",
      "| \u001b[0m 18      \u001b[0m | \u001b[0m-29.82   \u001b[0m | \u001b[0m 128.8   \u001b[0m | \u001b[0m 1.0     \u001b[0m | \u001b[0m 50.0    \u001b[0m | \u001b[0m 15.0    \u001b[0m | \u001b[0m 820.7   \u001b[0m |\n",
      "| \u001b[0m 19      \u001b[0m | \u001b[0m-29.8    \u001b[0m | \u001b[0m 200.0   \u001b[0m | \u001b[0m 1.0     \u001b[0m | \u001b[0m 50.0    \u001b[0m | \u001b[0m 2.0     \u001b[0m | \u001b[0m 202.4   \u001b[0m |\n",
      "| \u001b[0m 20      \u001b[0m | \u001b[0m-29.82   \u001b[0m | \u001b[0m 116.0   \u001b[0m | \u001b[0m 1.0     \u001b[0m | \u001b[0m 50.0    \u001b[0m | \u001b[0m 15.0    \u001b[0m | \u001b[0m 1e+03   \u001b[0m |\n",
      "| \u001b[0m 21      \u001b[0m | \u001b[0m-35.9    \u001b[0m | \u001b[0m 1.0     \u001b[0m | \u001b[0m 1.0     \u001b[0m | \u001b[0m 50.0    \u001b[0m | \u001b[0m 15.0    \u001b[0m | \u001b[0m 1e+03   \u001b[0m |\n",
      "| \u001b[0m 22      \u001b[0m | \u001b[0m-30.56   \u001b[0m | \u001b[0m 100.3   \u001b[0m | \u001b[0m 0.2     \u001b[0m | \u001b[0m 100.0   \u001b[0m | \u001b[0m 2.0     \u001b[0m | \u001b[0m 856.9   \u001b[0m |\n",
      "| \u001b[0m 23      \u001b[0m | \u001b[0m-29.82   \u001b[0m | \u001b[0m 166.3   \u001b[0m | \u001b[0m 1.0     \u001b[0m | \u001b[0m 50.0    \u001b[0m | \u001b[0m 15.0    \u001b[0m | \u001b[0m 965.3   \u001b[0m |\n",
      "| \u001b[0m 24      \u001b[0m | \u001b[0m-30.54   \u001b[0m | \u001b[0m 200.0   \u001b[0m | \u001b[0m 0.2     \u001b[0m | \u001b[0m 100.0   \u001b[0m | \u001b[0m 15.0    \u001b[0m | \u001b[0m 152.0   \u001b[0m |\n",
      "| \u001b[0m 25      \u001b[0m | \u001b[0m-30.55   \u001b[0m | \u001b[0m 111.3   \u001b[0m | \u001b[0m 0.2     \u001b[0m | \u001b[0m 100.0   \u001b[0m | \u001b[0m 2.0     \u001b[0m | \u001b[0m 403.5   \u001b[0m |\n",
      "| \u001b[0m 26      \u001b[0m | \u001b[0m-30.57   \u001b[0m | \u001b[0m 156.5   \u001b[0m | \u001b[0m 0.2     \u001b[0m | \u001b[0m 100.0   \u001b[0m | \u001b[0m 2.0     \u001b[0m | \u001b[0m 1e+03   \u001b[0m |\n",
      "| \u001b[0m 27      \u001b[0m | \u001b[0m-29.91   \u001b[0m | \u001b[0m 191.8   \u001b[0m | \u001b[0m 1.0     \u001b[0m | \u001b[0m 60.97   \u001b[0m | \u001b[0m 15.0    \u001b[0m | \u001b[0m 782.7   \u001b[0m |\n",
      "| \u001b[0m 28      \u001b[0m | \u001b[0m-29.97   \u001b[0m | \u001b[0m 72.5    \u001b[0m | \u001b[0m 0.2188  \u001b[0m | \u001b[0m 51.44   \u001b[0m | \u001b[0m 12.95   \u001b[0m | \u001b[0m 408.1   \u001b[0m |\n",
      "| \u001b[0m 29      \u001b[0m | \u001b[0m-29.82   \u001b[0m | \u001b[0m 28.62   \u001b[0m | \u001b[0m 1.0     \u001b[0m | \u001b[0m 50.0    \u001b[0m | \u001b[0m 2.0     \u001b[0m | \u001b[0m 435.3   \u001b[0m |\n",
      "| \u001b[0m 30      \u001b[0m | \u001b[0m-29.82   \u001b[0m | \u001b[0m 84.39   \u001b[0m | \u001b[0m 1.0     \u001b[0m | \u001b[0m 50.0    \u001b[0m | \u001b[0m 2.0     \u001b[0m | \u001b[0m 460.7   \u001b[0m |\n",
      "| \u001b[0m 31      \u001b[0m | \u001b[0m-29.82   \u001b[0m | \u001b[0m 121.3   \u001b[0m | \u001b[0m 1.0     \u001b[0m | \u001b[0m 50.0    \u001b[0m | \u001b[0m 15.0    \u001b[0m | \u001b[0m 921.4   \u001b[0m |\n",
      "| \u001b[0m 32      \u001b[0m | \u001b[0m-29.82   \u001b[0m | \u001b[0m 21.26   \u001b[0m | \u001b[0m 1.0     \u001b[0m | \u001b[0m 50.0    \u001b[0m | \u001b[0m 2.0     \u001b[0m | \u001b[0m 371.7   \u001b[0m |\n",
      "| \u001b[0m 33      \u001b[0m | \u001b[0m-29.82   \u001b[0m | \u001b[0m 200.0   \u001b[0m | \u001b[0m 1.0     \u001b[0m | \u001b[0m 50.0    \u001b[0m | \u001b[0m 2.0     \u001b[0m | \u001b[0m 477.4   \u001b[0m |\n",
      "| \u001b[0m 34      \u001b[0m | \u001b[0m-30.15   \u001b[0m | \u001b[0m 200.0   \u001b[0m | \u001b[0m 1.0     \u001b[0m | \u001b[0m 100.0   \u001b[0m | \u001b[0m 2.0     \u001b[0m | \u001b[0m 423.1   \u001b[0m |\n",
      "| \u001b[0m 35      \u001b[0m | \u001b[0m-29.81   \u001b[0m | \u001b[0m 200.0   \u001b[0m | \u001b[0m 1.0     \u001b[0m | \u001b[0m 50.0    \u001b[0m | \u001b[0m 2.0     \u001b[0m | \u001b[0m 274.5   \u001b[0m |\n",
      "| \u001b[0m 36      \u001b[0m | \u001b[0m-29.82   \u001b[0m | \u001b[0m 200.0   \u001b[0m | \u001b[0m 1.0     \u001b[0m | \u001b[0m 50.0    \u001b[0m | \u001b[0m 2.0     \u001b[0m | \u001b[0m 366.0   \u001b[0m |\n",
      "| \u001b[0m 37      \u001b[0m | \u001b[0m-30.15   \u001b[0m | \u001b[0m 156.7   \u001b[0m | \u001b[0m 1.0     \u001b[0m | \u001b[0m 100.0   \u001b[0m | \u001b[0m 15.0    \u001b[0m | \u001b[0m 668.9   \u001b[0m |\n",
      "| \u001b[0m 38      \u001b[0m | \u001b[0m-29.81   \u001b[0m | \u001b[0m 134.0   \u001b[0m | \u001b[0m 1.0     \u001b[0m | \u001b[0m 50.0    \u001b[0m | \u001b[0m 2.0     \u001b[0m | \u001b[0m 228.4   \u001b[0m |\n",
      "| \u001b[0m 39      \u001b[0m | \u001b[0m-35.93   \u001b[0m | \u001b[0m 1.0     \u001b[0m | \u001b[0m 1.0     \u001b[0m | \u001b[0m 100.0   \u001b[0m | \u001b[0m 2.0     \u001b[0m | \u001b[0m 296.2   \u001b[0m |\n",
      "| \u001b[0m 40      \u001b[0m | \u001b[0m-30.15   \u001b[0m | \u001b[0m 178.0   \u001b[0m | \u001b[0m 1.0     \u001b[0m | \u001b[0m 100.0   \u001b[0m | \u001b[0m 2.0     \u001b[0m | \u001b[0m 241.8   \u001b[0m |\n",
      "| \u001b[0m 41      \u001b[0m | \u001b[0m-29.81   \u001b[0m | \u001b[0m 144.7   \u001b[0m | \u001b[0m 1.0     \u001b[0m | \u001b[0m 50.0    \u001b[0m | \u001b[0m 15.0    \u001b[0m | \u001b[0m 500.1   \u001b[0m |\n",
      "| \u001b[0m 42      \u001b[0m | \u001b[0m-29.81   \u001b[0m | \u001b[0m 148.9   \u001b[0m | \u001b[0m 1.0     \u001b[0m | \u001b[0m 50.0    \u001b[0m | \u001b[0m 2.0     \u001b[0m | \u001b[0m 156.9   \u001b[0m |\n",
      "=====================================================================================\n",
      "The rmse of optimize random forest is: 5.361805690416587\n"
     ]
    }
   ],
   "source": [
    "rf = RandomForestRegressor(random_state=123)\n",
    "rf.fit(X_train, y_train)\n",
    "y_pred = rf.predict(X_test)\n",
    "\n",
    "print('The rmse of prediction of baseline randomforest is :', sqrt(mean_squared_error(y_test, y_pred)))\n",
    "random_forest = sqrt(mean_squared_error(y_test, y_pred))\n",
    "\n",
    "\n",
    "#Bayesian optimization\n",
    "def bayesian_optimization(dataset, function, parameters):\n",
    "    \n",
    "    \n",
    "    X_train, y_train, X_test, y_test = dataset\n",
    "    n_iterations = 30\n",
    "    gp_params = {\"alpha\": 1e-4}\n",
    "    init_points = 12\n",
    "\n",
    "    BO = BayesianOptimization(function, parameters)\n",
    "    BO.maximize(n_iter=n_iterations, **gp_params, init_points = init_points)\n",
    "\n",
    "    return BO.max\n",
    "\n",
    "## for randomforest\n",
    "def rfc_optimization(cv_splits):\n",
    "    def function(n_estimators, max_depth, min_samples_split, max_features, min_samples_leaf): # make changes here to add more parameters \n",
    "        \n",
    "        return cross_val_score(\n",
    "               RandomForestRegressor(\n",
    "                   n_estimators=int(max(n_estimators,0)),                                                               \n",
    "                   max_depth=int(max(max_depth,1)),\n",
    "                   min_samples_split=int(max(min_samples_split,2)), \n",
    "                   max_features = float(max(max_features,0.2)),\n",
    "                   min_samples_leaf= int(max(min_samples_leaf,50)),\n",
    "                   #oob_score = True,\n",
    "                   \n",
    "                   \n",
    "                   n_jobs=-1, \n",
    "                   random_state=22  \n",
    "                   ),  \n",
    "               X=X_train, \n",
    "               y=y_train, \n",
    "               cv=cv_splits,\n",
    "               scoring=\"neg_mean_squared_error\",\n",
    "               n_jobs=-1).mean()\n",
    "\n",
    "    parameters = {\"n_estimators\": (100, 1000),\n",
    "                  \"max_depth\": (1, 200), #quick note : consider 1 to 200 next time\n",
    "                  \"min_samples_split\": (2, 15),\n",
    "                  \"max_features\": (0.2, 1),\n",
    "                  \"min_samples_leaf\": (50, 100),\n",
    "                  #\"oob_score\": True\n",
    "                  \n",
    "                 }\n",
    "    \n",
    "    return function, parameters\n",
    "\n",
    "#Train model using optimum parameters\n",
    "def rftrain(X_train, y_train, X_test, y_test, function, parameters):\n",
    "    dataset = (X_train, y_train, X_test, y_test)\n",
    "    cv_splits = 10\n",
    "    \n",
    "    best_solution = bayesian_optimization(dataset, function, parameters)      \n",
    "    params = best_solution[\"params\"]\n",
    "\n",
    "    model = RandomForestRegressor(\n",
    "             n_estimators=int(max(params[\"n_estimators\"], 0)),\n",
    "             max_depth=int(max(params[\"max_depth\"], 1)),\n",
    "             min_samples_split=int(max(params[\"min_samples_split\"], 2)), \n",
    "             max_features = float(max(params[\"max_features\"], 0.2)),\n",
    "             min_samples_leaf= int(max(params[\"min_samples_leaf\"],50)),\n",
    "             n_jobs=-1, \n",
    "             random_state=23,\n",
    "             #oob_score = True\n",
    "             )\n",
    "\n",
    "    model.fit(X_train, y_train)\n",
    "    \n",
    "    return model\n",
    "\n",
    "\n",
    "rffunc, rfparams = rfc_optimization(10)\n",
    "rfmodel = rftrain(X_train, y_train, X_test, y_test, rffunc, rfparams)\n",
    "\n",
    "\n",
    "\n",
    "y_pred = rfmodel.predict(X_test)\n",
    "print('The rmse of optimize random forest is:', sqrt(mean_squared_error(y_test, y_pred)))\n",
    "opt_random_forest = sqrt(mean_squared_error(y_test, y_pred))\n",
    "\n"
   ]
  },
  {
   "cell_type": "markdown",
   "metadata": {},
   "source": [
    "   ##  1.3  XGBoost"
   ]
  },
  {
   "cell_type": "code",
   "execution_count": 11,
   "metadata": {
    "scrolled": false
   },
   "outputs": [
    {
     "name": "stdout",
     "output_type": "stream",
     "text": [
      "[15:57:34] WARNING: C:/Jenkins/workspace/xgboost-win64_release_0.90/src/objective/regression_obj.cu:152: reg:linear is now deprecated in favor of reg:squarederror.\n",
      "The rmse of XGBoost Baseline is : 5.336937873384235\n"
     ]
    },
    {
     "data": {
      "image/png": "[encoded data removed]",
      "text/plain": [
       "<Figure size 2880x1440 with 1 Axes>"
      ]
     },
     "metadata": {
      "needs_background": "light"
     },
     "output_type": "display_data"
    },
    {
     "name": "stdout",
     "output_type": "stream",
     "text": [
      "|   iter    |  target   |    eta    |   gamma   | max_depth | min_ch... | n_esti... |\n",
      "-------------------------------------------------------------------------------------\n",
      "| \u001b[0m 1       \u001b[0m | \u001b[0m-30.03   \u001b[0m | \u001b[0m 0.199   \u001b[0m | \u001b[0m 0.9081  \u001b[0m | \u001b[0m 5.123   \u001b[0m | \u001b[0m 6.503   \u001b[0m | \u001b[0m 128.0   \u001b[0m |\n",
      "| \u001b[95m 2       \u001b[0m | \u001b[95m-29.89   \u001b[0m | \u001b[95m 0.1811  \u001b[0m | \u001b[95m 1.209   \u001b[0m | \u001b[95m 5.16    \u001b[0m | \u001b[95m 8.222   \u001b[0m | \u001b[95m 133.9   \u001b[0m |\n",
      "| \u001b[95m 3       \u001b[0m | \u001b[95m-29.44   \u001b[0m | \u001b[95m 0.1294  \u001b[0m | \u001b[95m 1.801   \u001b[0m | \u001b[95m 3.042   \u001b[0m | \u001b[95m 8.256   \u001b[0m | \u001b[95m 52.15   \u001b[0m |\n",
      "| \u001b[95m 4       \u001b[0m | \u001b[95m-29.43   \u001b[0m | \u001b[95m 0.1962  \u001b[0m | \u001b[95m 0.4739  \u001b[0m | \u001b[95m 2.441   \u001b[0m | \u001b[95m 8.737   \u001b[0m | \u001b[95m 112.4   \u001b[0m |\n",
      "| \u001b[0m 5       \u001b[0m | \u001b[0m-30.44   \u001b[0m | \u001b[0m 0.1879  \u001b[0m | \u001b[0m 0.8661  \u001b[0m | \u001b[0m 6.562   \u001b[0m | \u001b[0m 4.1     \u001b[0m | \u001b[0m 142.4   \u001b[0m |\n",
      "| \u001b[0m 6       \u001b[0m | \u001b[0m-30.0    \u001b[0m | \u001b[0m 0.08431 \u001b[0m | \u001b[0m 1.093   \u001b[0m | \u001b[0m 5.469   \u001b[0m | \u001b[0m 4.666   \u001b[0m | \u001b[0m 107.5   \u001b[0m |\n",
      "| \u001b[95m 7       \u001b[0m | \u001b[95m-29.36   \u001b[0m | \u001b[95m 0.08204 \u001b[0m | \u001b[95m 1.754   \u001b[0m | \u001b[95m 2.513   \u001b[0m | \u001b[95m 9.428   \u001b[0m | \u001b[95m 102.3   \u001b[0m |\n",
      "| \u001b[0m 8       \u001b[0m | \u001b[0m-30.77   \u001b[0m | \u001b[0m 0.1199  \u001b[0m | \u001b[0m 1.829   \u001b[0m | \u001b[0m 7.728   \u001b[0m | \u001b[0m 3.355   \u001b[0m | \u001b[0m 59.23   \u001b[0m |\n",
      "| \u001b[0m 9       \u001b[0m | \u001b[0m-29.44   \u001b[0m | \u001b[0m 0.1093  \u001b[0m | \u001b[0m 0.3648  \u001b[0m | \u001b[0m 2.098   \u001b[0m | \u001b[0m 8.525   \u001b[0m | \u001b[0m 111.7   \u001b[0m |\n",
      "| \u001b[0m 10      \u001b[0m | \u001b[0m-29.55   \u001b[0m | \u001b[0m 0.1337  \u001b[0m | \u001b[0m 1.268   \u001b[0m | \u001b[0m 4.238   \u001b[0m | \u001b[0m 6.5     \u001b[0m | \u001b[0m 95.18   \u001b[0m |\n",
      "| \u001b[0m 11      \u001b[0m | \u001b[0m-29.7    \u001b[0m | \u001b[0m 0.09257 \u001b[0m | \u001b[0m 1.775   \u001b[0m | \u001b[0m 5.732   \u001b[0m | \u001b[0m 9.097   \u001b[0m | \u001b[0m 138.7   \u001b[0m |\n",
      "| \u001b[0m 12      \u001b[0m | \u001b[0m-31.52   \u001b[0m | \u001b[0m 0.091   \u001b[0m | \u001b[0m 1.34    \u001b[0m | \u001b[0m 9.702   \u001b[0m | \u001b[0m 3.767   \u001b[0m | \u001b[0m 87.03   \u001b[0m |\n",
      "| \u001b[0m 13      \u001b[0m | \u001b[0m-29.56   \u001b[0m | \u001b[0m 0.2     \u001b[0m | \u001b[0m 0.0     \u001b[0m | \u001b[0m 1.0     \u001b[0m | \u001b[0m 1.0     \u001b[0m | \u001b[0m 50.0    \u001b[0m |\n",
      "| \u001b[0m 14      \u001b[0m | \u001b[0m-29.58   \u001b[0m | \u001b[0m 0.07    \u001b[0m | \u001b[0m 2.0     \u001b[0m | \u001b[0m 1.0     \u001b[0m | \u001b[0m 10.0    \u001b[0m | \u001b[0m 150.0   \u001b[0m |\n",
      "| \u001b[0m 15      \u001b[0m | \u001b[0m-31.89   \u001b[0m | \u001b[0m 0.2     \u001b[0m | \u001b[0m 0.0     \u001b[0m | \u001b[0m 10.0    \u001b[0m | \u001b[0m 10.0    \u001b[0m | \u001b[0m 50.0    \u001b[0m |\n",
      "| \u001b[0m 16      \u001b[0m | \u001b[0m-29.75   \u001b[0m | \u001b[0m 0.07    \u001b[0m | \u001b[0m 2.0     \u001b[0m | \u001b[0m 1.0     \u001b[0m | \u001b[0m 1.0     \u001b[0m | \u001b[0m 118.3   \u001b[0m |\n",
      "| \u001b[0m 17      \u001b[0m | \u001b[0m-30.45   \u001b[0m | \u001b[0m 0.07    \u001b[0m | \u001b[0m 2.0     \u001b[0m | \u001b[0m 1.0     \u001b[0m | \u001b[0m 10.0    \u001b[0m | \u001b[0m 68.15   \u001b[0m |\n",
      "| \u001b[0m 18      \u001b[0m | \u001b[0m-29.48   \u001b[0m | \u001b[0m 0.2     \u001b[0m | \u001b[0m 0.0     \u001b[0m | \u001b[0m 1.0     \u001b[0m | \u001b[0m 1.0     \u001b[0m | \u001b[0m 99.13   \u001b[0m |\n",
      "| \u001b[0m 19      \u001b[0m | \u001b[0m-30.97   \u001b[0m | \u001b[0m 0.07    \u001b[0m | \u001b[0m 2.0     \u001b[0m | \u001b[0m 10.0    \u001b[0m | \u001b[0m 10.0    \u001b[0m | \u001b[0m 150.0   \u001b[0m |\n",
      "| \u001b[0m 20      \u001b[0m | \u001b[0m-30.97   \u001b[0m | \u001b[0m 0.07    \u001b[0m | \u001b[0m 2.0     \u001b[0m | \u001b[0m 10.0    \u001b[0m | \u001b[0m 10.0    \u001b[0m | \u001b[0m 119.2   \u001b[0m |\n",
      "| \u001b[0m 21      \u001b[0m | \u001b[0m-31.89   \u001b[0m | \u001b[0m 0.2     \u001b[0m | \u001b[0m 0.0     \u001b[0m | \u001b[0m 10.0    \u001b[0m | \u001b[0m 10.0    \u001b[0m | \u001b[0m 100.2   \u001b[0m |\n",
      "| \u001b[0m 22      \u001b[0m | \u001b[0m-29.95   \u001b[0m | \u001b[0m 0.07    \u001b[0m | \u001b[0m 2.0     \u001b[0m | \u001b[0m 1.0     \u001b[0m | \u001b[0m 10.0    \u001b[0m | \u001b[0m 96.5    \u001b[0m |\n",
      "| \u001b[0m 23      \u001b[0m | \u001b[0m-30.0    \u001b[0m | \u001b[0m 0.07    \u001b[0m | \u001b[0m 2.0     \u001b[0m | \u001b[0m 1.0     \u001b[0m | \u001b[0m 1.0     \u001b[0m | \u001b[0m 92.93   \u001b[0m |\n",
      "| \u001b[0m 24      \u001b[0m | \u001b[0m-30.88   \u001b[0m | \u001b[0m 0.07    \u001b[0m | \u001b[0m 0.0     \u001b[0m | \u001b[0m 1.0     \u001b[0m | \u001b[0m 10.0    \u001b[0m | \u001b[0m 57.15   \u001b[0m |\n",
      "| \u001b[0m 25      \u001b[0m | \u001b[0m-29.43   \u001b[0m | \u001b[0m 0.2     \u001b[0m | \u001b[0m 2.0     \u001b[0m | \u001b[0m 1.0     \u001b[0m | \u001b[0m 4.681   \u001b[0m | \u001b[0m 102.9   \u001b[0m |\n",
      "| \u001b[0m 26      \u001b[0m | \u001b[0m-29.58   \u001b[0m | \u001b[0m 0.07    \u001b[0m | \u001b[0m 2.0     \u001b[0m | \u001b[0m 1.0     \u001b[0m | \u001b[0m 1.0     \u001b[0m | \u001b[0m 150.0   \u001b[0m |\n",
      "| \u001b[0m 27      \u001b[0m | \u001b[0m-29.42   \u001b[0m | \u001b[0m 0.2     \u001b[0m | \u001b[0m 0.0     \u001b[0m | \u001b[0m 1.0     \u001b[0m | \u001b[0m 10.0    \u001b[0m | \u001b[0m 142.6   \u001b[0m |\n",
      "| \u001b[0m 28      \u001b[0m | \u001b[0m-29.66   \u001b[0m | \u001b[0m 0.07    \u001b[0m | \u001b[0m 2.0     \u001b[0m | \u001b[0m 1.0     \u001b[0m | \u001b[0m 1.0     \u001b[0m | \u001b[0m 133.7   \u001b[0m |\n",
      "| \u001b[0m 29      \u001b[0m | \u001b[0m-29.46   \u001b[0m | \u001b[0m 0.2     \u001b[0m | \u001b[0m 0.0     \u001b[0m | \u001b[0m 1.0     \u001b[0m | \u001b[0m 1.0     \u001b[0m | \u001b[0m 74.8    \u001b[0m |\n",
      "| \u001b[0m 30      \u001b[0m | \u001b[0m-33.2    \u001b[0m | \u001b[0m 0.2     \u001b[0m | \u001b[0m 0.0     \u001b[0m | \u001b[0m 10.0    \u001b[0m | \u001b[0m 1.0     \u001b[0m | \u001b[0m 72.22   \u001b[0m |\n",
      "| \u001b[0m 31      \u001b[0m | \u001b[0m-29.42   \u001b[0m | \u001b[0m 0.2     \u001b[0m | \u001b[0m 0.0     \u001b[0m | \u001b[0m 1.0     \u001b[0m | \u001b[0m 7.725   \u001b[0m | \u001b[0m 78.95   \u001b[0m |\n",
      "| \u001b[0m 32      \u001b[0m | \u001b[0m-29.46   \u001b[0m | \u001b[0m 0.2     \u001b[0m | \u001b[0m 0.0     \u001b[0m | \u001b[0m 1.0     \u001b[0m | \u001b[0m 1.0     \u001b[0m | \u001b[0m 81.22   \u001b[0m |\n",
      "| \u001b[0m 33      \u001b[0m | \u001b[0m-29.42   \u001b[0m | \u001b[0m 0.2     \u001b[0m | \u001b[0m 0.0     \u001b[0m | \u001b[0m 1.0     \u001b[0m | \u001b[0m 10.0    \u001b[0m | \u001b[0m 86.17   \u001b[0m |\n",
      "| \u001b[0m 34      \u001b[0m | \u001b[0m-32.85   \u001b[0m | \u001b[0m 0.07    \u001b[0m | \u001b[0m 2.0     \u001b[0m | \u001b[0m 10.0    \u001b[0m | \u001b[0m 1.0     \u001b[0m | \u001b[0m 131.6   \u001b[0m |\n",
      "| \u001b[0m 35      \u001b[0m | \u001b[0m-29.42   \u001b[0m | \u001b[0m 0.2     \u001b[0m | \u001b[0m 0.0     \u001b[0m | \u001b[0m 1.0     \u001b[0m | \u001b[0m 10.0    \u001b[0m | \u001b[0m 136.2   \u001b[0m |\n",
      "| \u001b[0m 36      \u001b[0m | \u001b[0m-29.41   \u001b[0m | \u001b[0m 0.2     \u001b[0m | \u001b[0m 0.0     \u001b[0m | \u001b[0m 1.0     \u001b[0m | \u001b[0m 10.0    \u001b[0m | \u001b[0m 122.4   \u001b[0m |\n",
      "| \u001b[0m 37      \u001b[0m | \u001b[0m-29.67   \u001b[0m | \u001b[0m 0.07    \u001b[0m | \u001b[0m 2.0     \u001b[0m | \u001b[0m 1.0     \u001b[0m | \u001b[0m 10.0    \u001b[0m | \u001b[0m 129.1   \u001b[0m |\n",
      "| \u001b[0m 38      \u001b[0m | \u001b[0m-29.48   \u001b[0m | \u001b[0m 0.2     \u001b[0m | \u001b[0m 0.0     \u001b[0m | \u001b[0m 1.0     \u001b[0m | \u001b[0m 1.0     \u001b[0m | \u001b[0m 111.0   \u001b[0m |\n",
      "| \u001b[0m 39      \u001b[0m | \u001b[0m-29.62   \u001b[0m | \u001b[0m 0.07    \u001b[0m | \u001b[0m 2.0     \u001b[0m | \u001b[0m 1.0     \u001b[0m | \u001b[0m 1.0     \u001b[0m | \u001b[0m 141.6   \u001b[0m |\n",
      "| \u001b[0m 40      \u001b[0m | \u001b[0m-29.48   \u001b[0m | \u001b[0m 0.2     \u001b[0m | \u001b[0m 0.0     \u001b[0m | \u001b[0m 1.0     \u001b[0m | \u001b[0m 2.788   \u001b[0m | \u001b[0m 125.4   \u001b[0m |\n",
      "| \u001b[0m 41      \u001b[0m | \u001b[0m-31.33   \u001b[0m | \u001b[0m 0.07    \u001b[0m | \u001b[0m 2.0     \u001b[0m | \u001b[0m 1.0     \u001b[0m | \u001b[0m 6.034   \u001b[0m | \u001b[0m 50.0    \u001b[0m |\n",
      "| \u001b[0m 42      \u001b[0m | \u001b[0m-30.12   \u001b[0m | \u001b[0m 0.07    \u001b[0m | \u001b[0m 0.0     \u001b[0m | \u001b[0m 1.0     \u001b[0m | \u001b[0m 5.811   \u001b[0m | \u001b[0m 83.4    \u001b[0m |\n",
      "=====================================================================================\n",
      "[16:05:48] WARNING: C:/Jenkins/workspace/xgboost-win64_release_0.90/src/objective/regression_obj.cu:152: reg:linear is now deprecated in favor of reg:squarederror.\n",
      "The rmse of optimize XGBoost is : 5.341199817724511\n"
     ]
    }
   ],
   "source": [
    "model = xgb.XGBRegressor()\n",
    "model.fit(X_train, y_train)\n",
    "y_pred = model.predict(X_test)\n",
    "print('The rmse of XGBoost Baseline is :', sqrt(mean_squared_error(y_test, y_pred)))\n",
    "xgboost = sqrt(mean_squared_error(y_test, y_pred))\n",
    "feature_imp = pd.DataFrame(sorted(zip(model.feature_importances_,X_train.columns)), \n",
    "                               columns=['Value','Feature'])\n",
    "plt.figure(figsize=(40, 20))\n",
    "sns.set(font_scale = 5)\n",
    "sns.barplot(x=\"Value\", y=\"Feature\", data=feature_imp.sort_values(by=\"Value\", \n",
    "                                                        ascending=False)[0:10])\n",
    "plt.title('XGBoost features importance')\n",
    "plt.tight_layout()\n",
    "plt.savefig('feaimp_xgb.png')\n",
    "plt.show()\n",
    "del feature_imp\n",
    "\n",
    "\n",
    "eval_set = [(X_test, y_test)]\n",
    "def xgb_optimization(cv_splits, eval_set):\n",
    "    def function(eta, gamma, max_depth,n_estimators,min_child_weight):  \n",
    "            return cross_val_score(\n",
    "                   xgb.XGBRegressor(\n",
    "                       n_estimators=int(max(n_estimators,50)),\n",
    "                       objective=\"reg:linear\",\n",
    "                       learning_rate=max(eta, 0),\n",
    "                       gamma=max(gamma, 0),\n",
    "                       max_depth=max(int(max_depth), 1),   \n",
    "                       min_child_weight=max(min_child_weight, 1),\n",
    "                       #subsample = max(subsample, 0),\n",
    "                       #colsample_bytree = max(colsample_bytree, 0),\n",
    "                       #colsample_bylevel = max(colsample_bylevel, 0),\n",
    "\n",
    "                       seed=42,\n",
    "                       nthread=-1\n",
    "                       ),  \n",
    "                   X=X_train, \n",
    "                   y=y_train, \n",
    "                   cv=cv_splits,\n",
    "                   scoring='neg_mean_squared_error',\n",
    "                   fit_params={\n",
    "                        \"early_stopping_rounds\": 200, \n",
    "                        \"eval_metric\": \"rmse\", \n",
    "                        \"eval_set\": eval_set},\n",
    "                   n_jobs=-1).mean()\n",
    "\n",
    "    parameters = {\"eta\": (0.07, 0.2),\n",
    "                  \"gamma\": (0,2),\n",
    "                  \"max_depth\": (1, 10),\n",
    "                 \"min_child_weight\": (1, 10),\n",
    "                 #\"subsample\": (0,1),\n",
    "                 #\"colsample_bytree\": (0,1),\n",
    "                  \"n_estimators\": (50,150), \n",
    "                  #\"colsample_bylevel\": (0,1)\n",
    "                  \n",
    "                 }\n",
    "    \n",
    "    return function, parameters\n",
    "\n",
    "#Train model using optimum parameters\n",
    "def xgbtrain(X_train, y_train, X_test, y_test, function, parameters):\n",
    "    dataset = (X_train, y_train, X_test, y_test)\n",
    "    cv_splits = 10\n",
    "    \n",
    "    best_solution = bayesian_optimization(dataset, function, parameters)      \n",
    "    params = best_solution[\"params\"]\n",
    "\n",
    "    model = XGBRegressor(\n",
    "             n_estimators=int(params[\"n_estimators\"]),\n",
    "             objective=\"reg:linear\",\n",
    "             learning_rate= params[\"eta\"],\n",
    "             gamma=int(params[\"gamma\"]),\n",
    "             max_depth=int(params[\"max_depth\"]),\n",
    "             min_child_weight=int(params[\"min_child_weight\"]),\n",
    "             #subsample=int(params[\"subsample\"]),\n",
    "             #colsample_bytree=int(params[\"colsample_bytree\"]),\n",
    "             #colsample_bylevel = int(params[\"colsample_bylevel\"]),\n",
    "             nthread=-1, \n",
    "             seed=42 \n",
    "             )\n",
    "\n",
    "    model.fit(X_train, y_train)\n",
    "    \n",
    "    return model\n",
    "\n",
    "\n",
    "xgbfunction, xgbparameters = xgb_optimization(10, eval_set)\n",
    "xgbmodel =xgbtrain(X_train, y_train, X_test, y_test, xgbfunction, xgbparameters)\n",
    "\n",
    "\n",
    "y_pred = xgbmodel.predict(X_test)\n",
    "print('The rmse of optimize XGBoost is :', sqrt(mean_squared_error(y_test, y_pred)))\n",
    "opt_xgboost = sqrt(mean_squared_error(y_test, y_pred))\n",
    "\n",
    "\n"
   ]
  },
  {
   "cell_type": "markdown",
   "metadata": {},
   "source": [
    "## 1.4  LightGBM"
   ]
  },
  {
   "cell_type": "code",
   "execution_count": 12,
   "metadata": {},
   "outputs": [
    {
     "name": "stdout",
     "output_type": "stream",
     "text": [
      "And we have started traning our model\n",
      "Training until validation scores don't improve for 200 rounds.\n",
      "[100]\ttraining's rmse: 6.48987\tvalid_1's rmse: 6.43478\n",
      "[200]\ttraining's rmse: 6.40739\tvalid_1's rmse: 6.34674\n",
      "[300]\ttraining's rmse: 6.39956\tvalid_1's rmse: 6.33776\n",
      "[400]\ttraining's rmse: 6.39788\tvalid_1's rmse: 6.33716\n",
      "[500]\ttraining's rmse: 6.39666\tvalid_1's rmse: 6.33739\n",
      "[600]\ttraining's rmse: 6.39585\tvalid_1's rmse: 6.33736\n",
      "Early stopping, best iteration is:\n",
      "[476]\ttraining's rmse: 6.39692\tvalid_1's rmse: 6.33693\n",
      "The rmse of Baseline Lightgbm is : 6.336933589050957\n"
     ]
    }
   ],
   "source": [
    "train_set = lgb.Dataset(X_train, label=y_train)\n",
    "valid_set = lgb.Dataset(X_test, label=y_test)\n",
    "params = {\n",
    "        \"objective\" : \"regression\", \n",
    "        \"metric\" : \"rmse\", \n",
    "        \"num_leaves\" : 100, \n",
    "        \"learning_rate\" : 0.03, \n",
    "        \"bagging_fraction\" : 0.9,\n",
    "        \"bagging_seed\" : 0, \n",
    "        \"num_threads\" : 4,\n",
    "        \"colsample_bytree\" : 0.5,\n",
    "        'min_data_in_leaf':1900, \n",
    "        'min_split_gain':0.00011,\n",
    "        'lambda_l2':9\n",
    "}\n",
    "\n",
    "print(\"And we have started traning our model\")\n",
    "model1 = lgb.train(  params, \n",
    "                    train_set = train_set,\n",
    "                    num_boost_round=9400,\n",
    "                    early_stopping_rounds=200,\n",
    "                    verbose_eval=100, \n",
    "                    valid_sets=[train_set,valid_set]\n",
    "                  )\n",
    "  \n",
    "    \n",
    "y_pred=model1.predict(X_test, num_iteration=model1.best_iteration)    \n",
    "print('The rmse of Baseline Lightgbm is :', sqrt(mean_squared_error(y_test, y_pred)))\n",
    "lightgbm_base = sqrt(mean_squared_error(y_test, y_pred))\n",
    "\n"
   ]
  },
  {
   "cell_type": "markdown",
   "metadata": {},
   "source": [
    "## 1.6 LightGBM with Bayesian Optimization "
   ]
  },
  {
   "cell_type": "code",
   "execution_count": 13,
   "metadata": {},
   "outputs": [
    {
     "name": "stdout",
     "output_type": "stream",
     "text": [
      "|   iter    |  target   | baggin... | colsam... | featur... | learni... | max_depth | min_ch... | min_sp... | n_esti... | num_le... | subsample |\n",
      "-------------------------------------------------------------------------------------------------------------------------------------------------\n"
     ]
    },
    {
     "name": "stderr",
     "output_type": "stream",
     "text": [
      "C:\\Users\\chava\\Anaconda3\\envs\\tensorflow\\lib\\site-packages\\lightgbm\\engine.py:430: UserWarning:\n",
      "\n",
      "Found `num_iterations` in params. Will use it instead of argument\n",
      "\n",
      "C:\\Users\\chava\\Anaconda3\\envs\\tensorflow\\lib\\site-packages\\lightgbm\\engine.py:435: UserWarning:\n",
      "\n",
      "Found `early_stopping_round` in params. Will use it instead of argument\n",
      "\n"
     ]
    },
    {
     "name": "stdout",
     "output_type": "stream",
     "text": [
      "| \u001b[0m 1       \u001b[0m | \u001b[0m-29.64   \u001b[0m | \u001b[0m 0.9838  \u001b[0m | \u001b[0m 0.6422  \u001b[0m | \u001b[0m 0.703   \u001b[0m | \u001b[0m 0.05659 \u001b[0m | \u001b[0m 175.6   \u001b[0m | \u001b[0m 21.82   \u001b[0m | \u001b[0m 0.03329 \u001b[0m | \u001b[0m 5.415e+0\u001b[0m | \u001b[0m 31.62   \u001b[0m | \u001b[0m 0.5454  \u001b[0m |\n"
     ]
    },
    {
     "name": "stderr",
     "output_type": "stream",
     "text": [
      "C:\\Users\\chava\\Anaconda3\\envs\\tensorflow\\lib\\site-packages\\lightgbm\\engine.py:430: UserWarning:\n",
      "\n",
      "Found `num_iterations` in params. Will use it instead of argument\n",
      "\n",
      "C:\\Users\\chava\\Anaconda3\\envs\\tensorflow\\lib\\site-packages\\lightgbm\\engine.py:435: UserWarning:\n",
      "\n",
      "Found `early_stopping_round` in params. Will use it instead of argument\n",
      "\n"
     ]
    },
    {
     "name": "stdout",
     "output_type": "stream",
     "text": [
      "| \u001b[95m 2       \u001b[0m | \u001b[95m-29.52   \u001b[0m | \u001b[95m 0.8801  \u001b[0m | \u001b[95m 0.7152  \u001b[0m | \u001b[95m 0.7693  \u001b[0m | \u001b[95m 0.2358  \u001b[0m | \u001b[95m 593.0   \u001b[0m | \u001b[95m 14.22   \u001b[0m | \u001b[95m 0.07085 \u001b[0m | \u001b[95m 4.232e+0\u001b[0m | \u001b[95m 15.16   \u001b[0m | \u001b[95m 0.747   \u001b[0m |\n"
     ]
    },
    {
     "name": "stderr",
     "output_type": "stream",
     "text": [
      "C:\\Users\\chava\\Anaconda3\\envs\\tensorflow\\lib\\site-packages\\lightgbm\\engine.py:430: UserWarning:\n",
      "\n",
      "Found `num_iterations` in params. Will use it instead of argument\n",
      "\n",
      "C:\\Users\\chava\\Anaconda3\\envs\\tensorflow\\lib\\site-packages\\lightgbm\\engine.py:435: UserWarning:\n",
      "\n",
      "Found `early_stopping_round` in params. Will use it instead of argument\n",
      "\n"
     ]
    },
    {
     "name": "stdout",
     "output_type": "stream",
     "text": [
      "| \u001b[0m 3       \u001b[0m | \u001b[0m-30.3    \u001b[0m | \u001b[0m 0.8905  \u001b[0m | \u001b[0m 0.1758  \u001b[0m | \u001b[0m 0.1395  \u001b[0m | \u001b[0m 0.1177  \u001b[0m | \u001b[0m 134.5   \u001b[0m | \u001b[0m 21.27   \u001b[0m | \u001b[0m 0.007313\u001b[0m | \u001b[0m 4.325e+0\u001b[0m | \u001b[0m 42.78   \u001b[0m | \u001b[0m 0.152   \u001b[0m |\n"
     ]
    },
    {
     "name": "stderr",
     "output_type": "stream",
     "text": [
      "C:\\Users\\chava\\Anaconda3\\envs\\tensorflow\\lib\\site-packages\\lightgbm\\engine.py:430: UserWarning:\n",
      "\n",
      "Found `num_iterations` in params. Will use it instead of argument\n",
      "\n",
      "C:\\Users\\chava\\Anaconda3\\envs\\tensorflow\\lib\\site-packages\\lightgbm\\engine.py:435: UserWarning:\n",
      "\n",
      "Found `early_stopping_round` in params. Will use it instead of argument\n",
      "\n"
     ]
    },
    {
     "name": "stdout",
     "output_type": "stream",
     "text": [
      "| \u001b[0m 4       \u001b[0m | \u001b[0m-31.83   \u001b[0m | \u001b[0m 0.9093  \u001b[0m | \u001b[0m 0.4433  \u001b[0m | \u001b[0m 0.1288  \u001b[0m | \u001b[0m 0.3293  \u001b[0m | \u001b[0m 547.3   \u001b[0m | \u001b[0m 12.53   \u001b[0m | \u001b[0m 0.06479 \u001b[0m | \u001b[0m 1.084e+0\u001b[0m | \u001b[0m 41.79   \u001b[0m | \u001b[0m 0.3857  \u001b[0m |\n"
     ]
    },
    {
     "name": "stderr",
     "output_type": "stream",
     "text": [
      "C:\\Users\\chava\\Anaconda3\\envs\\tensorflow\\lib\\site-packages\\lightgbm\\engine.py:430: UserWarning:\n",
      "\n",
      "Found `num_iterations` in params. Will use it instead of argument\n",
      "\n",
      "C:\\Users\\chava\\Anaconda3\\envs\\tensorflow\\lib\\site-packages\\lightgbm\\engine.py:435: UserWarning:\n",
      "\n",
      "Found `early_stopping_round` in params. Will use it instead of argument\n",
      "\n"
     ]
    },
    {
     "name": "stdout",
     "output_type": "stream",
     "text": [
      "| \u001b[0m 5       \u001b[0m | \u001b[0m-29.64   \u001b[0m | \u001b[0m 0.8891  \u001b[0m | \u001b[0m 0.9771  \u001b[0m | \u001b[0m 0.6835  \u001b[0m | \u001b[0m 0.1256  \u001b[0m | \u001b[0m 1.79e+03\u001b[0m | \u001b[0m 21.75   \u001b[0m | \u001b[0m 0.02694 \u001b[0m | \u001b[0m 3.102e+0\u001b[0m | \u001b[0m 21.65   \u001b[0m | \u001b[0m 0.4222  \u001b[0m |\n"
     ]
    },
    {
     "name": "stderr",
     "output_type": "stream",
     "text": [
      "C:\\Users\\chava\\Anaconda3\\envs\\tensorflow\\lib\\site-packages\\lightgbm\\engine.py:430: UserWarning:\n",
      "\n",
      "Found `num_iterations` in params. Will use it instead of argument\n",
      "\n",
      "C:\\Users\\chava\\Anaconda3\\envs\\tensorflow\\lib\\site-packages\\lightgbm\\engine.py:435: UserWarning:\n",
      "\n",
      "Found `early_stopping_round` in params. Will use it instead of argument\n",
      "\n"
     ]
    },
    {
     "name": "stdout",
     "output_type": "stream",
     "text": [
      "| \u001b[0m 6       \u001b[0m | \u001b[0m-30.76   \u001b[0m | \u001b[0m 0.988   \u001b[0m | \u001b[0m 0.367   \u001b[0m | \u001b[0m 0.4478  \u001b[0m | \u001b[0m 0.3669  \u001b[0m | \u001b[0m 1.895e+0\u001b[0m | \u001b[0m 13.82   \u001b[0m | \u001b[0m 0.07126 \u001b[0m | \u001b[0m 509.3   \u001b[0m | \u001b[0m 22.13   \u001b[0m | \u001b[0m 0.5065  \u001b[0m |\n"
     ]
    },
    {
     "name": "stderr",
     "output_type": "stream",
     "text": [
      "C:\\Users\\chava\\Anaconda3\\envs\\tensorflow\\lib\\site-packages\\lightgbm\\engine.py:430: UserWarning:\n",
      "\n",
      "Found `num_iterations` in params. Will use it instead of argument\n",
      "\n",
      "C:\\Users\\chava\\Anaconda3\\envs\\tensorflow\\lib\\site-packages\\lightgbm\\engine.py:435: UserWarning:\n",
      "\n",
      "Found `early_stopping_round` in params. Will use it instead of argument\n",
      "\n"
     ]
    },
    {
     "name": "stdout",
     "output_type": "stream",
     "text": [
      "| \u001b[0m 7       \u001b[0m | \u001b[0m-30.17   \u001b[0m | \u001b[0m 0.9178  \u001b[0m | \u001b[0m 0.3269  \u001b[0m | \u001b[0m 0.2159  \u001b[0m | \u001b[0m 0.1038  \u001b[0m | \u001b[0m 1.715e+0\u001b[0m | \u001b[0m 20.26   \u001b[0m | \u001b[0m 0.09986 \u001b[0m | \u001b[0m 3.201e+0\u001b[0m | \u001b[0m 50.81   \u001b[0m | \u001b[0m 0.8676  \u001b[0m |\n"
     ]
    },
    {
     "name": "stderr",
     "output_type": "stream",
     "text": [
      "C:\\Users\\chava\\Anaconda3\\envs\\tensorflow\\lib\\site-packages\\lightgbm\\engine.py:430: UserWarning:\n",
      "\n",
      "Found `num_iterations` in params. Will use it instead of argument\n",
      "\n",
      "C:\\Users\\chava\\Anaconda3\\envs\\tensorflow\\lib\\site-packages\\lightgbm\\engine.py:435: UserWarning:\n",
      "\n",
      "Found `early_stopping_round` in params. Will use it instead of argument\n",
      "\n"
     ]
    },
    {
     "name": "stdout",
     "output_type": "stream",
     "text": [
      "| \u001b[95m 8       \u001b[0m | \u001b[95m-29.5    \u001b[0m | \u001b[95m 0.9277  \u001b[0m | \u001b[95m 0.3319  \u001b[0m | \u001b[95m 0.5336  \u001b[0m | \u001b[95m 0.04582 \u001b[0m | \u001b[95m 1.633e+0\u001b[0m | \u001b[95m 13.31   \u001b[0m | \u001b[95m 0.05198 \u001b[0m | \u001b[95m 5.266e+0\u001b[0m | \u001b[95m 34.94   \u001b[0m | \u001b[95m 0.9044  \u001b[0m |\n"
     ]
    },
    {
     "name": "stderr",
     "output_type": "stream",
     "text": [
      "C:\\Users\\chava\\Anaconda3\\envs\\tensorflow\\lib\\site-packages\\lightgbm\\engine.py:430: UserWarning:\n",
      "\n",
      "Found `num_iterations` in params. Will use it instead of argument\n",
      "\n",
      "C:\\Users\\chava\\Anaconda3\\envs\\tensorflow\\lib\\site-packages\\lightgbm\\engine.py:435: UserWarning:\n",
      "\n",
      "Found `early_stopping_round` in params. Will use it instead of argument\n",
      "\n"
     ]
    },
    {
     "name": "stdout",
     "output_type": "stream",
     "text": [
      "| \u001b[0m 9       \u001b[0m | \u001b[0m-29.58   \u001b[0m | \u001b[0m 0.8841  \u001b[0m | \u001b[0m 0.949   \u001b[0m | \u001b[0m 0.7292  \u001b[0m | \u001b[0m 0.1931  \u001b[0m | \u001b[0m 24.83   \u001b[0m | \u001b[0m 10.9    \u001b[0m | \u001b[0m 0.08275 \u001b[0m | \u001b[0m 4.052e+0\u001b[0m | \u001b[0m 14.78   \u001b[0m | \u001b[0m 0.2596  \u001b[0m |\n"
     ]
    },
    {
     "name": "stderr",
     "output_type": "stream",
     "text": [
      "C:\\Users\\chava\\Anaconda3\\envs\\tensorflow\\lib\\site-packages\\lightgbm\\engine.py:430: UserWarning:\n",
      "\n",
      "Found `num_iterations` in params. Will use it instead of argument\n",
      "\n",
      "C:\\Users\\chava\\Anaconda3\\envs\\tensorflow\\lib\\site-packages\\lightgbm\\engine.py:435: UserWarning:\n",
      "\n",
      "Found `early_stopping_round` in params. Will use it instead of argument\n",
      "\n"
     ]
    },
    {
     "name": "stdout",
     "output_type": "stream",
     "text": [
      "| \u001b[0m 10      \u001b[0m | \u001b[0m-30.62   \u001b[0m | \u001b[0m 0.8562  \u001b[0m | \u001b[0m 0.9433  \u001b[0m | \u001b[0m 0.8149  \u001b[0m | \u001b[0m 0.08171 \u001b[0m | \u001b[0m 201.6   \u001b[0m | \u001b[0m 18.6    \u001b[0m | \u001b[0m 0.07479 \u001b[0m | \u001b[0m 6.012e+0\u001b[0m | \u001b[0m 91.83   \u001b[0m | \u001b[0m 0.9386  \u001b[0m |\n"
     ]
    },
    {
     "name": "stderr",
     "output_type": "stream",
     "text": [
      "C:\\Users\\chava\\Anaconda3\\envs\\tensorflow\\lib\\site-packages\\lightgbm\\engine.py:430: UserWarning:\n",
      "\n",
      "Found `num_iterations` in params. Will use it instead of argument\n",
      "\n",
      "C:\\Users\\chava\\Anaconda3\\envs\\tensorflow\\lib\\site-packages\\lightgbm\\engine.py:435: UserWarning:\n",
      "\n",
      "Found `early_stopping_round` in params. Will use it instead of argument\n",
      "\n"
     ]
    },
    {
     "name": "stdout",
     "output_type": "stream",
     "text": [
      "| \u001b[0m 11      \u001b[0m | \u001b[0m-30.42   \u001b[0m | \u001b[0m 0.9123  \u001b[0m | \u001b[0m 0.8908  \u001b[0m | \u001b[0m 0.35    \u001b[0m | \u001b[0m 0.3087  \u001b[0m | \u001b[0m 428.1   \u001b[0m | \u001b[0m 14.33   \u001b[0m | \u001b[0m 0.02807 \u001b[0m | \u001b[0m 2.493e+0\u001b[0m | \u001b[0m 11.3    \u001b[0m | \u001b[0m 0.6091  \u001b[0m |\n"
     ]
    },
    {
     "name": "stderr",
     "output_type": "stream",
     "text": [
      "C:\\Users\\chava\\Anaconda3\\envs\\tensorflow\\lib\\site-packages\\lightgbm\\engine.py:430: UserWarning:\n",
      "\n",
      "Found `num_iterations` in params. Will use it instead of argument\n",
      "\n",
      "C:\\Users\\chava\\Anaconda3\\envs\\tensorflow\\lib\\site-packages\\lightgbm\\engine.py:435: UserWarning:\n",
      "\n",
      "Found `early_stopping_round` in params. Will use it instead of argument\n",
      "\n"
     ]
    },
    {
     "name": "stdout",
     "output_type": "stream",
     "text": [
      "| \u001b[0m 12      \u001b[0m | \u001b[0m-30.45   \u001b[0m | \u001b[0m 0.9724  \u001b[0m | \u001b[0m 0.2591  \u001b[0m | \u001b[0m 0.7935  \u001b[0m | \u001b[0m 0.1712  \u001b[0m | \u001b[0m 321.6   \u001b[0m | \u001b[0m 10.85   \u001b[0m | \u001b[0m 0.04286 \u001b[0m | \u001b[0m 7.363e+0\u001b[0m | \u001b[0m 52.93   \u001b[0m | \u001b[0m 0.7007  \u001b[0m |\n"
     ]
    },
    {
     "name": "stderr",
     "output_type": "stream",
     "text": [
      "C:\\Users\\chava\\Anaconda3\\envs\\tensorflow\\lib\\site-packages\\lightgbm\\engine.py:430: UserWarning:\n",
      "\n",
      "Found `num_iterations` in params. Will use it instead of argument\n",
      "\n",
      "C:\\Users\\chava\\Anaconda3\\envs\\tensorflow\\lib\\site-packages\\lightgbm\\engine.py:435: UserWarning:\n",
      "\n",
      "Found `early_stopping_round` in params. Will use it instead of argument\n",
      "\n"
     ]
    },
    {
     "name": "stdout",
     "output_type": "stream",
     "text": [
      "| \u001b[0m 13      \u001b[0m | \u001b[0m-29.82   \u001b[0m | \u001b[0m 0.8     \u001b[0m | \u001b[0m 1.0     \u001b[0m | \u001b[0m 0.9     \u001b[0m | \u001b[0m 0.4     \u001b[0m | \u001b[0m 2e+03   \u001b[0m | \u001b[0m 25.0    \u001b[0m | \u001b[0m 0.001   \u001b[0m | \u001b[0m 2.737e+0\u001b[0m | \u001b[0m 10.0    \u001b[0m | \u001b[0m 0.0     \u001b[0m |\n"
     ]
    },
    {
     "name": "stderr",
     "output_type": "stream",
     "text": [
      "C:\\Users\\chava\\Anaconda3\\envs\\tensorflow\\lib\\site-packages\\lightgbm\\engine.py:430: UserWarning:\n",
      "\n",
      "Found `num_iterations` in params. Will use it instead of argument\n",
      "\n",
      "C:\\Users\\chava\\Anaconda3\\envs\\tensorflow\\lib\\site-packages\\lightgbm\\engine.py:435: UserWarning:\n",
      "\n",
      "Found `early_stopping_round` in params. Will use it instead of argument\n",
      "\n"
     ]
    },
    {
     "name": "stdout",
     "output_type": "stream",
     "text": [
      "| \u001b[0m 14      \u001b[0m | \u001b[0m-29.57   \u001b[0m | \u001b[0m 0.8     \u001b[0m | \u001b[0m 1.0     \u001b[0m | \u001b[0m 0.9     \u001b[0m | \u001b[0m 0.2851  \u001b[0m | \u001b[0m 420.5   \u001b[0m | \u001b[0m 10.0    \u001b[0m | \u001b[0m 0.1     \u001b[0m | \u001b[0m 3.722e+0\u001b[0m | \u001b[0m 10.0    \u001b[0m | \u001b[0m 0.8473  \u001b[0m |\n"
     ]
    },
    {
     "name": "stderr",
     "output_type": "stream",
     "text": [
      "C:\\Users\\chava\\Anaconda3\\envs\\tensorflow\\lib\\site-packages\\lightgbm\\engine.py:430: UserWarning:\n",
      "\n",
      "Found `num_iterations` in params. Will use it instead of argument\n",
      "\n",
      "C:\\Users\\chava\\Anaconda3\\envs\\tensorflow\\lib\\site-packages\\lightgbm\\engine.py:435: UserWarning:\n",
      "\n",
      "Found `early_stopping_round` in params. Will use it instead of argument\n",
      "\n"
     ]
    },
    {
     "name": "stdout",
     "output_type": "stream",
     "text": [
      "| \u001b[0m 15      \u001b[0m | \u001b[0m-54.54   \u001b[0m | \u001b[0m 0.9436  \u001b[0m | \u001b[0m 1.0     \u001b[0m | \u001b[0m 0.9     \u001b[0m | \u001b[0m 0.001   \u001b[0m | \u001b[0m 1.104e+0\u001b[0m | \u001b[0m 11.06   \u001b[0m | \u001b[0m 0.001   \u001b[0m | \u001b[0m 4.828e+0\u001b[0m | \u001b[0m 16.06   \u001b[0m | \u001b[0m 1.0     \u001b[0m |\n"
     ]
    },
    {
     "name": "stderr",
     "output_type": "stream",
     "text": [
      "C:\\Users\\chava\\Anaconda3\\envs\\tensorflow\\lib\\site-packages\\lightgbm\\engine.py:430: UserWarning:\n",
      "\n",
      "Found `num_iterations` in params. Will use it instead of argument\n",
      "\n",
      "C:\\Users\\chava\\Anaconda3\\envs\\tensorflow\\lib\\site-packages\\lightgbm\\engine.py:435: UserWarning:\n",
      "\n",
      "Found `early_stopping_round` in params. Will use it instead of argument\n",
      "\n"
     ]
    },
    {
     "name": "stdout",
     "output_type": "stream",
     "text": [
      "| \u001b[0m 16      \u001b[0m | \u001b[0m-29.55   \u001b[0m | \u001b[0m 0.8495  \u001b[0m | \u001b[0m 0.8072  \u001b[0m | \u001b[0m 0.7555  \u001b[0m | \u001b[0m 0.2201  \u001b[0m | \u001b[0m 381.4   \u001b[0m | \u001b[0m 12.66   \u001b[0m | \u001b[0m 0.08315 \u001b[0m | \u001b[0m 4.043e+0\u001b[0m | \u001b[0m 15.31   \u001b[0m | \u001b[0m 0.6088  \u001b[0m |\n"
     ]
    },
    {
     "name": "stderr",
     "output_type": "stream",
     "text": [
      "C:\\Users\\chava\\Anaconda3\\envs\\tensorflow\\lib\\site-packages\\lightgbm\\engine.py:430: UserWarning:\n",
      "\n",
      "Found `num_iterations` in params. Will use it instead of argument\n",
      "\n",
      "C:\\Users\\chava\\Anaconda3\\envs\\tensorflow\\lib\\site-packages\\lightgbm\\engine.py:435: UserWarning:\n",
      "\n",
      "Found `early_stopping_round` in params. Will use it instead of argument\n",
      "\n"
     ]
    },
    {
     "name": "stdout",
     "output_type": "stream",
     "text": [
      "| \u001b[0m 17      \u001b[0m | \u001b[0m-29.59   \u001b[0m | \u001b[0m 0.8054  \u001b[0m | \u001b[0m 0.8755  \u001b[0m | \u001b[0m 0.7101  \u001b[0m | \u001b[0m 0.2064  \u001b[0m | \u001b[0m 220.0   \u001b[0m | \u001b[0m 11.16   \u001b[0m | \u001b[0m 0.03846 \u001b[0m | \u001b[0m 3.879e+0\u001b[0m | \u001b[0m 14.59   \u001b[0m | \u001b[0m 0.5463  \u001b[0m |\n"
     ]
    },
    {
     "name": "stderr",
     "output_type": "stream",
     "text": [
      "C:\\Users\\chava\\Anaconda3\\envs\\tensorflow\\lib\\site-packages\\lightgbm\\engine.py:430: UserWarning:\n",
      "\n",
      "Found `num_iterations` in params. Will use it instead of argument\n",
      "\n",
      "C:\\Users\\chava\\Anaconda3\\envs\\tensorflow\\lib\\site-packages\\lightgbm\\engine.py:435: UserWarning:\n",
      "\n",
      "Found `early_stopping_round` in params. Will use it instead of argument\n",
      "\n"
     ]
    },
    {
     "name": "stdout",
     "output_type": "stream",
     "text": [
      "| \u001b[0m 18      \u001b[0m | \u001b[0m-29.51   \u001b[0m | \u001b[0m 0.8184  \u001b[0m | \u001b[0m 0.7983  \u001b[0m | \u001b[0m 0.7753  \u001b[0m | \u001b[0m 0.3097  \u001b[0m | \u001b[0m 591.6   \u001b[0m | \u001b[0m 12.68   \u001b[0m | \u001b[0m 0.01832 \u001b[0m | \u001b[0m 3.985e+0\u001b[0m | \u001b[0m 11.85   \u001b[0m | \u001b[0m 0.8668  \u001b[0m |\n"
     ]
    },
    {
     "name": "stderr",
     "output_type": "stream",
     "text": [
      "C:\\Users\\chava\\Anaconda3\\envs\\tensorflow\\lib\\site-packages\\lightgbm\\engine.py:430: UserWarning:\n",
      "\n",
      "Found `num_iterations` in params. Will use it instead of argument\n",
      "\n",
      "C:\\Users\\chava\\Anaconda3\\envs\\tensorflow\\lib\\site-packages\\lightgbm\\engine.py:435: UserWarning:\n",
      "\n",
      "Found `early_stopping_round` in params. Will use it instead of argument\n",
      "\n"
     ]
    },
    {
     "name": "stdout",
     "output_type": "stream",
     "text": [
      "| \u001b[0m 19      \u001b[0m | \u001b[0m-62.83   \u001b[0m | \u001b[0m 1.0     \u001b[0m | \u001b[0m 0.0     \u001b[0m | \u001b[0m 0.1     \u001b[0m | \u001b[0m 0.001   \u001b[0m | \u001b[0m 436.3   \u001b[0m | \u001b[0m 25.0    \u001b[0m | \u001b[0m 0.1     \u001b[0m | \u001b[0m 3.879e+0\u001b[0m | \u001b[0m 100.0   \u001b[0m | \u001b[0m 0.0     \u001b[0m |\n"
     ]
    },
    {
     "name": "stderr",
     "output_type": "stream",
     "text": [
      "C:\\Users\\chava\\Anaconda3\\envs\\tensorflow\\lib\\site-packages\\lightgbm\\engine.py:430: UserWarning:\n",
      "\n",
      "Found `num_iterations` in params. Will use it instead of argument\n",
      "\n",
      "C:\\Users\\chava\\Anaconda3\\envs\\tensorflow\\lib\\site-packages\\lightgbm\\engine.py:435: UserWarning:\n",
      "\n",
      "Found `early_stopping_round` in params. Will use it instead of argument\n",
      "\n"
     ]
    },
    {
     "name": "stdout",
     "output_type": "stream",
     "text": [
      "| \u001b[0m 20      \u001b[0m | \u001b[0m-29.76   \u001b[0m | \u001b[0m 0.8492  \u001b[0m | \u001b[0m 0.2215  \u001b[0m | \u001b[0m 0.7622  \u001b[0m | \u001b[0m 0.05406 \u001b[0m | \u001b[0m 1.622e+0\u001b[0m | \u001b[0m 20.02   \u001b[0m | \u001b[0m 0.05359 \u001b[0m | \u001b[0m 5.263e+0\u001b[0m | \u001b[0m 42.26   \u001b[0m | \u001b[0m 0.309   \u001b[0m |\n"
     ]
    },
    {
     "name": "stderr",
     "output_type": "stream",
     "text": [
      "C:\\Users\\chava\\Anaconda3\\envs\\tensorflow\\lib\\site-packages\\lightgbm\\engine.py:430: UserWarning:\n",
      "\n",
      "Found `num_iterations` in params. Will use it instead of argument\n",
      "\n",
      "C:\\Users\\chava\\Anaconda3\\envs\\tensorflow\\lib\\site-packages\\lightgbm\\engine.py:435: UserWarning:\n",
      "\n",
      "Found `early_stopping_round` in params. Will use it instead of argument\n",
      "\n"
     ]
    },
    {
     "name": "stdout",
     "output_type": "stream",
     "text": [
      "| \u001b[0m 21      \u001b[0m | \u001b[0m-30.3    \u001b[0m | \u001b[0m 0.963   \u001b[0m | \u001b[0m 0.4702  \u001b[0m | \u001b[0m 0.5951  \u001b[0m | \u001b[0m 0.2553  \u001b[0m | \u001b[0m 1.64e+03\u001b[0m | \u001b[0m 15.88   \u001b[0m | \u001b[0m 0.02428 \u001b[0m | \u001b[0m 5.246e+0\u001b[0m | \u001b[0m 37.12   \u001b[0m | \u001b[0m 0.8984  \u001b[0m |\n"
     ]
    },
    {
     "name": "stderr",
     "output_type": "stream",
     "text": [
      "C:\\Users\\chava\\Anaconda3\\envs\\tensorflow\\lib\\site-packages\\lightgbm\\engine.py:430: UserWarning:\n",
      "\n",
      "Found `num_iterations` in params. Will use it instead of argument\n",
      "\n",
      "C:\\Users\\chava\\Anaconda3\\envs\\tensorflow\\lib\\site-packages\\lightgbm\\engine.py:435: UserWarning:\n",
      "\n",
      "Found `early_stopping_round` in params. Will use it instead of argument\n",
      "\n"
     ]
    },
    {
     "name": "stdout",
     "output_type": "stream",
     "text": [
      "| \u001b[0m 22      \u001b[0m | \u001b[0m-29.86   \u001b[0m | \u001b[0m 0.9794  \u001b[0m | \u001b[0m 0.721   \u001b[0m | \u001b[0m 0.2024  \u001b[0m | \u001b[0m 0.09296 \u001b[0m | \u001b[0m 1.621e+0\u001b[0m | \u001b[0m 16.17   \u001b[0m | \u001b[0m 0.05006 \u001b[0m | \u001b[0m 5.266e+0\u001b[0m | \u001b[0m 16.76   \u001b[0m | \u001b[0m 0.5379  \u001b[0m |\n"
     ]
    },
    {
     "name": "stderr",
     "output_type": "stream",
     "text": [
      "C:\\Users\\chava\\Anaconda3\\envs\\tensorflow\\lib\\site-packages\\lightgbm\\engine.py:430: UserWarning:\n",
      "\n",
      "Found `num_iterations` in params. Will use it instead of argument\n",
      "\n",
      "C:\\Users\\chava\\Anaconda3\\envs\\tensorflow\\lib\\site-packages\\lightgbm\\engine.py:435: UserWarning:\n",
      "\n",
      "Found `early_stopping_round` in params. Will use it instead of argument\n",
      "\n"
     ]
    },
    {
     "name": "stdout",
     "output_type": "stream",
     "text": [
      "| \u001b[0m 23      \u001b[0m | \u001b[0m-29.74   \u001b[0m | \u001b[0m 0.896   \u001b[0m | \u001b[0m 0.8308  \u001b[0m | \u001b[0m 0.5781  \u001b[0m | \u001b[0m 0.1208  \u001b[0m | \u001b[0m 1.773e+0\u001b[0m | \u001b[0m 21.4    \u001b[0m | \u001b[0m 0.04339 \u001b[0m | \u001b[0m 3.124e+0\u001b[0m | \u001b[0m 28.17   \u001b[0m | \u001b[0m 0.5213  \u001b[0m |\n"
     ]
    },
    {
     "name": "stderr",
     "output_type": "stream",
     "text": [
      "C:\\Users\\chava\\Anaconda3\\envs\\tensorflow\\lib\\site-packages\\lightgbm\\engine.py:430: UserWarning:\n",
      "\n",
      "Found `num_iterations` in params. Will use it instead of argument\n",
      "\n",
      "C:\\Users\\chava\\Anaconda3\\envs\\tensorflow\\lib\\site-packages\\lightgbm\\engine.py:435: UserWarning:\n",
      "\n",
      "Found `early_stopping_round` in params. Will use it instead of argument\n",
      "\n"
     ]
    },
    {
     "name": "stdout",
     "output_type": "stream",
     "text": [
      "| \u001b[0m 24      \u001b[0m | \u001b[0m-30.16   \u001b[0m | \u001b[0m 0.8     \u001b[0m | \u001b[0m 1.0     \u001b[0m | \u001b[0m 0.9     \u001b[0m | \u001b[0m 0.4     \u001b[0m | \u001b[0m 1.637e+0\u001b[0m | \u001b[0m 25.0    \u001b[0m | \u001b[0m 0.1     \u001b[0m | \u001b[0m 5.29e+03\u001b[0m | \u001b[0m 31.76   \u001b[0m | \u001b[0m 0.0     \u001b[0m |\n"
     ]
    },
    {
     "name": "stderr",
     "output_type": "stream",
     "text": [
      "C:\\Users\\chava\\Anaconda3\\envs\\tensorflow\\lib\\site-packages\\lightgbm\\engine.py:430: UserWarning:\n",
      "\n",
      "Found `num_iterations` in params. Will use it instead of argument\n",
      "\n",
      "C:\\Users\\chava\\Anaconda3\\envs\\tensorflow\\lib\\site-packages\\lightgbm\\engine.py:435: UserWarning:\n",
      "\n",
      "Found `early_stopping_round` in params. Will use it instead of argument\n",
      "\n"
     ]
    },
    {
     "name": "stdout",
     "output_type": "stream",
     "text": [
      "| \u001b[0m 25      \u001b[0m | \u001b[0m-30.78   \u001b[0m | \u001b[0m 0.8534  \u001b[0m | \u001b[0m 0.4376  \u001b[0m | \u001b[0m 0.5507  \u001b[0m | \u001b[0m 0.3586  \u001b[0m | \u001b[0m 1.804e+0\u001b[0m | \u001b[0m 13.02   \u001b[0m | \u001b[0m 0.06722 \u001b[0m | \u001b[0m 3.125e+0\u001b[0m | \u001b[0m 31.77   \u001b[0m | \u001b[0m 0.6526  \u001b[0m |\n"
     ]
    },
    {
     "name": "stderr",
     "output_type": "stream",
     "text": [
      "C:\\Users\\chava\\Anaconda3\\envs\\tensorflow\\lib\\site-packages\\lightgbm\\engine.py:430: UserWarning:\n",
      "\n",
      "Found `num_iterations` in params. Will use it instead of argument\n",
      "\n",
      "C:\\Users\\chava\\Anaconda3\\envs\\tensorflow\\lib\\site-packages\\lightgbm\\engine.py:435: UserWarning:\n",
      "\n",
      "Found `early_stopping_round` in params. Will use it instead of argument\n",
      "\n"
     ]
    },
    {
     "name": "stdout",
     "output_type": "stream",
     "text": [
      "| \u001b[0m 26      \u001b[0m | \u001b[0m-30.09   \u001b[0m | \u001b[0m 0.9016  \u001b[0m | \u001b[0m 0.296   \u001b[0m | \u001b[0m 0.341   \u001b[0m | \u001b[0m 0.1015  \u001b[0m | \u001b[0m 1.763e+0\u001b[0m | \u001b[0m 25.0    \u001b[0m | \u001b[0m 0.03565 \u001b[0m | \u001b[0m 3.094e+0\u001b[0m | \u001b[0m 36.7    \u001b[0m | \u001b[0m 0.5004  \u001b[0m |\n"
     ]
    },
    {
     "name": "stderr",
     "output_type": "stream",
     "text": [
      "C:\\Users\\chava\\Anaconda3\\envs\\tensorflow\\lib\\site-packages\\lightgbm\\engine.py:430: UserWarning:\n",
      "\n",
      "Found `num_iterations` in params. Will use it instead of argument\n",
      "\n",
      "C:\\Users\\chava\\Anaconda3\\envs\\tensorflow\\lib\\site-packages\\lightgbm\\engine.py:435: UserWarning:\n",
      "\n",
      "Found `early_stopping_round` in params. Will use it instead of argument\n",
      "\n"
     ]
    },
    {
     "name": "stdout",
     "output_type": "stream",
     "text": [
      "| \u001b[0m 27      \u001b[0m | \u001b[0m-29.59   \u001b[0m | \u001b[0m 0.826   \u001b[0m | \u001b[0m 0.9408  \u001b[0m | \u001b[0m 0.8612  \u001b[0m | \u001b[0m 0.2765  \u001b[0m | \u001b[0m 372.9   \u001b[0m | \u001b[0m 10.56   \u001b[0m | \u001b[0m 0.0924  \u001b[0m | \u001b[0m 4.07e+03\u001b[0m | \u001b[0m 10.0    \u001b[0m | \u001b[0m 0.7052  \u001b[0m |\n"
     ]
    },
    {
     "name": "stderr",
     "output_type": "stream",
     "text": [
      "C:\\Users\\chava\\Anaconda3\\envs\\tensorflow\\lib\\site-packages\\lightgbm\\engine.py:430: UserWarning:\n",
      "\n",
      "Found `num_iterations` in params. Will use it instead of argument\n",
      "\n",
      "C:\\Users\\chava\\Anaconda3\\envs\\tensorflow\\lib\\site-packages\\lightgbm\\engine.py:435: UserWarning:\n",
      "\n",
      "Found `early_stopping_round` in params. Will use it instead of argument\n",
      "\n"
     ]
    },
    {
     "name": "stdout",
     "output_type": "stream",
     "text": [
      "| \u001b[0m 28      \u001b[0m | \u001b[0m-30.82   \u001b[0m | \u001b[0m 1.0     \u001b[0m | \u001b[0m 0.0     \u001b[0m | \u001b[0m 0.1     \u001b[0m | \u001b[0m 0.3948  \u001b[0m | \u001b[0m 352.3   \u001b[0m | \u001b[0m 25.0    \u001b[0m | \u001b[0m 0.001   \u001b[0m | \u001b[0m 4.048e+0\u001b[0m | \u001b[0m 11.7    \u001b[0m | \u001b[0m 0.0     \u001b[0m |\n"
     ]
    },
    {
     "name": "stderr",
     "output_type": "stream",
     "text": [
      "C:\\Users\\chava\\Anaconda3\\envs\\tensorflow\\lib\\site-packages\\lightgbm\\engine.py:430: UserWarning:\n",
      "\n",
      "Found `num_iterations` in params. Will use it instead of argument\n",
      "\n",
      "C:\\Users\\chava\\Anaconda3\\envs\\tensorflow\\lib\\site-packages\\lightgbm\\engine.py:435: UserWarning:\n",
      "\n",
      "Found `early_stopping_round` in params. Will use it instead of argument\n",
      "\n"
     ]
    },
    {
     "name": "stdout",
     "output_type": "stream",
     "text": [
      "| \u001b[0m 29      \u001b[0m | \u001b[0m-29.62   \u001b[0m | \u001b[0m 0.8139  \u001b[0m | \u001b[0m 0.9494  \u001b[0m | \u001b[0m 0.8999  \u001b[0m | \u001b[0m 0.377   \u001b[0m | \u001b[0m 611.7   \u001b[0m | \u001b[0m 10.73   \u001b[0m | \u001b[0m 0.02074 \u001b[0m | \u001b[0m 4.006e+0\u001b[0m | \u001b[0m 10.0    \u001b[0m | \u001b[0m 0.9923  \u001b[0m |\n"
     ]
    },
    {
     "name": "stderr",
     "output_type": "stream",
     "text": [
      "C:\\Users\\chava\\Anaconda3\\envs\\tensorflow\\lib\\site-packages\\lightgbm\\engine.py:430: UserWarning:\n",
      "\n",
      "Found `num_iterations` in params. Will use it instead of argument\n",
      "\n",
      "C:\\Users\\chava\\Anaconda3\\envs\\tensorflow\\lib\\site-packages\\lightgbm\\engine.py:435: UserWarning:\n",
      "\n",
      "Found `early_stopping_round` in params. Will use it instead of argument\n",
      "\n"
     ]
    },
    {
     "name": "stdout",
     "output_type": "stream",
     "text": [
      "| \u001b[95m 30      \u001b[0m | \u001b[95m-29.33   \u001b[0m | \u001b[95m 0.8     \u001b[0m | \u001b[95m 1.0     \u001b[0m | \u001b[95m 0.9     \u001b[0m | \u001b[95m 0.02257 \u001b[0m | \u001b[95m 407.5   \u001b[0m | \u001b[95m 10.0    \u001b[0m | \u001b[95m 0.1     \u001b[0m | \u001b[95m 4.065e+0\u001b[0m | \u001b[95m 10.0    \u001b[0m | \u001b[95m 1.0     \u001b[0m |\n"
     ]
    },
    {
     "name": "stderr",
     "output_type": "stream",
     "text": [
      "C:\\Users\\chava\\Anaconda3\\envs\\tensorflow\\lib\\site-packages\\lightgbm\\engine.py:430: UserWarning:\n",
      "\n",
      "Found `num_iterations` in params. Will use it instead of argument\n",
      "\n",
      "C:\\Users\\chava\\Anaconda3\\envs\\tensorflow\\lib\\site-packages\\lightgbm\\engine.py:435: UserWarning:\n",
      "\n",
      "Found `early_stopping_round` in params. Will use it instead of argument\n",
      "\n"
     ]
    },
    {
     "name": "stdout",
     "output_type": "stream",
     "text": [
      "| \u001b[0m 31      \u001b[0m | \u001b[0m-29.59   \u001b[0m | \u001b[0m 0.8     \u001b[0m | \u001b[0m 0.7721  \u001b[0m | \u001b[0m 0.6459  \u001b[0m | \u001b[0m 0.3148  \u001b[0m | \u001b[0m 623.5   \u001b[0m | \u001b[0m 13.57   \u001b[0m | \u001b[0m 0.0353  \u001b[0m | \u001b[0m 3.972e+0\u001b[0m | \u001b[0m 10.0    \u001b[0m | \u001b[0m 0.9788  \u001b[0m |\n"
     ]
    },
    {
     "name": "stderr",
     "output_type": "stream",
     "text": [
      "C:\\Users\\chava\\Anaconda3\\envs\\tensorflow\\lib\\site-packages\\lightgbm\\engine.py:430: UserWarning:\n",
      "\n",
      "Found `num_iterations` in params. Will use it instead of argument\n",
      "\n",
      "C:\\Users\\chava\\Anaconda3\\envs\\tensorflow\\lib\\site-packages\\lightgbm\\engine.py:435: UserWarning:\n",
      "\n",
      "Found `early_stopping_round` in params. Will use it instead of argument\n",
      "\n"
     ]
    },
    {
     "name": "stdout",
     "output_type": "stream",
     "text": [
      "| \u001b[0m 32      \u001b[0m | \u001b[0m-30.27   \u001b[0m | \u001b[0m 0.9574  \u001b[0m | \u001b[0m 0.6915  \u001b[0m | \u001b[0m 0.8399  \u001b[0m | \u001b[0m 0.1768  \u001b[0m | \u001b[0m 406.2   \u001b[0m | \u001b[0m 12.56   \u001b[0m | \u001b[0m 0.08133 \u001b[0m | \u001b[0m 4.067e+0\u001b[0m | \u001b[0m 40.95   \u001b[0m | \u001b[0m 0.04957 \u001b[0m |\n"
     ]
    },
    {
     "name": "stderr",
     "output_type": "stream",
     "text": [
      "C:\\Users\\chava\\Anaconda3\\envs\\tensorflow\\lib\\site-packages\\lightgbm\\engine.py:430: UserWarning:\n",
      "\n",
      "Found `num_iterations` in params. Will use it instead of argument\n",
      "\n",
      "C:\\Users\\chava\\Anaconda3\\envs\\tensorflow\\lib\\site-packages\\lightgbm\\engine.py:435: UserWarning:\n",
      "\n",
      "Found `early_stopping_round` in params. Will use it instead of argument\n",
      "\n"
     ]
    },
    {
     "name": "stdout",
     "output_type": "stream",
     "text": [
      "| \u001b[0m 33      \u001b[0m | \u001b[0m-62.84   \u001b[0m | \u001b[0m 0.8     \u001b[0m | \u001b[0m 0.0     \u001b[0m | \u001b[0m 0.1     \u001b[0m | \u001b[0m 0.001   \u001b[0m | \u001b[0m 611.5   \u001b[0m | \u001b[0m 25.0    \u001b[0m | \u001b[0m 0.001   \u001b[0m | \u001b[0m 3.988e+0\u001b[0m | \u001b[0m 40.12   \u001b[0m | \u001b[0m 0.0     \u001b[0m |\n"
     ]
    },
    {
     "name": "stderr",
     "output_type": "stream",
     "text": [
      "C:\\Users\\chava\\Anaconda3\\envs\\tensorflow\\lib\\site-packages\\lightgbm\\engine.py:430: UserWarning:\n",
      "\n",
      "Found `num_iterations` in params. Will use it instead of argument\n",
      "\n",
      "C:\\Users\\chava\\Anaconda3\\envs\\tensorflow\\lib\\site-packages\\lightgbm\\engine.py:435: UserWarning:\n",
      "\n",
      "Found `early_stopping_round` in params. Will use it instead of argument\n",
      "\n"
     ]
    },
    {
     "name": "stdout",
     "output_type": "stream",
     "text": [
      "| \u001b[0m 34      \u001b[0m | \u001b[0m-30.31   \u001b[0m | \u001b[0m 0.8509  \u001b[0m | \u001b[0m 0.9473  \u001b[0m | \u001b[0m 0.7511  \u001b[0m | \u001b[0m 0.3589  \u001b[0m | \u001b[0m 1.625e+0\u001b[0m | \u001b[0m 24.9    \u001b[0m | \u001b[0m 0.09808 \u001b[0m | \u001b[0m 5.267e+0\u001b[0m | \u001b[0m 39.85   \u001b[0m | \u001b[0m 0.7321  \u001b[0m |\n"
     ]
    },
    {
     "name": "stderr",
     "output_type": "stream",
     "text": [
      "C:\\Users\\chava\\Anaconda3\\envs\\tensorflow\\lib\\site-packages\\lightgbm\\engine.py:430: UserWarning:\n",
      "\n",
      "Found `num_iterations` in params. Will use it instead of argument\n",
      "\n",
      "C:\\Users\\chava\\Anaconda3\\envs\\tensorflow\\lib\\site-packages\\lightgbm\\engine.py:435: UserWarning:\n",
      "\n",
      "Found `early_stopping_round` in params. Will use it instead of argument\n",
      "\n"
     ]
    },
    {
     "name": "stdout",
     "output_type": "stream",
     "text": [
      "| \u001b[0m 35      \u001b[0m | \u001b[0m-29.96   \u001b[0m | \u001b[0m 0.8911  \u001b[0m | \u001b[0m 0.8355  \u001b[0m | \u001b[0m 0.6066  \u001b[0m | \u001b[0m 0.1332  \u001b[0m | \u001b[0m 1.782e+0\u001b[0m | \u001b[0m 21.46   \u001b[0m | \u001b[0m 0.03616 \u001b[0m | \u001b[0m 3.111e+0\u001b[0m | \u001b[0m 25.98   \u001b[0m | \u001b[0m 0.4791  \u001b[0m |\n"
     ]
    },
    {
     "name": "stderr",
     "output_type": "stream",
     "text": [
      "C:\\Users\\chava\\Anaconda3\\envs\\tensorflow\\lib\\site-packages\\lightgbm\\engine.py:430: UserWarning:\n",
      "\n",
      "Found `num_iterations` in params. Will use it instead of argument\n",
      "\n",
      "C:\\Users\\chava\\Anaconda3\\envs\\tensorflow\\lib\\site-packages\\lightgbm\\engine.py:435: UserWarning:\n",
      "\n",
      "Found `early_stopping_round` in params. Will use it instead of argument\n",
      "\n"
     ]
    },
    {
     "name": "stdout",
     "output_type": "stream",
     "text": [
      "| \u001b[0m 36      \u001b[0m | \u001b[0m-31.21   \u001b[0m | \u001b[0m 0.8132  \u001b[0m | \u001b[0m 0.6696  \u001b[0m | \u001b[0m 0.1479  \u001b[0m | \u001b[0m 0.3112  \u001b[0m | \u001b[0m 1.637e+0\u001b[0m | \u001b[0m 15.65   \u001b[0m | \u001b[0m 0.04171 \u001b[0m | \u001b[0m 5.273e+0\u001b[0m | \u001b[0m 38.08   \u001b[0m | \u001b[0m 0.8892  \u001b[0m |\n"
     ]
    },
    {
     "name": "stderr",
     "output_type": "stream",
     "text": [
      "C:\\Users\\chava\\Anaconda3\\envs\\tensorflow\\lib\\site-packages\\lightgbm\\engine.py:430: UserWarning:\n",
      "\n",
      "Found `num_iterations` in params. Will use it instead of argument\n",
      "\n",
      "C:\\Users\\chava\\Anaconda3\\envs\\tensorflow\\lib\\site-packages\\lightgbm\\engine.py:435: UserWarning:\n",
      "\n",
      "Found `early_stopping_round` in params. Will use it instead of argument\n",
      "\n"
     ]
    },
    {
     "name": "stdout",
     "output_type": "stream",
     "text": [
      "| \u001b[0m 37      \u001b[0m | \u001b[0m-29.86   \u001b[0m | \u001b[0m 0.8937  \u001b[0m | \u001b[0m 0.2975  \u001b[0m | \u001b[0m 0.8209  \u001b[0m | \u001b[0m 0.1847  \u001b[0m | \u001b[0m 1.633e+0\u001b[0m | \u001b[0m 16.65   \u001b[0m | \u001b[0m 0.02177 \u001b[0m | \u001b[0m 5.268e+0\u001b[0m | \u001b[0m 33.51   \u001b[0m | \u001b[0m 0.0886  \u001b[0m |\n"
     ]
    },
    {
     "name": "stderr",
     "output_type": "stream",
     "text": [
      "C:\\Users\\chava\\Anaconda3\\envs\\tensorflow\\lib\\site-packages\\lightgbm\\engine.py:430: UserWarning:\n",
      "\n",
      "Found `num_iterations` in params. Will use it instead of argument\n",
      "\n",
      "C:\\Users\\chava\\Anaconda3\\envs\\tensorflow\\lib\\site-packages\\lightgbm\\engine.py:435: UserWarning:\n",
      "\n",
      "Found `early_stopping_round` in params. Will use it instead of argument\n",
      "\n"
     ]
    },
    {
     "name": "stdout",
     "output_type": "stream",
     "text": [
      "| \u001b[0m 38      \u001b[0m | \u001b[0m-30.1    \u001b[0m | \u001b[0m 0.841   \u001b[0m | \u001b[0m 0.5876  \u001b[0m | \u001b[0m 0.8792  \u001b[0m | \u001b[0m 0.3281  \u001b[0m | \u001b[0m 1.796e+0\u001b[0m | \u001b[0m 21.49   \u001b[0m | \u001b[0m 0.03637 \u001b[0m | \u001b[0m 3.111e+0\u001b[0m | \u001b[0m 27.49   \u001b[0m | \u001b[0m 0.7856  \u001b[0m |\n"
     ]
    },
    {
     "name": "stderr",
     "output_type": "stream",
     "text": [
      "C:\\Users\\chava\\Anaconda3\\envs\\tensorflow\\lib\\site-packages\\lightgbm\\engine.py:430: UserWarning:\n",
      "\n",
      "Found `num_iterations` in params. Will use it instead of argument\n",
      "\n",
      "C:\\Users\\chava\\Anaconda3\\envs\\tensorflow\\lib\\site-packages\\lightgbm\\engine.py:435: UserWarning:\n",
      "\n",
      "Found `early_stopping_round` in params. Will use it instead of argument\n",
      "\n"
     ]
    },
    {
     "name": "stdout",
     "output_type": "stream",
     "text": [
      "| \u001b[0m 39      \u001b[0m | \u001b[0m-29.35   \u001b[0m | \u001b[0m 0.8243  \u001b[0m | \u001b[0m 0.5213  \u001b[0m | \u001b[0m 0.432   \u001b[0m | \u001b[0m 0.01904 \u001b[0m | \u001b[0m 1.626e+0\u001b[0m | \u001b[0m 18.93   \u001b[0m | \u001b[0m 0.03166 \u001b[0m | \u001b[0m 5.269e+0\u001b[0m | \u001b[0m 25.06   \u001b[0m | \u001b[0m 0.991   \u001b[0m |\n"
     ]
    },
    {
     "name": "stderr",
     "output_type": "stream",
     "text": [
      "C:\\Users\\chava\\Anaconda3\\envs\\tensorflow\\lib\\site-packages\\lightgbm\\engine.py:430: UserWarning:\n",
      "\n",
      "Found `num_iterations` in params. Will use it instead of argument\n",
      "\n",
      "C:\\Users\\chava\\Anaconda3\\envs\\tensorflow\\lib\\site-packages\\lightgbm\\engine.py:435: UserWarning:\n",
      "\n",
      "Found `early_stopping_round` in params. Will use it instead of argument\n",
      "\n"
     ]
    },
    {
     "name": "stdout",
     "output_type": "stream",
     "text": [
      "| \u001b[0m 40      \u001b[0m | \u001b[0m-29.83   \u001b[0m | \u001b[0m 0.9358  \u001b[0m | \u001b[0m 0.6929  \u001b[0m | \u001b[0m 0.7775  \u001b[0m | \u001b[0m 0.1106  \u001b[0m | \u001b[0m 1.616e+0\u001b[0m | \u001b[0m 15.66   \u001b[0m | \u001b[0m 0.09774 \u001b[0m | \u001b[0m 5.26e+03\u001b[0m | \u001b[0m 33.83   \u001b[0m | \u001b[0m 0.2157  \u001b[0m |\n"
     ]
    },
    {
     "name": "stderr",
     "output_type": "stream",
     "text": [
      "C:\\Users\\chava\\Anaconda3\\envs\\tensorflow\\lib\\site-packages\\lightgbm\\engine.py:430: UserWarning:\n",
      "\n",
      "Found `num_iterations` in params. Will use it instead of argument\n",
      "\n",
      "C:\\Users\\chava\\Anaconda3\\envs\\tensorflow\\lib\\site-packages\\lightgbm\\engine.py:435: UserWarning:\n",
      "\n",
      "Found `early_stopping_round` in params. Will use it instead of argument\n",
      "\n"
     ]
    },
    {
     "name": "stdout",
     "output_type": "stream",
     "text": [
      "| \u001b[0m 41      \u001b[0m | \u001b[0m-29.77   \u001b[0m | \u001b[0m 0.9022  \u001b[0m | \u001b[0m 0.5861  \u001b[0m | \u001b[0m 0.6371  \u001b[0m | \u001b[0m 0.2947  \u001b[0m | \u001b[0m 418.8   \u001b[0m | \u001b[0m 13.58   \u001b[0m | \u001b[0m 0.09814 \u001b[0m | \u001b[0m 3.725e+0\u001b[0m | \u001b[0m 15.72   \u001b[0m | \u001b[0m 0.7983  \u001b[0m |\n"
     ]
    },
    {
     "name": "stderr",
     "output_type": "stream",
     "text": [
      "C:\\Users\\chava\\Anaconda3\\envs\\tensorflow\\lib\\site-packages\\lightgbm\\engine.py:430: UserWarning:\n",
      "\n",
      "Found `num_iterations` in params. Will use it instead of argument\n",
      "\n",
      "C:\\Users\\chava\\Anaconda3\\envs\\tensorflow\\lib\\site-packages\\lightgbm\\engine.py:435: UserWarning:\n",
      "\n",
      "Found `early_stopping_round` in params. Will use it instead of argument\n",
      "\n"
     ]
    },
    {
     "name": "stdout",
     "output_type": "stream",
     "text": [
      "| \u001b[0m 42      \u001b[0m | \u001b[0m-30.13   \u001b[0m | \u001b[0m 0.8225  \u001b[0m | \u001b[0m 0.3343  \u001b[0m | \u001b[0m 0.5029  \u001b[0m | \u001b[0m 0.2805  \u001b[0m | \u001b[0m 378.1   \u001b[0m | \u001b[0m 17.12   \u001b[0m | \u001b[0m 0.04251 \u001b[0m | \u001b[0m 4.061e+0\u001b[0m | \u001b[0m 15.17   \u001b[0m | \u001b[0m 0.6063  \u001b[0m |\n",
      "=================================================================================================================================================\n"
     ]
    },
    {
     "data": {
      "text/plain": [
       "{'target': -29.331421719467887,\n",
       " 'params': {'bagging_fraction': 0.8,\n",
       "  'colsample_bytree': 1.0,\n",
       "  'feature_fraction': 0.9,\n",
       "  'learning_rate': 0.022565510994799875,\n",
       "  'max_depth': 407.5489220510617,\n",
       "  'min_child_weight': 10.0,\n",
       "  'min_split_gain': 0.1,\n",
       "  'n_estimators': 4064.561297237613,\n",
       "  'num_leaves': 10.0,\n",
       "  'subsample': 1.0}}"
      ]
     },
     "execution_count": 13,
     "metadata": {},
     "output_type": "execute_result"
    }
   ],
   "source": [
    "def bayesion_opt_lgbm(X, y, init_iter=12, n_iters=30, random_state=11, seed = 101, num_iterations = 200):\n",
    "    \n",
    "    \n",
    "    dtrain = lgb.Dataset(data=X, label=y)\n",
    "      \n",
    "      # Objective Function\n",
    "    def hyp_lgbm(num_leaves, feature_fraction, bagging_fraction, max_depth, min_split_gain, min_child_weight, n_estimators, learning_rate, subsample, colsample_bytree):\n",
    "        \n",
    "        params = {'application':'regression','num_iterations': num_iterations, \n",
    "                         'early_stopping_round':50,\n",
    "                        'metric':'l2'} # Default parameters \n",
    "       \n",
    "                \n",
    "        params[\"n_estimators\"] = int(max(n_estimators, 10)) \n",
    "        params[\"learning_rate\"] = float(max(learning_rate, 0 ))\n",
    "        params[\"num_leaves\"] = int(round(num_leaves))\n",
    "        params['feature_fraction'] = max(min(feature_fraction, 1), 0)\n",
    "        params['bagging_fraction'] = max(min(bagging_fraction, 1), 0)\n",
    "        params['max_depth'] = int(round(max_depth))\n",
    "        params['min_split_gain'] = min_split_gain\n",
    "        params['min_child_weight'] = min_child_weight\n",
    "        params['subsample'] = max(subsample, 0)\n",
    "        params['colsample_bytree'] = max(colsample_bytree, 0)\n",
    "        \n",
    "       \n",
    "             \n",
    "            \n",
    "            \n",
    "        cv_results = lgb.cv(params, dtrain, nfold=5, seed=seed, stratified=False,\n",
    "                                  verbose_eval =None, metrics=['l2'])\n",
    "              # print(cv_results)\n",
    "        return -np.min(cv_results['l2-mean'])\n",
    "    \n",
    "    \n",
    "      # Domain space-- Range of hyperparameters \n",
    "    pds = {     'num_leaves': (10, 100),\n",
    "                'feature_fraction': (0.1, 0.9),\n",
    "                'bagging_fraction': (0.8, 1),\n",
    "                'max_depth': (1, 2000),\n",
    "                'min_split_gain': (0.001, 0.1),\n",
    "                'min_child_weight': (10, 25),\n",
    "                'n_estimators' : (10,10000),\n",
    "                \"learning_rate\": (0.001, 0.4),\n",
    "                \"subsample\": (0, 1),\n",
    "                \"colsample_bytree\" : (0, 1)\n",
    "                \n",
    "                }\n",
    "\n",
    "      # Surrogate model\n",
    "    optimizer = BayesianOptimization(hyp_lgbm, pds, random_state=random_state)\n",
    "\n",
    "      # Optimize\n",
    "    optimizer.maximize(init_points=init_iter, n_iter=n_iters)\n",
    "    return optimizer.max\n",
    "\n",
    "opt_params = bayesion_opt_lgbm(X, y, init_iter=12, n_iters=30, random_state=77, seed = 101, num_iterations = 200)\n",
    "opt_params\n"
   ]
  },
  {
   "cell_type": "code",
   "execution_count": 14,
   "metadata": {},
   "outputs": [
    {
     "name": "stdout",
     "output_type": "stream",
     "text": [
      "Starting training...\n"
     ]
    },
    {
     "name": "stderr",
     "output_type": "stream",
     "text": [
      "C:\\Users\\chava\\Anaconda3\\envs\\tensorflow\\lib\\site-packages\\lightgbm\\engine.py:118: UserWarning:\n",
      "\n",
      "Found `n_estimators` in params. Will use it instead of argument\n",
      "\n"
     ]
    },
    {
     "name": "stdout",
     "output_type": "stream",
     "text": [
      "Starting predicting...\n",
      "The rmse of prediction is: 5.808855466008516\n"
     ]
    }
   ],
   "source": [
    "# create dataset for lightgbm\n",
    "lgb_train = lgb.Dataset(X_train, y_train)\n",
    "lgb_eval = lgb.Dataset(X_test, y_test, reference=lgb_train)\n",
    "\n",
    "# specify your configurations as a dict\n",
    "\n",
    "params = {'bagging_fraction': 0.9,\n",
    "  'colsample_bytree': 0.7,\n",
    "  'feature_fraction': 0.6,\n",
    "  'learning_rate': 0.04,\n",
    "  'max_depth': 594,\n",
    "  'min_child_weight': 15,\n",
    "  'min_split_gain': 0.05,\n",
    "  'n_estimators': 4232,\n",
    "  'num_leaves': 10,\n",
    "  'subsample': 0.7}\n",
    "\n",
    "\n",
    "print('Starting training...')\n",
    "# train\n",
    "gbm = lgb.train(params,\n",
    "                lgb_train,\n",
    "                num_boost_round=500,\n",
    "                valid_sets=lgb_eval)\n",
    "\n",
    "\n",
    "\n",
    "print('Starting predicting...')\n",
    "# predict\n",
    "y_pred = gbm.predict(X_test, num_iteration=gbm.best_iteration)\n",
    "# eval\n",
    "print('The rmse of prediction is:', sqrt(mean_squared_error(y_test, y_pred)))\n",
    "opt_lightgbm = sqrt(mean_squared_error(y_test, y_pred))\n",
    "\n"
   ]
  },
  {
   "cell_type": "markdown",
   "metadata": {},
   "source": [
    "# 2. Considering observation where revenue != 0"
   ]
  },
  {
   "cell_type": "code",
   "execution_count": 15,
   "metadata": {},
   "outputs": [],
   "source": [
    "newdf = final_data[final_data['revenue'] != 0]\n",
    "newdf_V2 = final_data[final_data['revenue'] == 0] #we are going to replace these zeros with prediction\n",
    "X = newdf.drop('revenue', axis = 1)\n",
    "y = newdf['revenue']\n",
    "X_train, X_test, y_train, y_test = train_test_split(X, y, test_size=0.20, random_state=123)\n",
    "## we are going to use this at the end. \n",
    "final_check_X_test = X_test \n",
    "final_check_y_test = y_test"
   ]
  },
  {
   "cell_type": "markdown",
   "metadata": {},
   "source": [
    "## 2.1 Random Forest"
   ]
  },
  {
   "cell_type": "code",
   "execution_count": 16,
   "metadata": {},
   "outputs": [
    {
     "name": "stdout",
     "output_type": "stream",
     "text": [
      "The rmse of Random Forest Baseline is : 1.5939341669069251\n",
      "|   iter    |  target   | max_depth | max_fe... | min_sa... | min_sa... | n_esti... |\n",
      "-------------------------------------------------------------------------------------\n",
      "| \u001b[0m 1       \u001b[0m | \u001b[0m-2.922   \u001b[0m | \u001b[0m 132.4   \u001b[0m | \u001b[0m 0.3897  \u001b[0m | \u001b[0m 84.12   \u001b[0m | \u001b[0m 4.686   \u001b[0m | \u001b[0m 654.0   \u001b[0m |\n",
      "| \u001b[95m 2       \u001b[0m | \u001b[95m-2.912   \u001b[0m | \u001b[95m 188.2   \u001b[0m | \u001b[95m 0.9579  \u001b[0m | \u001b[95m 71.7    \u001b[0m | \u001b[95m 12.97   \u001b[0m | \u001b[95m 573.3   \u001b[0m |\n",
      "| \u001b[95m 3       \u001b[0m | \u001b[95m-2.905   \u001b[0m | \u001b[95m 167.9   \u001b[0m | \u001b[95m 0.6554  \u001b[0m | \u001b[95m 68.2    \u001b[0m | \u001b[95m 9.864   \u001b[0m | \u001b[95m 433.5   \u001b[0m |\n",
      "| \u001b[95m 4       \u001b[0m | \u001b[95m-2.891   \u001b[0m | \u001b[95m 48.29   \u001b[0m | \u001b[95m 0.4603  \u001b[0m | \u001b[95m 59.99   \u001b[0m | \u001b[95m 7.907   \u001b[0m | \u001b[95m 183.4   \u001b[0m |\n",
      "| \u001b[0m 5       \u001b[0m | \u001b[0m-2.92    \u001b[0m | \u001b[0m 108.0   \u001b[0m | \u001b[0m 0.5498  \u001b[0m | \u001b[0m 88.46   \u001b[0m | \u001b[0m 7.399   \u001b[0m | \u001b[0m 372.1   \u001b[0m |\n",
      "| \u001b[0m 6       \u001b[0m | \u001b[0m-2.94    \u001b[0m | \u001b[0m 168.1   \u001b[0m | \u001b[0m 0.3492  \u001b[0m | \u001b[0m 94.69   \u001b[0m | \u001b[0m 11.52   \u001b[0m | \u001b[0m 362.1   \u001b[0m |\n",
      "| \u001b[0m 7       \u001b[0m | \u001b[0m-2.915   \u001b[0m | \u001b[0m 45.59   \u001b[0m | \u001b[0m 0.2959  \u001b[0m | \u001b[0m 70.62   \u001b[0m | \u001b[0m 12.21   \u001b[0m | \u001b[0m 278.2   \u001b[0m |\n",
      "| \u001b[0m 8       \u001b[0m | \u001b[0m-2.903   \u001b[0m | \u001b[0m 97.76   \u001b[0m | \u001b[0m 0.9074  \u001b[0m | \u001b[0m 58.79   \u001b[0m | \u001b[0m 4.378   \u001b[0m | \u001b[0m 953.2   \u001b[0m |\n",
      "| \u001b[0m 9       \u001b[0m | \u001b[0m-2.938   \u001b[0m | \u001b[0m 152.3   \u001b[0m | \u001b[0m 0.2867  \u001b[0m | \u001b[0m 82.45   \u001b[0m | \u001b[0m 7.673   \u001b[0m | \u001b[0m 353.8   \u001b[0m |\n",
      "| \u001b[0m 10      \u001b[0m | \u001b[0m-2.914   \u001b[0m | \u001b[0m 129.0   \u001b[0m | \u001b[0m 0.7387  \u001b[0m | \u001b[0m 78.01   \u001b[0m | \u001b[0m 3.569   \u001b[0m | \u001b[0m 732.3   \u001b[0m |\n",
      "| \u001b[0m 11      \u001b[0m | \u001b[0m-2.907   \u001b[0m | \u001b[0m 65.97   \u001b[0m | \u001b[0m 0.9305  \u001b[0m | \u001b[0m 64.1    \u001b[0m | \u001b[0m 12.28   \u001b[0m | \u001b[0m 750.5   \u001b[0m |\n",
      "| \u001b[0m 12      \u001b[0m | \u001b[0m-2.907   \u001b[0m | \u001b[0m 152.6   \u001b[0m | \u001b[0m 0.7947  \u001b[0m | \u001b[0m 66.34   \u001b[0m | \u001b[0m 14.99   \u001b[0m | \u001b[0m 607.6   \u001b[0m |\n",
      "| \u001b[0m 13      \u001b[0m | \u001b[0m-3.507   \u001b[0m | \u001b[0m 1.1     \u001b[0m | \u001b[0m 0.7074  \u001b[0m | \u001b[0m 53.73   \u001b[0m | \u001b[0m 3.431   \u001b[0m | \u001b[0m 999.2   \u001b[0m |\n",
      "| \u001b[0m 14      \u001b[0m | \u001b[0m-2.947   \u001b[0m | \u001b[0m 200.0   \u001b[0m | \u001b[0m 1.0     \u001b[0m | \u001b[0m 100.0   \u001b[0m | \u001b[0m 15.0    \u001b[0m | \u001b[0m 1e+03   \u001b[0m |\n",
      "| \u001b[0m 15      \u001b[0m | \u001b[0m-2.945   \u001b[0m | \u001b[0m 200.0   \u001b[0m | \u001b[0m 1.0     \u001b[0m | \u001b[0m 100.0   \u001b[0m | \u001b[0m 15.0    \u001b[0m | \u001b[0m 100.0   \u001b[0m |\n",
      "| \u001b[0m 16      \u001b[0m | \u001b[0m-2.913   \u001b[0m | \u001b[0m 200.0   \u001b[0m | \u001b[0m 0.2     \u001b[0m | \u001b[0m 50.0    \u001b[0m | \u001b[0m 2.0     \u001b[0m | \u001b[0m 894.1   \u001b[0m |\n",
      "| \u001b[0m 17      \u001b[0m | \u001b[0m-3.867   \u001b[0m | \u001b[0m 1.0     \u001b[0m | \u001b[0m 0.2     \u001b[0m | \u001b[0m 100.0   \u001b[0m | \u001b[0m 15.0    \u001b[0m | \u001b[0m 100.0   \u001b[0m |\n",
      "| \u001b[0m 18      \u001b[0m | \u001b[0m-3.504   \u001b[0m | \u001b[0m 1.0     \u001b[0m | \u001b[0m 1.0     \u001b[0m | \u001b[0m 50.0    \u001b[0m | \u001b[0m 2.0     \u001b[0m | \u001b[0m 521.3   \u001b[0m |\n",
      "| \u001b[95m 19      \u001b[0m | \u001b[95m-2.889   \u001b[0m | \u001b[95m 200.0   \u001b[0m | \u001b[95m 1.0     \u001b[0m | \u001b[95m 50.0    \u001b[0m | \u001b[95m 2.0     \u001b[0m | \u001b[95m 188.5   \u001b[0m |\n",
      "| \u001b[0m 20      \u001b[0m | \u001b[0m-3.016   \u001b[0m | \u001b[0m 99.17   \u001b[0m | \u001b[0m 0.2     \u001b[0m | \u001b[0m 100.0   \u001b[0m | \u001b[0m 15.0    \u001b[0m | \u001b[0m 867.8   \u001b[0m |\n",
      "| \u001b[0m 21      \u001b[0m | \u001b[0m-2.945   \u001b[0m | \u001b[0m 123.6   \u001b[0m | \u001b[0m 1.0     \u001b[0m | \u001b[0m 100.0   \u001b[0m | \u001b[0m 2.0     \u001b[0m | \u001b[0m 208.5   \u001b[0m |\n",
      "| \u001b[0m 22      \u001b[0m | \u001b[0m-2.932   \u001b[0m | \u001b[0m 150.3   \u001b[0m | \u001b[0m 0.2     \u001b[0m | \u001b[0m 50.0    \u001b[0m | \u001b[0m 2.0     \u001b[0m | \u001b[0m 100.0   \u001b[0m |\n",
      "| \u001b[0m 23      \u001b[0m | \u001b[0m-2.914   \u001b[0m | \u001b[0m 200.0   \u001b[0m | \u001b[0m 0.2     \u001b[0m | \u001b[0m 50.0    \u001b[0m | \u001b[0m 15.0    \u001b[0m | \u001b[0m 1e+03   \u001b[0m |\n",
      "| \u001b[0m 24      \u001b[0m | \u001b[0m-2.915   \u001b[0m | \u001b[0m 200.0   \u001b[0m | \u001b[0m 0.2     \u001b[0m | \u001b[0m 50.0    \u001b[0m | \u001b[0m 15.0    \u001b[0m | \u001b[0m 694.3   \u001b[0m |\n",
      "| \u001b[0m 25      \u001b[0m | \u001b[0m-2.89    \u001b[0m | \u001b[0m 107.8   \u001b[0m | \u001b[0m 1.0     \u001b[0m | \u001b[0m 50.0    \u001b[0m | \u001b[0m 15.0    \u001b[0m | \u001b[0m 218.5   \u001b[0m |\n",
      "| \u001b[0m 26      \u001b[0m | \u001b[0m-2.89    \u001b[0m | \u001b[0m 99.04   \u001b[0m | \u001b[0m 1.0     \u001b[0m | \u001b[0m 50.0    \u001b[0m | \u001b[0m 2.0     \u001b[0m | \u001b[0m 835.7   \u001b[0m |\n",
      "| \u001b[0m 27      \u001b[0m | \u001b[0m-3.503   \u001b[0m | \u001b[0m 1.0     \u001b[0m | \u001b[0m 1.0     \u001b[0m | \u001b[0m 50.0    \u001b[0m | \u001b[0m 2.0     \u001b[0m | \u001b[0m 243.5   \u001b[0m |\n",
      "| \u001b[0m 28      \u001b[0m | \u001b[0m-3.86    \u001b[0m | \u001b[0m 1.0     \u001b[0m | \u001b[0m 0.2     \u001b[0m | \u001b[0m 100.0   \u001b[0m | \u001b[0m 15.0    \u001b[0m | \u001b[0m 673.2   \u001b[0m |\n",
      "| \u001b[0m 29      \u001b[0m | \u001b[0m-3.503   \u001b[0m | \u001b[0m 1.0     \u001b[0m | \u001b[0m 1.0     \u001b[0m | \u001b[0m 50.0    \u001b[0m | \u001b[0m 2.0     \u001b[0m | \u001b[0m 842.5   \u001b[0m |\n",
      "| \u001b[0m 30      \u001b[0m | \u001b[0m-3.023   \u001b[0m | \u001b[0m 126.9   \u001b[0m | \u001b[0m 0.2     \u001b[0m | \u001b[0m 100.0   \u001b[0m | \u001b[0m 2.0     \u001b[0m | \u001b[0m 508.9   \u001b[0m |\n",
      "| \u001b[0m 31      \u001b[0m | \u001b[0m-3.017   \u001b[0m | \u001b[0m 115.5   \u001b[0m | \u001b[0m 0.2     \u001b[0m | \u001b[0m 100.0   \u001b[0m | \u001b[0m 2.0     \u001b[0m | \u001b[0m 1e+03   \u001b[0m |\n",
      "| \u001b[0m 32      \u001b[0m | \u001b[0m-2.947   \u001b[0m | \u001b[0m 200.0   \u001b[0m | \u001b[0m 1.0     \u001b[0m | \u001b[0m 100.0   \u001b[0m | \u001b[0m 15.0    \u001b[0m | \u001b[0m 804.6   \u001b[0m |\n",
      "| \u001b[0m 33      \u001b[0m | \u001b[0m-2.947   \u001b[0m | \u001b[0m 200.0   \u001b[0m | \u001b[0m 1.0     \u001b[0m | \u001b[0m 100.0   \u001b[0m | \u001b[0m 15.0    \u001b[0m | \u001b[0m 648.3   \u001b[0m |\n",
      "| \u001b[0m 34      \u001b[0m | \u001b[0m-2.932   \u001b[0m | \u001b[0m 200.0   \u001b[0m | \u001b[0m 0.2     \u001b[0m | \u001b[0m 50.0    \u001b[0m | \u001b[0m 15.0    \u001b[0m | \u001b[0m 100.0   \u001b[0m |\n",
      "| \u001b[0m 35      \u001b[0m | \u001b[0m-3.022   \u001b[0m | \u001b[0m 200.0   \u001b[0m | \u001b[0m 0.2     \u001b[0m | \u001b[0m 100.0   \u001b[0m | \u001b[0m 2.0     \u001b[0m | \u001b[0m 473.6   \u001b[0m |\n",
      "| \u001b[0m 36      \u001b[0m | \u001b[0m-2.922   \u001b[0m | \u001b[0m 200.0   \u001b[0m | \u001b[0m 0.2     \u001b[0m | \u001b[0m 50.0    \u001b[0m | \u001b[0m 15.0    \u001b[0m | \u001b[0m 318.7   \u001b[0m |\n",
      "| \u001b[0m 37      \u001b[0m | \u001b[0m-2.89    \u001b[0m | \u001b[0m 104.7   \u001b[0m | \u001b[0m 1.0     \u001b[0m | \u001b[0m 50.0    \u001b[0m | \u001b[0m 15.0    \u001b[0m | \u001b[0m 698.6   \u001b[0m |\n",
      "| \u001b[0m 38      \u001b[0m | \u001b[0m-3.025   \u001b[0m | \u001b[0m 6.142   \u001b[0m | \u001b[0m 0.2     \u001b[0m | \u001b[0m 100.0   \u001b[0m | \u001b[0m 15.0    \u001b[0m | \u001b[0m 379.2   \u001b[0m |\n",
      "| \u001b[0m 39      \u001b[0m | \u001b[0m-3.025   \u001b[0m | \u001b[0m 79.2    \u001b[0m | \u001b[0m 0.2     \u001b[0m | \u001b[0m 100.0   \u001b[0m | \u001b[0m 15.0    \u001b[0m | \u001b[0m 292.7   \u001b[0m |\n",
      "| \u001b[0m 40      \u001b[0m | \u001b[0m-2.917   \u001b[0m | \u001b[0m 51.9    \u001b[0m | \u001b[0m 0.2     \u001b[0m | \u001b[0m 50.0    \u001b[0m | \u001b[0m 15.0    \u001b[0m | \u001b[0m 389.5   \u001b[0m |\n",
      "| \u001b[0m 41      \u001b[0m | \u001b[0m-3.012   \u001b[0m | \u001b[0m 102.6   \u001b[0m | \u001b[0m 0.2     \u001b[0m | \u001b[0m 91.42   \u001b[0m | \u001b[0m 15.0    \u001b[0m | \u001b[0m 149.0   \u001b[0m |\n",
      "| \u001b[0m 42      \u001b[0m | \u001b[0m-2.89    \u001b[0m | \u001b[0m 149.3   \u001b[0m | \u001b[0m 1.0     \u001b[0m | \u001b[0m 50.0    \u001b[0m | \u001b[0m 15.0    \u001b[0m | \u001b[0m 930.8   \u001b[0m |\n",
      "=====================================================================================\n",
      "The rmse of bayesian optimize random forest is : 1.5960507415415308\n"
     ]
    }
   ],
   "source": [
    "rf = RandomForestRegressor(n_estimators=50, random_state=123)\n",
    "rf.fit(X_train, y_train)\n",
    "y_pred = rf.predict(X_test)\n",
    "print('The rmse of Random Forest Baseline is :', sqrt(mean_squared_error(y_test, y_pred)))\n",
    "\n",
    "#Bayesian optimization\n",
    "def bayesian_optimization(dataset, function, parameters):\n",
    "    \n",
    "    \n",
    "    X_train, y_train, X_test, y_test = dataset\n",
    "    n_iterations = 30\n",
    "    gp_params = {\"alpha\": 1e-4}\n",
    "    init_points = 12\n",
    "\n",
    "    BO = BayesianOptimization(function, parameters)\n",
    "    BO.maximize(n_iter=n_iterations, **gp_params, init_points = init_points)\n",
    "\n",
    "    return BO.max\n",
    "\n",
    "## for randomforest\n",
    "def rfc_optimization(cv_splits):\n",
    "    def function(n_estimators, max_depth, min_samples_split, max_features, min_samples_leaf): # make changes here to add more parameters \n",
    "        \n",
    "        return cross_val_score(\n",
    "               RandomForestRegressor(\n",
    "                   n_estimators=int(max(n_estimators,0)),                                                               \n",
    "                   max_depth=int(max(max_depth,1)),\n",
    "                   min_samples_split=int(max(min_samples_split,2)), \n",
    "                   max_features = float(max(max_features,0.2)),\n",
    "                   min_samples_leaf= int(max(min_samples_leaf,50)),\n",
    "                   #oob_score = True,\n",
    "                   \n",
    "                   \n",
    "                   n_jobs=-1, \n",
    "                   random_state=22  \n",
    "                   ),  \n",
    "               X=X_train, \n",
    "               y=y_train, \n",
    "               cv=cv_splits,\n",
    "               scoring=\"neg_mean_squared_error\",\n",
    "               n_jobs=-1).mean()\n",
    "\n",
    "    parameters = {\"n_estimators\": (100, 1000),\n",
    "                  \"max_depth\": (1, 200), #quick note : consider 1 to 200 next time\n",
    "                  \"min_samples_split\": (2, 15),\n",
    "                  \"max_features\": (0.2, 1),\n",
    "                  \"min_samples_leaf\": (50, 100),\n",
    "                  #\"oob_score\": True\n",
    "                  \n",
    "                 }\n",
    "    \n",
    "    return function, parameters\n",
    "\n",
    "#Train model using optimum parameters\n",
    "def rftrain(X_train, y_train, X_test, y_test, function, parameters):\n",
    "    dataset = (X_train, y_train, X_test, y_test)\n",
    "    cv_splits = 10\n",
    "    \n",
    "    best_solution = bayesian_optimization(dataset, function, parameters)      \n",
    "    params = best_solution[\"params\"]\n",
    "\n",
    "    model = RandomForestRegressor(\n",
    "             n_estimators=int(max(params[\"n_estimators\"], 0)),\n",
    "             max_depth=int(max(params[\"max_depth\"], 1)),\n",
    "             min_samples_split=int(max(params[\"min_samples_split\"], 2)), \n",
    "             max_features = float(max(params[\"max_features\"], 0.2)),\n",
    "             min_samples_leaf= int(max(params[\"min_samples_leaf\"],50)),\n",
    "             n_jobs=-1, \n",
    "             random_state=23,\n",
    "             #oob_score = True\n",
    "             )\n",
    "\n",
    "    model.fit(X_train, y_train)\n",
    "    \n",
    "    return model\n",
    "\n",
    "\n",
    "rffunc, rfparams = rfc_optimization(10)\n",
    "rfmodel = rftrain(X_train, y_train, X_test, y_test, rffunc, rfparams)\n",
    "\n",
    "\n",
    "\n",
    "y_pred = rfmodel.predict(X_test)\n",
    "print('The rmse of bayesian optimize random forest is :', sqrt(mean_squared_error(y_test, y_pred)))"
   ]
  },
  {
   "cell_type": "markdown",
   "metadata": {},
   "source": [
    "## 2.2 XGBoost"
   ]
  },
  {
   "cell_type": "code",
   "execution_count": 17,
   "metadata": {},
   "outputs": [
    {
     "name": "stdout",
     "output_type": "stream",
     "text": [
      "[16:28:05] WARNING: C:/Jenkins/workspace/xgboost-win64_release_0.90/src/objective/regression_obj.cu:152: reg:linear is now deprecated in favor of reg:squarederror.\n",
      "The rmse of XGBoost Baseline: 1.52591744458347\n",
      "|   iter    |  target   |    eta    |   gamma   | max_depth | min_ch... | n_esti... |\n",
      "-------------------------------------------------------------------------------------\n",
      "| \u001b[0m 1       \u001b[0m | \u001b[0m-2.821   \u001b[0m | \u001b[0m 0.08469 \u001b[0m | \u001b[0m 1.526   \u001b[0m | \u001b[0m 8.237   \u001b[0m | \u001b[0m 7.526   \u001b[0m | \u001b[0m 72.78   \u001b[0m |\n",
      "| \u001b[0m 2       \u001b[0m | \u001b[0m-2.888   \u001b[0m | \u001b[0m 0.1018  \u001b[0m | \u001b[0m 1.923   \u001b[0m | \u001b[0m 8.778   \u001b[0m | \u001b[0m 2.956   \u001b[0m | \u001b[0m 53.43   \u001b[0m |\n",
      "| \u001b[0m 3       \u001b[0m | \u001b[0m-2.842   \u001b[0m | \u001b[0m 0.1459  \u001b[0m | \u001b[0m 0.7409  \u001b[0m | \u001b[0m 8.22    \u001b[0m | \u001b[0m 4.222   \u001b[0m | \u001b[0m 65.08   \u001b[0m |\n",
      "| \u001b[0m 4       \u001b[0m | \u001b[0m-2.931   \u001b[0m | \u001b[0m 0.1908  \u001b[0m | \u001b[0m 0.8197  \u001b[0m | \u001b[0m 5.107   \u001b[0m | \u001b[0m 1.154   \u001b[0m | \u001b[0m 85.86   \u001b[0m |\n",
      "| \u001b[0m 5       \u001b[0m | \u001b[0m-2.968   \u001b[0m | \u001b[0m 0.1934  \u001b[0m | \u001b[0m 1.766   \u001b[0m | \u001b[0m 6.301   \u001b[0m | \u001b[0m 1.444   \u001b[0m | \u001b[0m 126.8   \u001b[0m |\n",
      "| \u001b[95m 6       \u001b[0m | \u001b[95m-2.741   \u001b[0m | \u001b[95m 0.1377  \u001b[0m | \u001b[95m 0.7699  \u001b[0m | \u001b[95m 4.499   \u001b[0m | \u001b[95m 7.645   \u001b[0m | \u001b[95m 134.1   \u001b[0m |\n",
      "| \u001b[0m 7       \u001b[0m | \u001b[0m-2.881   \u001b[0m | \u001b[0m 0.1362  \u001b[0m | \u001b[0m 0.05693 \u001b[0m | \u001b[0m 8.156   \u001b[0m | \u001b[0m 4.934   \u001b[0m | \u001b[0m 144.1   \u001b[0m |\n",
      "| \u001b[0m 8       \u001b[0m | \u001b[0m-2.874   \u001b[0m | \u001b[0m 0.1803  \u001b[0m | \u001b[0m 1.752   \u001b[0m | \u001b[0m 1.262   \u001b[0m | \u001b[0m 3.491   \u001b[0m | \u001b[0m 71.66   \u001b[0m |\n",
      "| \u001b[0m 9       \u001b[0m | \u001b[0m-2.846   \u001b[0m | \u001b[0m 0.1136  \u001b[0m | \u001b[0m 1.273   \u001b[0m | \u001b[0m 5.335   \u001b[0m | \u001b[0m 1.859   \u001b[0m | \u001b[0m 108.8   \u001b[0m |\n",
      "| \u001b[0m 10      \u001b[0m | \u001b[0m-2.823   \u001b[0m | \u001b[0m 0.1308  \u001b[0m | \u001b[0m 0.7597  \u001b[0m | \u001b[0m 5.939   \u001b[0m | \u001b[0m 5.189   \u001b[0m | \u001b[0m 133.0   \u001b[0m |\n",
      "| \u001b[0m 11      \u001b[0m | \u001b[0m-2.765   \u001b[0m | \u001b[0m 0.1556  \u001b[0m | \u001b[0m 0.3849  \u001b[0m | \u001b[0m 3.893   \u001b[0m | \u001b[0m 3.577   \u001b[0m | \u001b[0m 118.1   \u001b[0m |\n",
      "| \u001b[95m 12      \u001b[0m | \u001b[95m-2.652   \u001b[0m | \u001b[95m 0.1714  \u001b[0m | \u001b[95m 0.01812 \u001b[0m | \u001b[95m 2.297   \u001b[0m | \u001b[95m 7.76    \u001b[0m | \u001b[95m 112.8   \u001b[0m |\n",
      "| \u001b[0m 13      \u001b[0m | \u001b[0m-2.89    \u001b[0m | \u001b[0m 0.07    \u001b[0m | \u001b[0m 0.0     \u001b[0m | \u001b[0m 1.0     \u001b[0m | \u001b[0m 10.0    \u001b[0m | \u001b[0m 150.0   \u001b[0m |\n",
      "| \u001b[0m 14      \u001b[0m | \u001b[0m-2.829   \u001b[0m | \u001b[0m 0.07    \u001b[0m | \u001b[0m 0.0     \u001b[0m | \u001b[0m 10.0    \u001b[0m | \u001b[0m 10.0    \u001b[0m | \u001b[0m 119.3   \u001b[0m |\n",
      "| \u001b[0m 15      \u001b[0m | \u001b[0m-2.889   \u001b[0m | \u001b[0m 0.2     \u001b[0m | \u001b[0m 0.0     \u001b[0m | \u001b[0m 1.0     \u001b[0m | \u001b[0m 10.0    \u001b[0m | \u001b[0m 50.0    \u001b[0m |\n",
      "| \u001b[0m 16      \u001b[0m | \u001b[0m-2.903   \u001b[0m | \u001b[0m 0.07    \u001b[0m | \u001b[0m 0.0     \u001b[0m | \u001b[0m 1.0     \u001b[0m | \u001b[0m 10.0    \u001b[0m | \u001b[0m 123.8   \u001b[0m |\n",
      "| \u001b[0m 17      \u001b[0m | \u001b[0m-2.821   \u001b[0m | \u001b[0m 0.2     \u001b[0m | \u001b[0m 0.0     \u001b[0m | \u001b[0m 1.0     \u001b[0m | \u001b[0m 10.0    \u001b[0m | \u001b[0m 93.09   \u001b[0m |\n",
      "| \u001b[0m 18      \u001b[0m | \u001b[0m-2.97    \u001b[0m | \u001b[0m 0.2     \u001b[0m | \u001b[0m 2.0     \u001b[0m | \u001b[0m 10.0    \u001b[0m | \u001b[0m 10.0    \u001b[0m | \u001b[0m 139.7   \u001b[0m |\n",
      "| \u001b[0m 19      \u001b[0m | \u001b[0m-2.773   \u001b[0m | \u001b[0m 0.2     \u001b[0m | \u001b[0m 2.0     \u001b[0m | \u001b[0m 1.0     \u001b[0m | \u001b[0m 1.0     \u001b[0m | \u001b[0m 142.9   \u001b[0m |\n",
      "| \u001b[0m 20      \u001b[0m | \u001b[0m-2.942   \u001b[0m | \u001b[0m 0.2     \u001b[0m | \u001b[0m 0.0     \u001b[0m | \u001b[0m 10.0    \u001b[0m | \u001b[0m 10.0    \u001b[0m | \u001b[0m 100.1   \u001b[0m |\n",
      "| \u001b[0m 21      \u001b[0m | \u001b[0m-2.933   \u001b[0m | \u001b[0m 0.2     \u001b[0m | \u001b[0m 0.0     \u001b[0m | \u001b[0m 10.0    \u001b[0m | \u001b[0m 10.0    \u001b[0m | \u001b[0m 50.0    \u001b[0m |\n",
      "| \u001b[0m 22      \u001b[0m | \u001b[0m-3.029   \u001b[0m | \u001b[0m 0.07    \u001b[0m | \u001b[0m 2.0     \u001b[0m | \u001b[0m 1.0     \u001b[0m | \u001b[0m 10.0    \u001b[0m | \u001b[0m 62.77   \u001b[0m |\n",
      "| \u001b[0m 23      \u001b[0m | \u001b[0m-2.891   \u001b[0m | \u001b[0m 0.2     \u001b[0m | \u001b[0m 0.0     \u001b[0m | \u001b[0m 1.0     \u001b[0m | \u001b[0m 1.0     \u001b[0m | \u001b[0m 50.0    \u001b[0m |\n",
      "| \u001b[0m 24      \u001b[0m | \u001b[0m-2.802   \u001b[0m | \u001b[0m 0.2     \u001b[0m | \u001b[0m 2.0     \u001b[0m | \u001b[0m 1.0     \u001b[0m | \u001b[0m 10.0    \u001b[0m | \u001b[0m 106.3   \u001b[0m |\n",
      "| \u001b[0m 25      \u001b[0m | \u001b[0m-2.763   \u001b[0m | \u001b[0m 0.2     \u001b[0m | \u001b[0m 0.0     \u001b[0m | \u001b[0m 1.0     \u001b[0m | \u001b[0m 10.0    \u001b[0m | \u001b[0m 139.8   \u001b[0m |\n",
      "| \u001b[0m 26      \u001b[0m | \u001b[0m-2.764   \u001b[0m | \u001b[0m 0.2     \u001b[0m | \u001b[0m 0.0     \u001b[0m | \u001b[0m 1.0     \u001b[0m | \u001b[0m 1.0     \u001b[0m | \u001b[0m 150.0   \u001b[0m |\n",
      "| \u001b[0m 27      \u001b[0m | \u001b[0m-3.084   \u001b[0m | \u001b[0m 0.07    \u001b[0m | \u001b[0m 0.0     \u001b[0m | \u001b[0m 10.0    \u001b[0m | \u001b[0m 1.0     \u001b[0m | \u001b[0m 74.24   \u001b[0m |\n",
      "| \u001b[0m 28      \u001b[0m | \u001b[0m-2.845   \u001b[0m | \u001b[0m 0.2     \u001b[0m | \u001b[0m 0.0     \u001b[0m | \u001b[0m 1.0     \u001b[0m | \u001b[0m 10.0    \u001b[0m | \u001b[0m 80.31   \u001b[0m |\n",
      "| \u001b[0m 29      \u001b[0m | \u001b[0m-2.816   \u001b[0m | \u001b[0m 0.2     \u001b[0m | \u001b[0m 0.0     \u001b[0m | \u001b[0m 1.0     \u001b[0m | \u001b[0m 1.0     \u001b[0m | \u001b[0m 100.3   \u001b[0m |\n",
      "| \u001b[0m 30      \u001b[0m | \u001b[0m-2.802   \u001b[0m | \u001b[0m 0.2     \u001b[0m | \u001b[0m 0.0     \u001b[0m | \u001b[0m 1.0     \u001b[0m | \u001b[0m 1.0     \u001b[0m | \u001b[0m 112.6   \u001b[0m |\n",
      "| \u001b[0m 31      \u001b[0m | \u001b[0m-2.939   \u001b[0m | \u001b[0m 0.2     \u001b[0m | \u001b[0m 0.0     \u001b[0m | \u001b[0m 6.222   \u001b[0m | \u001b[0m 10.0    \u001b[0m | \u001b[0m 111.2   \u001b[0m |\n",
      "| \u001b[0m 32      \u001b[0m | \u001b[0m-2.836   \u001b[0m | \u001b[0m 0.07    \u001b[0m | \u001b[0m 2.0     \u001b[0m | \u001b[0m 10.0    \u001b[0m | \u001b[0m 10.0    \u001b[0m | \u001b[0m 86.57   \u001b[0m |\n",
      "| \u001b[0m 33      \u001b[0m | \u001b[0m-3.06    \u001b[0m | \u001b[0m 0.07    \u001b[0m | \u001b[0m 2.0     \u001b[0m | \u001b[0m 10.0    \u001b[0m | \u001b[0m 1.0     \u001b[0m | \u001b[0m 150.0   \u001b[0m |\n",
      "| \u001b[0m 34      \u001b[0m | \u001b[0m-2.909   \u001b[0m | \u001b[0m 0.07    \u001b[0m | \u001b[0m 2.0     \u001b[0m | \u001b[0m 1.0     \u001b[0m | \u001b[0m 6.65    \u001b[0m | \u001b[0m 114.7   \u001b[0m |\n",
      "| \u001b[0m 35      \u001b[0m | \u001b[0m-3.151   \u001b[0m | \u001b[0m 0.2     \u001b[0m | \u001b[0m 0.0     \u001b[0m | \u001b[0m 10.0    \u001b[0m | \u001b[0m 1.0     \u001b[0m | \u001b[0m 117.6   \u001b[0m |\n",
      "| \u001b[0m 36      \u001b[0m | \u001b[0m-3.085   \u001b[0m | \u001b[0m 0.07    \u001b[0m | \u001b[0m 0.0     \u001b[0m | \u001b[0m 10.0    \u001b[0m | \u001b[0m 1.0     \u001b[0m | \u001b[0m 95.7    \u001b[0m |\n",
      "| \u001b[0m 37      \u001b[0m | \u001b[0m-2.942   \u001b[0m | \u001b[0m 0.2     \u001b[0m | \u001b[0m 0.0     \u001b[0m | \u001b[0m 10.0    \u001b[0m | \u001b[0m 10.0    \u001b[0m | \u001b[0m 128.6   \u001b[0m |\n",
      "| \u001b[0m 38      \u001b[0m | \u001b[0m-2.896   \u001b[0m | \u001b[0m 0.07    \u001b[0m | \u001b[0m 0.0     \u001b[0m | \u001b[0m 1.0     \u001b[0m | \u001b[0m 1.0     \u001b[0m | \u001b[0m 133.3   \u001b[0m |\n",
      "| \u001b[0m 39      \u001b[0m | \u001b[0m-2.919   \u001b[0m | \u001b[0m 0.07    \u001b[0m | \u001b[0m 0.0     \u001b[0m | \u001b[0m 1.0     \u001b[0m | \u001b[0m 5.89    \u001b[0m | \u001b[0m 105.7   \u001b[0m |\n",
      "| \u001b[0m 40      \u001b[0m | \u001b[0m-2.97    \u001b[0m | \u001b[0m 0.2     \u001b[0m | \u001b[0m 2.0     \u001b[0m | \u001b[0m 10.0    \u001b[0m | \u001b[0m 10.0    \u001b[0m | \u001b[0m 61.87   \u001b[0m |\n",
      "| \u001b[0m 41      \u001b[0m | \u001b[0m-2.881   \u001b[0m | \u001b[0m 0.2     \u001b[0m | \u001b[0m 0.0     \u001b[0m | \u001b[0m 1.0     \u001b[0m | \u001b[0m 1.0     \u001b[0m | \u001b[0m 60.35   \u001b[0m |\n",
      "| \u001b[0m 42      \u001b[0m | \u001b[0m-2.828   \u001b[0m | \u001b[0m 0.2     \u001b[0m | \u001b[0m 2.0     \u001b[0m | \u001b[0m 1.0     \u001b[0m | \u001b[0m 1.0     \u001b[0m | \u001b[0m 91.88   \u001b[0m |\n",
      "=====================================================================================\n",
      "[16:39:55] WARNING: C:/Jenkins/workspace/xgboost-win64_release_0.90/src/objective/regression_obj.cu:152: reg:linear is now deprecated in favor of reg:squarederror.\n",
      "The rmse of optimize XGBoost is : 1.4671727194031614\n"
     ]
    }
   ],
   "source": [
    "xgbmodel_base = xgb.XGBRegressor()\n",
    "xgbmodel_base.fit(X_train, y_train)\n",
    "y_pred = xgbmodel_base.predict(X_test)\n",
    "print('The rmse of XGBoost Baseline:', sqrt(mean_squared_error(y_test, y_pred)))\n",
    "\n",
    "eval_set = [(X_test, y_test)]\n",
    "def xgb_optimization(cv_splits, eval_set):\n",
    "    def function(eta, gamma, max_depth,n_estimators,min_child_weight):  \n",
    "            return cross_val_score(\n",
    "                   xgb.XGBRegressor(\n",
    "                       n_estimators=int(max(n_estimators,50)),\n",
    "                       objective=\"reg:linear\",\n",
    "                       learning_rate=max(eta, 0),\n",
    "                       gamma=max(gamma, 0),\n",
    "                       max_depth=max(int(max_depth), 1),   \n",
    "                       min_child_weight=max(min_child_weight, 1),\n",
    "                       #subsample = max(subsample, 0),\n",
    "                       #colsample_bytree = max(colsample_bytree, 0),\n",
    "                       #colsample_bylevel = max(colsample_bylevel, 0),\n",
    "\n",
    "                       seed=42,\n",
    "                       nthread=-1\n",
    "                       ),  \n",
    "                   X=X_train, \n",
    "                   y=y_train, \n",
    "                   cv=cv_splits,\n",
    "                   scoring='neg_mean_squared_error',\n",
    "                   fit_params={\n",
    "                        \"early_stopping_rounds\": 200, \n",
    "                        \"eval_metric\": \"rmse\", \n",
    "                        \"eval_set\": eval_set},\n",
    "                   n_jobs=-1).mean()\n",
    "\n",
    "    parameters = {\"eta\": (0.07, 0.2),\n",
    "                  \"gamma\": (0,2),\n",
    "                  \"max_depth\": (1, 10),\n",
    "                 \"min_child_weight\": (1, 10),\n",
    "                 #\"subsample\": (0,1),\n",
    "                 #\"colsample_bytree\": (0,1),\n",
    "                  \"n_estimators\": (50,150), \n",
    "                  #\"colsample_bylevel\": (0,1)\n",
    "                  \n",
    "                 }\n",
    "    \n",
    "    return function, parameters\n",
    "\n",
    "#Train model using optimum parameters\n",
    "def xgbtrain(X_train, y_train, X_test, y_test, function, parameters):\n",
    "    dataset = (X_train, y_train, X_test, y_test)\n",
    "    cv_splits = 10\n",
    "    \n",
    "    best_solution = bayesian_optimization(dataset, function, parameters)      \n",
    "    params = best_solution[\"params\"]\n",
    "\n",
    "    model = XGBRegressor(\n",
    "             n_estimators=int(params[\"n_estimators\"]),\n",
    "             objective=\"reg:linear\",\n",
    "             learning_rate= params[\"eta\"],\n",
    "             gamma=int(params[\"gamma\"]),\n",
    "             max_depth=int(params[\"max_depth\"]),\n",
    "             min_child_weight=int(params[\"min_child_weight\"]),\n",
    "             #subsample=int(params[\"subsample\"]),\n",
    "             #colsample_bytree=int(params[\"colsample_bytree\"]),\n",
    "             #colsample_bylevel = int(params[\"colsample_bylevel\"]),\n",
    "             nthread=-1, \n",
    "             seed=42 \n",
    "             )\n",
    "\n",
    "    model.fit(X_train, y_train)\n",
    "    \n",
    "    return model\n",
    "\n",
    "\n",
    "xgbfunction, xgbparameters = xgb_optimization(10, eval_set)\n",
    "xgbmodel =xgbtrain(X_train, y_train, X_test, y_test, xgbfunction, xgbparameters)\n",
    "\n",
    "\n",
    "y_pred = xgbmodel.predict(X_test)\n",
    "print('The rmse of optimize XGBoost is :', sqrt(mean_squared_error(y_test, y_pred)))\n",
    "opt_xgboost = sqrt(mean_squared_error(y_test, y_pred))\n",
    "\n",
    "\n"
   ]
  },
  {
   "cell_type": "markdown",
   "metadata": {},
   "source": [
    "## 2.3 Lightgbm"
   ]
  },
  {
   "cell_type": "code",
   "execution_count": 18,
   "metadata": {},
   "outputs": [
    {
     "name": "stdout",
     "output_type": "stream",
     "text": [
      "Training until validation scores don't improve for 200 rounds.\n",
      "[100]\ttraining's rmse: 17.5089\tvalid_1's rmse: 17.4088\n",
      "[200]\ttraining's rmse: 17.5089\tvalid_1's rmse: 17.4088\n",
      "Early stopping, best iteration is:\n",
      "[1]\ttraining's rmse: 17.5089\tvalid_1's rmse: 17.4088\n",
      "The rmse of Baseline lightgbm is : 2.1158139613700784\n",
      "|   iter    |  target   | baggin... | colsam... | featur... | learni... | max_depth | min_ch... | min_sp... | n_esti... | num_le... | subsample |\n",
      "-------------------------------------------------------------------------------------------------------------------------------------------------\n"
     ]
    },
    {
     "name": "stderr",
     "output_type": "stream",
     "text": [
      "C:\\Users\\chava\\Anaconda3\\envs\\tensorflow\\lib\\site-packages\\lightgbm\\engine.py:430: UserWarning:\n",
      "\n",
      "Found `num_iterations` in params. Will use it instead of argument\n",
      "\n",
      "C:\\Users\\chava\\Anaconda3\\envs\\tensorflow\\lib\\site-packages\\lightgbm\\engine.py:435: UserWarning:\n",
      "\n",
      "Found `early_stopping_round` in params. Will use it instead of argument\n",
      "\n"
     ]
    },
    {
     "name": "stdout",
     "output_type": "stream",
     "text": [
      "| \u001b[0m 1       \u001b[0m | \u001b[0m-2.64    \u001b[0m | \u001b[0m 0.9838  \u001b[0m | \u001b[0m 0.6422  \u001b[0m | \u001b[0m 0.703   \u001b[0m | \u001b[0m 0.05659 \u001b[0m | \u001b[0m 175.6   \u001b[0m | \u001b[0m 21.82   \u001b[0m | \u001b[0m 0.03329 \u001b[0m | \u001b[0m 5.415e+0\u001b[0m | \u001b[0m 31.62   \u001b[0m | \u001b[0m 0.5454  \u001b[0m |\n"
     ]
    },
    {
     "name": "stderr",
     "output_type": "stream",
     "text": [
      "C:\\Users\\chava\\Anaconda3\\envs\\tensorflow\\lib\\site-packages\\lightgbm\\engine.py:430: UserWarning:\n",
      "\n",
      "Found `num_iterations` in params. Will use it instead of argument\n",
      "\n",
      "C:\\Users\\chava\\Anaconda3\\envs\\tensorflow\\lib\\site-packages\\lightgbm\\engine.py:435: UserWarning:\n",
      "\n",
      "Found `early_stopping_round` in params. Will use it instead of argument\n",
      "\n"
     ]
    },
    {
     "name": "stdout",
     "output_type": "stream",
     "text": [
      "| \u001b[0m 2       \u001b[0m | \u001b[0m-2.682   \u001b[0m | \u001b[0m 0.8801  \u001b[0m | \u001b[0m 0.7152  \u001b[0m | \u001b[0m 0.7693  \u001b[0m | \u001b[0m 0.2358  \u001b[0m | \u001b[0m 593.0   \u001b[0m | \u001b[0m 14.22   \u001b[0m | \u001b[0m 0.07085 \u001b[0m | \u001b[0m 4.232e+0\u001b[0m | \u001b[0m 15.16   \u001b[0m | \u001b[0m 0.747   \u001b[0m |\n"
     ]
    },
    {
     "name": "stderr",
     "output_type": "stream",
     "text": [
      "C:\\Users\\chava\\Anaconda3\\envs\\tensorflow\\lib\\site-packages\\lightgbm\\engine.py:430: UserWarning:\n",
      "\n",
      "Found `num_iterations` in params. Will use it instead of argument\n",
      "\n",
      "C:\\Users\\chava\\Anaconda3\\envs\\tensorflow\\lib\\site-packages\\lightgbm\\engine.py:435: UserWarning:\n",
      "\n",
      "Found `early_stopping_round` in params. Will use it instead of argument\n",
      "\n"
     ]
    },
    {
     "name": "stdout",
     "output_type": "stream",
     "text": [
      "| \u001b[0m 3       \u001b[0m | \u001b[0m-2.817   \u001b[0m | \u001b[0m 0.8905  \u001b[0m | \u001b[0m 0.1758  \u001b[0m | \u001b[0m 0.1395  \u001b[0m | \u001b[0m 0.1177  \u001b[0m | \u001b[0m 134.5   \u001b[0m | \u001b[0m 21.27   \u001b[0m | \u001b[0m 0.007313\u001b[0m | \u001b[0m 4.325e+0\u001b[0m | \u001b[0m 42.78   \u001b[0m | \u001b[0m 0.152   \u001b[0m |\n"
     ]
    },
    {
     "name": "stderr",
     "output_type": "stream",
     "text": [
      "C:\\Users\\chava\\Anaconda3\\envs\\tensorflow\\lib\\site-packages\\lightgbm\\engine.py:430: UserWarning:\n",
      "\n",
      "Found `num_iterations` in params. Will use it instead of argument\n",
      "\n",
      "C:\\Users\\chava\\Anaconda3\\envs\\tensorflow\\lib\\site-packages\\lightgbm\\engine.py:435: UserWarning:\n",
      "\n",
      "Found `early_stopping_round` in params. Will use it instead of argument\n",
      "\n"
     ]
    },
    {
     "name": "stdout",
     "output_type": "stream",
     "text": [
      "| \u001b[0m 4       \u001b[0m | \u001b[0m-2.97    \u001b[0m | \u001b[0m 0.9093  \u001b[0m | \u001b[0m 0.4433  \u001b[0m | \u001b[0m 0.1288  \u001b[0m | \u001b[0m 0.3293  \u001b[0m | \u001b[0m 547.3   \u001b[0m | \u001b[0m 12.53   \u001b[0m | \u001b[0m 0.06479 \u001b[0m | \u001b[0m 1.084e+0\u001b[0m | \u001b[0m 41.79   \u001b[0m | \u001b[0m 0.3857  \u001b[0m |\n"
     ]
    },
    {
     "name": "stderr",
     "output_type": "stream",
     "text": [
      "C:\\Users\\chava\\Anaconda3\\envs\\tensorflow\\lib\\site-packages\\lightgbm\\engine.py:430: UserWarning:\n",
      "\n",
      "Found `num_iterations` in params. Will use it instead of argument\n",
      "\n",
      "C:\\Users\\chava\\Anaconda3\\envs\\tensorflow\\lib\\site-packages\\lightgbm\\engine.py:435: UserWarning:\n",
      "\n",
      "Found `early_stopping_round` in params. Will use it instead of argument\n",
      "\n"
     ]
    },
    {
     "name": "stdout",
     "output_type": "stream",
     "text": [
      "| \u001b[0m 5       \u001b[0m | \u001b[0m-2.654   \u001b[0m | \u001b[0m 0.8891  \u001b[0m | \u001b[0m 0.9771  \u001b[0m | \u001b[0m 0.6835  \u001b[0m | \u001b[0m 0.1256  \u001b[0m | \u001b[0m 1.79e+03\u001b[0m | \u001b[0m 21.75   \u001b[0m | \u001b[0m 0.02694 \u001b[0m | \u001b[0m 3.102e+0\u001b[0m | \u001b[0m 21.65   \u001b[0m | \u001b[0m 0.4222  \u001b[0m |\n"
     ]
    },
    {
     "name": "stderr",
     "output_type": "stream",
     "text": [
      "C:\\Users\\chava\\Anaconda3\\envs\\tensorflow\\lib\\site-packages\\lightgbm\\engine.py:430: UserWarning:\n",
      "\n",
      "Found `num_iterations` in params. Will use it instead of argument\n",
      "\n",
      "C:\\Users\\chava\\Anaconda3\\envs\\tensorflow\\lib\\site-packages\\lightgbm\\engine.py:435: UserWarning:\n",
      "\n",
      "Found `early_stopping_round` in params. Will use it instead of argument\n",
      "\n"
     ]
    },
    {
     "name": "stdout",
     "output_type": "stream",
     "text": [
      "| \u001b[0m 6       \u001b[0m | \u001b[0m-2.703   \u001b[0m | \u001b[0m 0.988   \u001b[0m | \u001b[0m 0.367   \u001b[0m | \u001b[0m 0.4478  \u001b[0m | \u001b[0m 0.3669  \u001b[0m | \u001b[0m 1.895e+0\u001b[0m | \u001b[0m 13.82   \u001b[0m | \u001b[0m 0.07126 \u001b[0m | \u001b[0m 509.3   \u001b[0m | \u001b[0m 22.13   \u001b[0m | \u001b[0m 0.5065  \u001b[0m |\n"
     ]
    },
    {
     "name": "stderr",
     "output_type": "stream",
     "text": [
      "C:\\Users\\chava\\Anaconda3\\envs\\tensorflow\\lib\\site-packages\\lightgbm\\engine.py:430: UserWarning:\n",
      "\n",
      "Found `num_iterations` in params. Will use it instead of argument\n",
      "\n",
      "C:\\Users\\chava\\Anaconda3\\envs\\tensorflow\\lib\\site-packages\\lightgbm\\engine.py:435: UserWarning:\n",
      "\n",
      "Found `early_stopping_round` in params. Will use it instead of argument\n",
      "\n"
     ]
    },
    {
     "name": "stdout",
     "output_type": "stream",
     "text": [
      "| \u001b[0m 7       \u001b[0m | \u001b[0m-2.741   \u001b[0m | \u001b[0m 0.9178  \u001b[0m | \u001b[0m 0.3269  \u001b[0m | \u001b[0m 0.2159  \u001b[0m | \u001b[0m 0.1038  \u001b[0m | \u001b[0m 1.715e+0\u001b[0m | \u001b[0m 20.26   \u001b[0m | \u001b[0m 0.09986 \u001b[0m | \u001b[0m 3.201e+0\u001b[0m | \u001b[0m 50.81   \u001b[0m | \u001b[0m 0.8676  \u001b[0m |\n"
     ]
    },
    {
     "name": "stderr",
     "output_type": "stream",
     "text": [
      "C:\\Users\\chava\\Anaconda3\\envs\\tensorflow\\lib\\site-packages\\lightgbm\\engine.py:430: UserWarning:\n",
      "\n",
      "Found `num_iterations` in params. Will use it instead of argument\n",
      "\n",
      "C:\\Users\\chava\\Anaconda3\\envs\\tensorflow\\lib\\site-packages\\lightgbm\\engine.py:435: UserWarning:\n",
      "\n",
      "Found `early_stopping_round` in params. Will use it instead of argument\n",
      "\n"
     ]
    },
    {
     "name": "stdout",
     "output_type": "stream",
     "text": [
      "| \u001b[95m 8       \u001b[0m | \u001b[95m-2.634   \u001b[0m | \u001b[95m 0.9277  \u001b[0m | \u001b[95m 0.3319  \u001b[0m | \u001b[95m 0.5336  \u001b[0m | \u001b[95m 0.04582 \u001b[0m | \u001b[95m 1.633e+0\u001b[0m | \u001b[95m 13.31   \u001b[0m | \u001b[95m 0.05198 \u001b[0m | \u001b[95m 5.266e+0\u001b[0m | \u001b[95m 34.94   \u001b[0m | \u001b[95m 0.9044  \u001b[0m |\n"
     ]
    },
    {
     "name": "stderr",
     "output_type": "stream",
     "text": [
      "C:\\Users\\chava\\Anaconda3\\envs\\tensorflow\\lib\\site-packages\\lightgbm\\engine.py:430: UserWarning:\n",
      "\n",
      "Found `num_iterations` in params. Will use it instead of argument\n",
      "\n",
      "C:\\Users\\chava\\Anaconda3\\envs\\tensorflow\\lib\\site-packages\\lightgbm\\engine.py:435: UserWarning:\n",
      "\n",
      "Found `early_stopping_round` in params. Will use it instead of argument\n",
      "\n"
     ]
    },
    {
     "name": "stdout",
     "output_type": "stream",
     "text": [
      "| \u001b[0m 9       \u001b[0m | \u001b[0m-2.647   \u001b[0m | \u001b[0m 0.8841  \u001b[0m | \u001b[0m 0.949   \u001b[0m | \u001b[0m 0.7292  \u001b[0m | \u001b[0m 0.1931  \u001b[0m | \u001b[0m 24.83   \u001b[0m | \u001b[0m 10.9    \u001b[0m | \u001b[0m 0.08275 \u001b[0m | \u001b[0m 4.052e+0\u001b[0m | \u001b[0m 14.78   \u001b[0m | \u001b[0m 0.2596  \u001b[0m |\n"
     ]
    },
    {
     "name": "stderr",
     "output_type": "stream",
     "text": [
      "C:\\Users\\chava\\Anaconda3\\envs\\tensorflow\\lib\\site-packages\\lightgbm\\engine.py:430: UserWarning:\n",
      "\n",
      "Found `num_iterations` in params. Will use it instead of argument\n",
      "\n",
      "C:\\Users\\chava\\Anaconda3\\envs\\tensorflow\\lib\\site-packages\\lightgbm\\engine.py:435: UserWarning:\n",
      "\n",
      "Found `early_stopping_round` in params. Will use it instead of argument\n",
      "\n"
     ]
    },
    {
     "name": "stdout",
     "output_type": "stream",
     "text": [
      "| \u001b[0m 10      \u001b[0m | \u001b[0m-2.705   \u001b[0m | \u001b[0m 0.8562  \u001b[0m | \u001b[0m 0.9433  \u001b[0m | \u001b[0m 0.8149  \u001b[0m | \u001b[0m 0.08171 \u001b[0m | \u001b[0m 201.6   \u001b[0m | \u001b[0m 18.6    \u001b[0m | \u001b[0m 0.07479 \u001b[0m | \u001b[0m 6.012e+0\u001b[0m | \u001b[0m 91.83   \u001b[0m | \u001b[0m 0.9386  \u001b[0m |\n"
     ]
    },
    {
     "name": "stderr",
     "output_type": "stream",
     "text": [
      "C:\\Users\\chava\\Anaconda3\\envs\\tensorflow\\lib\\site-packages\\lightgbm\\engine.py:430: UserWarning:\n",
      "\n",
      "Found `num_iterations` in params. Will use it instead of argument\n",
      "\n",
      "C:\\Users\\chava\\Anaconda3\\envs\\tensorflow\\lib\\site-packages\\lightgbm\\engine.py:435: UserWarning:\n",
      "\n",
      "Found `early_stopping_round` in params. Will use it instead of argument\n",
      "\n"
     ]
    },
    {
     "name": "stdout",
     "output_type": "stream",
     "text": [
      "| \u001b[0m 11      \u001b[0m | \u001b[0m-2.681   \u001b[0m | \u001b[0m 0.9123  \u001b[0m | \u001b[0m 0.8908  \u001b[0m | \u001b[0m 0.35    \u001b[0m | \u001b[0m 0.3087  \u001b[0m | \u001b[0m 428.1   \u001b[0m | \u001b[0m 14.33   \u001b[0m | \u001b[0m 0.02807 \u001b[0m | \u001b[0m 2.493e+0\u001b[0m | \u001b[0m 11.3    \u001b[0m | \u001b[0m 0.6091  \u001b[0m |\n"
     ]
    },
    {
     "name": "stderr",
     "output_type": "stream",
     "text": [
      "C:\\Users\\chava\\Anaconda3\\envs\\tensorflow\\lib\\site-packages\\lightgbm\\engine.py:430: UserWarning:\n",
      "\n",
      "Found `num_iterations` in params. Will use it instead of argument\n",
      "\n",
      "C:\\Users\\chava\\Anaconda3\\envs\\tensorflow\\lib\\site-packages\\lightgbm\\engine.py:435: UserWarning:\n",
      "\n",
      "Found `early_stopping_round` in params. Will use it instead of argument\n",
      "\n"
     ]
    },
    {
     "name": "stdout",
     "output_type": "stream",
     "text": [
      "| \u001b[0m 12      \u001b[0m | \u001b[0m-2.705   \u001b[0m | \u001b[0m 0.9724  \u001b[0m | \u001b[0m 0.2591  \u001b[0m | \u001b[0m 0.7935  \u001b[0m | \u001b[0m 0.1712  \u001b[0m | \u001b[0m 321.6   \u001b[0m | \u001b[0m 10.85   \u001b[0m | \u001b[0m 0.04286 \u001b[0m | \u001b[0m 7.363e+0\u001b[0m | \u001b[0m 52.93   \u001b[0m | \u001b[0m 0.7007  \u001b[0m |\n"
     ]
    },
    {
     "name": "stderr",
     "output_type": "stream",
     "text": [
      "C:\\Users\\chava\\Anaconda3\\envs\\tensorflow\\lib\\site-packages\\lightgbm\\engine.py:430: UserWarning:\n",
      "\n",
      "Found `num_iterations` in params. Will use it instead of argument\n",
      "\n",
      "C:\\Users\\chava\\Anaconda3\\envs\\tensorflow\\lib\\site-packages\\lightgbm\\engine.py:435: UserWarning:\n",
      "\n",
      "Found `early_stopping_round` in params. Will use it instead of argument\n",
      "\n"
     ]
    },
    {
     "name": "stdout",
     "output_type": "stream",
     "text": [
      "| \u001b[0m 13      \u001b[0m | \u001b[0m-2.726   \u001b[0m | \u001b[0m 1.0     \u001b[0m | \u001b[0m 1.0     \u001b[0m | \u001b[0m 0.9     \u001b[0m | \u001b[0m 0.4     \u001b[0m | \u001b[0m 2e+03   \u001b[0m | \u001b[0m 10.0    \u001b[0m | \u001b[0m 0.1     \u001b[0m | \u001b[0m 1e+04   \u001b[0m | \u001b[0m 10.0    \u001b[0m | \u001b[0m 0.0     \u001b[0m |\n"
     ]
    },
    {
     "name": "stderr",
     "output_type": "stream",
     "text": [
      "C:\\Users\\chava\\Anaconda3\\envs\\tensorflow\\lib\\site-packages\\lightgbm\\engine.py:430: UserWarning:\n",
      "\n",
      "Found `num_iterations` in params. Will use it instead of argument\n",
      "\n",
      "C:\\Users\\chava\\Anaconda3\\envs\\tensorflow\\lib\\site-packages\\lightgbm\\engine.py:435: UserWarning:\n",
      "\n",
      "Found `early_stopping_round` in params. Will use it instead of argument\n",
      "\n"
     ]
    },
    {
     "name": "stdout",
     "output_type": "stream",
     "text": [
      "| \u001b[0m 14      \u001b[0m | \u001b[0m-4.718   \u001b[0m | \u001b[0m 0.8     \u001b[0m | \u001b[0m 0.0     \u001b[0m | \u001b[0m 0.1     \u001b[0m | \u001b[0m 0.001   \u001b[0m | \u001b[0m 1.0     \u001b[0m | \u001b[0m 25.0    \u001b[0m | \u001b[0m 0.001   \u001b[0m | \u001b[0m 1e+04   \u001b[0m | \u001b[0m 100.0   \u001b[0m | \u001b[0m 1.0     \u001b[0m |\n"
     ]
    },
    {
     "name": "stderr",
     "output_type": "stream",
     "text": [
      "C:\\Users\\chava\\Anaconda3\\envs\\tensorflow\\lib\\site-packages\\lightgbm\\engine.py:430: UserWarning:\n",
      "\n",
      "Found `num_iterations` in params. Will use it instead of argument\n",
      "\n",
      "C:\\Users\\chava\\Anaconda3\\envs\\tensorflow\\lib\\site-packages\\lightgbm\\engine.py:435: UserWarning:\n",
      "\n",
      "Found `early_stopping_round` in params. Will use it instead of argument\n",
      "\n"
     ]
    },
    {
     "name": "stdout",
     "output_type": "stream",
     "text": [
      "| \u001b[0m 15      \u001b[0m | \u001b[0m-2.749   \u001b[0m | \u001b[0m 1.0     \u001b[0m | \u001b[0m 1.0     \u001b[0m | \u001b[0m 0.9     \u001b[0m | \u001b[0m 0.388   \u001b[0m | \u001b[0m 2e+03   \u001b[0m | \u001b[0m 10.0    \u001b[0m | \u001b[0m 0.1     \u001b[0m | \u001b[0m 7.65e+03\u001b[0m | \u001b[0m 10.0    \u001b[0m | \u001b[0m 0.0     \u001b[0m |\n"
     ]
    },
    {
     "name": "stderr",
     "output_type": "stream",
     "text": [
      "C:\\Users\\chava\\Anaconda3\\envs\\tensorflow\\lib\\site-packages\\lightgbm\\engine.py:430: UserWarning:\n",
      "\n",
      "Found `num_iterations` in params. Will use it instead of argument\n",
      "\n",
      "C:\\Users\\chava\\Anaconda3\\envs\\tensorflow\\lib\\site-packages\\lightgbm\\engine.py:435: UserWarning:\n",
      "\n",
      "Found `early_stopping_round` in params. Will use it instead of argument\n",
      "\n"
     ]
    },
    {
     "name": "stdout",
     "output_type": "stream",
     "text": [
      "| \u001b[0m 16      \u001b[0m | \u001b[0m-3.218   \u001b[0m | \u001b[0m 0.9069  \u001b[0m | \u001b[0m 1.0     \u001b[0m | \u001b[0m 0.9     \u001b[0m | \u001b[0m 0.003827\u001b[0m | \u001b[0m 2e+03   \u001b[0m | \u001b[0m 10.0    \u001b[0m | \u001b[0m 0.1     \u001b[0m | \u001b[0m 1.782e+0\u001b[0m | \u001b[0m 100.0   \u001b[0m | \u001b[0m 0.6313  \u001b[0m |\n"
     ]
    },
    {
     "name": "stderr",
     "output_type": "stream",
     "text": [
      "C:\\Users\\chava\\Anaconda3\\envs\\tensorflow\\lib\\site-packages\\lightgbm\\engine.py:430: UserWarning:\n",
      "\n",
      "Found `num_iterations` in params. Will use it instead of argument\n",
      "\n",
      "C:\\Users\\chava\\Anaconda3\\envs\\tensorflow\\lib\\site-packages\\lightgbm\\engine.py:435: UserWarning:\n",
      "\n",
      "Found `early_stopping_round` in params. Will use it instead of argument\n",
      "\n"
     ]
    },
    {
     "name": "stdout",
     "output_type": "stream",
     "text": [
      "| \u001b[0m 17      \u001b[0m | \u001b[0m-4.439   \u001b[0m | \u001b[0m 0.8     \u001b[0m | \u001b[0m 1.0     \u001b[0m | \u001b[0m 0.9     \u001b[0m | \u001b[0m 0.001   \u001b[0m | \u001b[0m 1.0     \u001b[0m | \u001b[0m 25.0    \u001b[0m | \u001b[0m 0.001   \u001b[0m | \u001b[0m 10.0    \u001b[0m | \u001b[0m 10.0    \u001b[0m | \u001b[0m 0.0     \u001b[0m |\n"
     ]
    },
    {
     "name": "stderr",
     "output_type": "stream",
     "text": [
      "C:\\Users\\chava\\Anaconda3\\envs\\tensorflow\\lib\\site-packages\\lightgbm\\engine.py:430: UserWarning:\n",
      "\n",
      "Found `num_iterations` in params. Will use it instead of argument\n",
      "\n",
      "C:\\Users\\chava\\Anaconda3\\envs\\tensorflow\\lib\\site-packages\\lightgbm\\engine.py:435: UserWarning:\n",
      "\n",
      "Found `early_stopping_round` in params. Will use it instead of argument\n",
      "\n"
     ]
    },
    {
     "name": "stdout",
     "output_type": "stream",
     "text": [
      "| \u001b[0m 18      \u001b[0m | \u001b[0m-2.711   \u001b[0m | \u001b[0m 1.0     \u001b[0m | \u001b[0m 1.0     \u001b[0m | \u001b[0m 0.9     \u001b[0m | \u001b[0m 0.4     \u001b[0m | \u001b[0m 2e+03   \u001b[0m | \u001b[0m 25.0    \u001b[0m | \u001b[0m 0.1     \u001b[0m | \u001b[0m 6.412e+0\u001b[0m | \u001b[0m 10.0    \u001b[0m | \u001b[0m 0.0     \u001b[0m |\n"
     ]
    },
    {
     "name": "stderr",
     "output_type": "stream",
     "text": [
      "C:\\Users\\chava\\Anaconda3\\envs\\tensorflow\\lib\\site-packages\\lightgbm\\engine.py:430: UserWarning:\n",
      "\n",
      "Found `num_iterations` in params. Will use it instead of argument\n",
      "\n",
      "C:\\Users\\chava\\Anaconda3\\envs\\tensorflow\\lib\\site-packages\\lightgbm\\engine.py:435: UserWarning:\n",
      "\n",
      "Found `early_stopping_round` in params. Will use it instead of argument\n",
      "\n"
     ]
    },
    {
     "name": "stdout",
     "output_type": "stream",
     "text": [
      "| \u001b[0m 19      \u001b[0m | \u001b[0m-4.649   \u001b[0m | \u001b[0m 1.0     \u001b[0m | \u001b[0m 0.0     \u001b[0m | \u001b[0m 0.1     \u001b[0m | \u001b[0m 0.001   \u001b[0m | \u001b[0m 2e+03   \u001b[0m | \u001b[0m 25.0    \u001b[0m | \u001b[0m 0.1     \u001b[0m | \u001b[0m 8.876e+0\u001b[0m | \u001b[0m 100.0   \u001b[0m | \u001b[0m 1.0     \u001b[0m |\n"
     ]
    },
    {
     "name": "stderr",
     "output_type": "stream",
     "text": [
      "C:\\Users\\chava\\Anaconda3\\envs\\tensorflow\\lib\\site-packages\\lightgbm\\engine.py:430: UserWarning:\n",
      "\n",
      "Found `num_iterations` in params. Will use it instead of argument\n",
      "\n",
      "C:\\Users\\chava\\Anaconda3\\envs\\tensorflow\\lib\\site-packages\\lightgbm\\engine.py:435: UserWarning:\n",
      "\n",
      "Found `early_stopping_round` in params. Will use it instead of argument\n",
      "\n"
     ]
    },
    {
     "name": "stdout",
     "output_type": "stream",
     "text": [
      "| \u001b[0m 20      \u001b[0m | \u001b[0m-2.764   \u001b[0m | \u001b[0m 0.8     \u001b[0m | \u001b[0m 0.0     \u001b[0m | \u001b[0m 0.1     \u001b[0m | \u001b[0m 0.4     \u001b[0m | \u001b[0m 1.165e+0\u001b[0m | \u001b[0m 10.0    \u001b[0m | \u001b[0m 0.001   \u001b[0m | \u001b[0m 6.884e+0\u001b[0m | \u001b[0m 10.0    \u001b[0m | \u001b[0m 1.0     \u001b[0m |\n"
     ]
    },
    {
     "name": "stderr",
     "output_type": "stream",
     "text": [
      "C:\\Users\\chava\\Anaconda3\\envs\\tensorflow\\lib\\site-packages\\lightgbm\\engine.py:430: UserWarning:\n",
      "\n",
      "Found `num_iterations` in params. Will use it instead of argument\n",
      "\n",
      "C:\\Users\\chava\\Anaconda3\\envs\\tensorflow\\lib\\site-packages\\lightgbm\\engine.py:435: UserWarning:\n",
      "\n",
      "Found `early_stopping_round` in params. Will use it instead of argument\n",
      "\n"
     ]
    },
    {
     "name": "stdout",
     "output_type": "stream",
     "text": [
      "| \u001b[0m 21      \u001b[0m | \u001b[0m-2.692   \u001b[0m | \u001b[0m 0.8     \u001b[0m | \u001b[0m 1.0     \u001b[0m | \u001b[0m 0.9     \u001b[0m | \u001b[0m 0.4     \u001b[0m | \u001b[0m 2e+03   \u001b[0m | \u001b[0m 25.0    \u001b[0m | \u001b[0m 0.001   \u001b[0m | \u001b[0m 4.341e+0\u001b[0m | \u001b[0m 10.0    \u001b[0m | \u001b[0m 0.0     \u001b[0m |\n"
     ]
    },
    {
     "name": "stderr",
     "output_type": "stream",
     "text": [
      "C:\\Users\\chava\\Anaconda3\\envs\\tensorflow\\lib\\site-packages\\lightgbm\\engine.py:430: UserWarning:\n",
      "\n",
      "Found `num_iterations` in params. Will use it instead of argument\n",
      "\n",
      "C:\\Users\\chava\\Anaconda3\\envs\\tensorflow\\lib\\site-packages\\lightgbm\\engine.py:435: UserWarning:\n",
      "\n",
      "Found `early_stopping_round` in params. Will use it instead of argument\n",
      "\n"
     ]
    },
    {
     "name": "stdout",
     "output_type": "stream",
     "text": [
      "| \u001b[95m 22      \u001b[0m | \u001b[95m-2.561   \u001b[0m | \u001b[95m 0.991   \u001b[0m | \u001b[95m 0.0     \u001b[0m | \u001b[95m 0.9     \u001b[0m | \u001b[95m 0.4     \u001b[0m | \u001b[95m 1.0     \u001b[0m | \u001b[95m 25.0    \u001b[0m | \u001b[95m 0.001   \u001b[0m | \u001b[95m 3.129e+0\u001b[0m | \u001b[95m 100.0   \u001b[0m | \u001b[95m 0.1358  \u001b[0m |\n"
     ]
    },
    {
     "name": "stderr",
     "output_type": "stream",
     "text": [
      "C:\\Users\\chava\\Anaconda3\\envs\\tensorflow\\lib\\site-packages\\lightgbm\\engine.py:430: UserWarning:\n",
      "\n",
      "Found `num_iterations` in params. Will use it instead of argument\n",
      "\n",
      "C:\\Users\\chava\\Anaconda3\\envs\\tensorflow\\lib\\site-packages\\lightgbm\\engine.py:435: UserWarning:\n",
      "\n",
      "Found `early_stopping_round` in params. Will use it instead of argument\n",
      "\n"
     ]
    },
    {
     "name": "stdout",
     "output_type": "stream",
     "text": [
      "| \u001b[0m 23      \u001b[0m | \u001b[0m-2.561   \u001b[0m | \u001b[0m 1.0     \u001b[0m | \u001b[0m 1.0     \u001b[0m | \u001b[0m 0.9     \u001b[0m | \u001b[0m 0.4     \u001b[0m | \u001b[0m 1.0     \u001b[0m | \u001b[0m 25.0    \u001b[0m | \u001b[0m 0.1     \u001b[0m | \u001b[0m 1.831e+0\u001b[0m | \u001b[0m 100.0   \u001b[0m | \u001b[0m 0.0     \u001b[0m |\n"
     ]
    },
    {
     "name": "stderr",
     "output_type": "stream",
     "text": [
      "C:\\Users\\chava\\Anaconda3\\envs\\tensorflow\\lib\\site-packages\\lightgbm\\engine.py:430: UserWarning:\n",
      "\n",
      "Found `num_iterations` in params. Will use it instead of argument\n",
      "\n",
      "C:\\Users\\chava\\Anaconda3\\envs\\tensorflow\\lib\\site-packages\\lightgbm\\engine.py:435: UserWarning:\n",
      "\n",
      "Found `early_stopping_round` in params. Will use it instead of argument\n",
      "\n"
     ]
    },
    {
     "name": "stdout",
     "output_type": "stream",
     "text": [
      "| \u001b[0m 24      \u001b[0m | \u001b[0m-4.649   \u001b[0m | \u001b[0m 0.8     \u001b[0m | \u001b[0m 1.0     \u001b[0m | \u001b[0m 0.1     \u001b[0m | \u001b[0m 0.001   \u001b[0m | \u001b[0m 2e+03   \u001b[0m | \u001b[0m 25.0    \u001b[0m | \u001b[0m 0.001   \u001b[0m | \u001b[0m 10.0    \u001b[0m | \u001b[0m 100.0   \u001b[0m | \u001b[0m 0.0     \u001b[0m |\n"
     ]
    },
    {
     "name": "stderr",
     "output_type": "stream",
     "text": [
      "C:\\Users\\chava\\Anaconda3\\envs\\tensorflow\\lib\\site-packages\\lightgbm\\engine.py:430: UserWarning:\n",
      "\n",
      "Found `num_iterations` in params. Will use it instead of argument\n",
      "\n",
      "C:\\Users\\chava\\Anaconda3\\envs\\tensorflow\\lib\\site-packages\\lightgbm\\engine.py:435: UserWarning:\n",
      "\n",
      "Found `early_stopping_round` in params. Will use it instead of argument\n",
      "\n"
     ]
    },
    {
     "name": "stdout",
     "output_type": "stream",
     "text": [
      "| \u001b[0m 25      \u001b[0m | \u001b[0m-2.711   \u001b[0m | \u001b[0m 1.0     \u001b[0m | \u001b[0m 0.0     \u001b[0m | \u001b[0m 0.9     \u001b[0m | \u001b[0m 0.4     \u001b[0m | \u001b[0m 1.45e+03\u001b[0m | \u001b[0m 25.0    \u001b[0m | \u001b[0m 0.1     \u001b[0m | \u001b[0m 1.05e+03\u001b[0m | \u001b[0m 10.0    \u001b[0m | \u001b[0m 1.0     \u001b[0m |\n"
     ]
    },
    {
     "name": "stderr",
     "output_type": "stream",
     "text": [
      "C:\\Users\\chava\\Anaconda3\\envs\\tensorflow\\lib\\site-packages\\lightgbm\\engine.py:430: UserWarning:\n",
      "\n",
      "Found `num_iterations` in params. Will use it instead of argument\n",
      "\n",
      "C:\\Users\\chava\\Anaconda3\\envs\\tensorflow\\lib\\site-packages\\lightgbm\\engine.py:435: UserWarning:\n",
      "\n",
      "Found `early_stopping_round` in params. Will use it instead of argument\n",
      "\n"
     ]
    },
    {
     "name": "stdout",
     "output_type": "stream",
     "text": [
      "| \u001b[0m 26      \u001b[0m | \u001b[0m-2.561   \u001b[0m | \u001b[0m 0.8     \u001b[0m | \u001b[0m 1.0     \u001b[0m | \u001b[0m 0.9     \u001b[0m | \u001b[0m 0.4     \u001b[0m | \u001b[0m 1.0     \u001b[0m | \u001b[0m 25.0    \u001b[0m | \u001b[0m 0.1     \u001b[0m | \u001b[0m 8.289e+0\u001b[0m | \u001b[0m 10.0    \u001b[0m | \u001b[0m 0.0     \u001b[0m |\n"
     ]
    },
    {
     "name": "stderr",
     "output_type": "stream",
     "text": [
      "C:\\Users\\chava\\Anaconda3\\envs\\tensorflow\\lib\\site-packages\\lightgbm\\engine.py:430: UserWarning:\n",
      "\n",
      "Found `num_iterations` in params. Will use it instead of argument\n",
      "\n",
      "C:\\Users\\chava\\Anaconda3\\envs\\tensorflow\\lib\\site-packages\\lightgbm\\engine.py:435: UserWarning:\n",
      "\n",
      "Found `early_stopping_round` in params. Will use it instead of argument\n",
      "\n"
     ]
    },
    {
     "name": "stdout",
     "output_type": "stream",
     "text": [
      "| \u001b[0m 27      \u001b[0m | \u001b[0m-2.978   \u001b[0m | \u001b[0m 1.0     \u001b[0m | \u001b[0m 0.0     \u001b[0m | \u001b[0m 0.1     \u001b[0m | \u001b[0m 0.4     \u001b[0m | \u001b[0m 1.036e+0\u001b[0m | \u001b[0m 25.0    \u001b[0m | \u001b[0m 0.1     \u001b[0m | \u001b[0m 5.848e+0\u001b[0m | \u001b[0m 100.0   \u001b[0m | \u001b[0m 0.0     \u001b[0m |\n"
     ]
    },
    {
     "name": "stderr",
     "output_type": "stream",
     "text": [
      "C:\\Users\\chava\\Anaconda3\\envs\\tensorflow\\lib\\site-packages\\lightgbm\\engine.py:430: UserWarning:\n",
      "\n",
      "Found `num_iterations` in params. Will use it instead of argument\n",
      "\n",
      "C:\\Users\\chava\\Anaconda3\\envs\\tensorflow\\lib\\site-packages\\lightgbm\\engine.py:435: UserWarning:\n",
      "\n",
      "Found `early_stopping_round` in params. Will use it instead of argument\n",
      "\n"
     ]
    },
    {
     "name": "stdout",
     "output_type": "stream",
     "text": [
      "| \u001b[0m 28      \u001b[0m | \u001b[0m-2.711   \u001b[0m | \u001b[0m 1.0     \u001b[0m | \u001b[0m 1.0     \u001b[0m | \u001b[0m 0.9     \u001b[0m | \u001b[0m 0.4     \u001b[0m | \u001b[0m 907.9   \u001b[0m | \u001b[0m 25.0    \u001b[0m | \u001b[0m 0.1     \u001b[0m | \u001b[0m 7.976e+0\u001b[0m | \u001b[0m 10.0    \u001b[0m | \u001b[0m 0.0     \u001b[0m |\n"
     ]
    },
    {
     "name": "stderr",
     "output_type": "stream",
     "text": [
      "C:\\Users\\chava\\Anaconda3\\envs\\tensorflow\\lib\\site-packages\\lightgbm\\engine.py:430: UserWarning:\n",
      "\n",
      "Found `num_iterations` in params. Will use it instead of argument\n",
      "\n",
      "C:\\Users\\chava\\Anaconda3\\envs\\tensorflow\\lib\\site-packages\\lightgbm\\engine.py:435: UserWarning:\n",
      "\n",
      "Found `early_stopping_round` in params. Will use it instead of argument\n",
      "\n"
     ]
    },
    {
     "name": "stdout",
     "output_type": "stream",
     "text": [
      "| \u001b[0m 29      \u001b[0m | \u001b[0m-2.692   \u001b[0m | \u001b[0m 0.8     \u001b[0m | \u001b[0m 1.0     \u001b[0m | \u001b[0m 0.9     \u001b[0m | \u001b[0m 0.4     \u001b[0m | \u001b[0m 724.7   \u001b[0m | \u001b[0m 25.0    \u001b[0m | \u001b[0m 0.001   \u001b[0m | \u001b[0m 3.357e+0\u001b[0m | \u001b[0m 10.0    \u001b[0m | \u001b[0m 0.0     \u001b[0m |\n"
     ]
    },
    {
     "name": "stderr",
     "output_type": "stream",
     "text": [
      "C:\\Users\\chava\\Anaconda3\\envs\\tensorflow\\lib\\site-packages\\lightgbm\\engine.py:430: UserWarning:\n",
      "\n",
      "Found `num_iterations` in params. Will use it instead of argument\n",
      "\n",
      "C:\\Users\\chava\\Anaconda3\\envs\\tensorflow\\lib\\site-packages\\lightgbm\\engine.py:435: UserWarning:\n",
      "\n",
      "Found `early_stopping_round` in params. Will use it instead of argument\n",
      "\n"
     ]
    },
    {
     "name": "stdout",
     "output_type": "stream",
     "text": [
      "| \u001b[0m 30      \u001b[0m | \u001b[0m-2.826   \u001b[0m | \u001b[0m 1.0     \u001b[0m | \u001b[0m 1.0     \u001b[0m | \u001b[0m 0.9     \u001b[0m | \u001b[0m 0.4     \u001b[0m | \u001b[0m 1.209e+0\u001b[0m | \u001b[0m 25.0    \u001b[0m | \u001b[0m 0.1     \u001b[0m | \u001b[0m 4.699e+0\u001b[0m | \u001b[0m 100.0   \u001b[0m | \u001b[0m 0.0     \u001b[0m |\n"
     ]
    },
    {
     "name": "stderr",
     "output_type": "stream",
     "text": [
      "C:\\Users\\chava\\Anaconda3\\envs\\tensorflow\\lib\\site-packages\\lightgbm\\engine.py:430: UserWarning:\n",
      "\n",
      "Found `num_iterations` in params. Will use it instead of argument\n",
      "\n",
      "C:\\Users\\chava\\Anaconda3\\envs\\tensorflow\\lib\\site-packages\\lightgbm\\engine.py:435: UserWarning:\n",
      "\n",
      "Found `early_stopping_round` in params. Will use it instead of argument\n",
      "\n"
     ]
    },
    {
     "name": "stdout",
     "output_type": "stream",
     "text": [
      "| \u001b[0m 31      \u001b[0m | \u001b[0m-2.764   \u001b[0m | \u001b[0m 1.0     \u001b[0m | \u001b[0m 0.0     \u001b[0m | \u001b[0m 0.1     \u001b[0m | \u001b[0m 0.4     \u001b[0m | \u001b[0m 2e+03   \u001b[0m | \u001b[0m 10.0    \u001b[0m | \u001b[0m 0.001   \u001b[0m | \u001b[0m 986.6   \u001b[0m | \u001b[0m 10.0    \u001b[0m | \u001b[0m 1.0     \u001b[0m |\n"
     ]
    },
    {
     "name": "stderr",
     "output_type": "stream",
     "text": [
      "C:\\Users\\chava\\Anaconda3\\envs\\tensorflow\\lib\\site-packages\\lightgbm\\engine.py:430: UserWarning:\n",
      "\n",
      "Found `num_iterations` in params. Will use it instead of argument\n",
      "\n",
      "C:\\Users\\chava\\Anaconda3\\envs\\tensorflow\\lib\\site-packages\\lightgbm\\engine.py:435: UserWarning:\n",
      "\n",
      "Found `early_stopping_round` in params. Will use it instead of argument\n",
      "\n"
     ]
    },
    {
     "name": "stdout",
     "output_type": "stream",
     "text": [
      "| \u001b[0m 32      \u001b[0m | \u001b[0m-2.826   \u001b[0m | \u001b[0m 1.0     \u001b[0m | \u001b[0m 0.0     \u001b[0m | \u001b[0m 0.9     \u001b[0m | \u001b[0m 0.4     \u001b[0m | \u001b[0m 1.242e+0\u001b[0m | \u001b[0m 25.0    \u001b[0m | \u001b[0m 0.1     \u001b[0m | \u001b[0m 2.342e+0\u001b[0m | \u001b[0m 100.0   \u001b[0m | \u001b[0m 0.0     \u001b[0m |\n"
     ]
    },
    {
     "name": "stderr",
     "output_type": "stream",
     "text": [
      "C:\\Users\\chava\\Anaconda3\\envs\\tensorflow\\lib\\site-packages\\lightgbm\\engine.py:430: UserWarning:\n",
      "\n",
      "Found `num_iterations` in params. Will use it instead of argument\n",
      "\n",
      "C:\\Users\\chava\\Anaconda3\\envs\\tensorflow\\lib\\site-packages\\lightgbm\\engine.py:435: UserWarning:\n",
      "\n",
      "Found `early_stopping_round` in params. Will use it instead of argument\n",
      "\n"
     ]
    },
    {
     "name": "stdout",
     "output_type": "stream",
     "text": [
      "| \u001b[0m 33      \u001b[0m | \u001b[0m-4.439   \u001b[0m | \u001b[0m 1.0     \u001b[0m | \u001b[0m 1.0     \u001b[0m | \u001b[0m 0.9     \u001b[0m | \u001b[0m 0.001   \u001b[0m | \u001b[0m 1.0     \u001b[0m | \u001b[0m 25.0    \u001b[0m | \u001b[0m 0.1     \u001b[0m | \u001b[0m 6.732e+0\u001b[0m | \u001b[0m 10.0    \u001b[0m | \u001b[0m 0.0     \u001b[0m |\n"
     ]
    },
    {
     "name": "stderr",
     "output_type": "stream",
     "text": [
      "C:\\Users\\chava\\Anaconda3\\envs\\tensorflow\\lib\\site-packages\\lightgbm\\engine.py:430: UserWarning:\n",
      "\n",
      "Found `num_iterations` in params. Will use it instead of argument\n",
      "\n",
      "C:\\Users\\chava\\Anaconda3\\envs\\tensorflow\\lib\\site-packages\\lightgbm\\engine.py:435: UserWarning:\n",
      "\n",
      "Found `early_stopping_round` in params. Will use it instead of argument\n",
      "\n"
     ]
    },
    {
     "name": "stdout",
     "output_type": "stream",
     "text": [
      "| \u001b[0m 34      \u001b[0m | \u001b[0m-3.006   \u001b[0m | \u001b[0m 1.0     \u001b[0m | \u001b[0m 0.0     \u001b[0m | \u001b[0m 0.1     \u001b[0m | \u001b[0m 0.4     \u001b[0m | \u001b[0m 2e+03   \u001b[0m | \u001b[0m 10.0    \u001b[0m | \u001b[0m 0.001   \u001b[0m | \u001b[0m 7.051e+0\u001b[0m | \u001b[0m 100.0   \u001b[0m | \u001b[0m 1.0     \u001b[0m |\n"
     ]
    },
    {
     "name": "stderr",
     "output_type": "stream",
     "text": [
      "C:\\Users\\chava\\Anaconda3\\envs\\tensorflow\\lib\\site-packages\\lightgbm\\engine.py:430: UserWarning:\n",
      "\n",
      "Found `num_iterations` in params. Will use it instead of argument\n",
      "\n",
      "C:\\Users\\chava\\Anaconda3\\envs\\tensorflow\\lib\\site-packages\\lightgbm\\engine.py:435: UserWarning:\n",
      "\n",
      "Found `early_stopping_round` in params. Will use it instead of argument\n",
      "\n"
     ]
    },
    {
     "name": "stdout",
     "output_type": "stream",
     "text": [
      "| \u001b[0m 35      \u001b[0m | \u001b[0m-4.154   \u001b[0m | \u001b[0m 0.8     \u001b[0m | \u001b[0m 1.0     \u001b[0m | \u001b[0m 0.9     \u001b[0m | \u001b[0m 0.001   \u001b[0m | \u001b[0m 2e+03   \u001b[0m | \u001b[0m 10.0    \u001b[0m | \u001b[0m 0.001   \u001b[0m | \u001b[0m 5.706e+0\u001b[0m | \u001b[0m 100.0   \u001b[0m | \u001b[0m 0.0     \u001b[0m |\n"
     ]
    },
    {
     "name": "stderr",
     "output_type": "stream",
     "text": [
      "C:\\Users\\chava\\Anaconda3\\envs\\tensorflow\\lib\\site-packages\\lightgbm\\engine.py:430: UserWarning:\n",
      "\n",
      "Found `num_iterations` in params. Will use it instead of argument\n",
      "\n",
      "C:\\Users\\chava\\Anaconda3\\envs\\tensorflow\\lib\\site-packages\\lightgbm\\engine.py:435: UserWarning:\n",
      "\n",
      "Found `early_stopping_round` in params. Will use it instead of argument\n",
      "\n"
     ]
    },
    {
     "name": "stdout",
     "output_type": "stream",
     "text": [
      "| \u001b[0m 36      \u001b[0m | \u001b[0m-4.154   \u001b[0m | \u001b[0m 1.0     \u001b[0m | \u001b[0m 0.0     \u001b[0m | \u001b[0m 0.9     \u001b[0m | \u001b[0m 0.001   \u001b[0m | \u001b[0m 586.3   \u001b[0m | \u001b[0m 10.0    \u001b[0m | \u001b[0m 0.001   \u001b[0m | \u001b[0m 8.792e+0\u001b[0m | \u001b[0m 100.0   \u001b[0m | \u001b[0m 0.0     \u001b[0m |\n"
     ]
    },
    {
     "name": "stderr",
     "output_type": "stream",
     "text": [
      "C:\\Users\\chava\\Anaconda3\\envs\\tensorflow\\lib\\site-packages\\lightgbm\\engine.py:430: UserWarning:\n",
      "\n",
      "Found `num_iterations` in params. Will use it instead of argument\n",
      "\n",
      "C:\\Users\\chava\\Anaconda3\\envs\\tensorflow\\lib\\site-packages\\lightgbm\\engine.py:435: UserWarning:\n",
      "\n",
      "Found `early_stopping_round` in params. Will use it instead of argument\n",
      "\n"
     ]
    },
    {
     "name": "stdout",
     "output_type": "stream",
     "text": [
      "| \u001b[0m 37      \u001b[0m | \u001b[0m-2.726   \u001b[0m | \u001b[0m 1.0     \u001b[0m | \u001b[0m 1.0     \u001b[0m | \u001b[0m 0.9     \u001b[0m | \u001b[0m 0.4     \u001b[0m | \u001b[0m 762.5   \u001b[0m | \u001b[0m 10.0    \u001b[0m | \u001b[0m 0.1     \u001b[0m | \u001b[0m 1.77e+03\u001b[0m | \u001b[0m 10.0    \u001b[0m | \u001b[0m 1.0     \u001b[0m |\n"
     ]
    },
    {
     "name": "stderr",
     "output_type": "stream",
     "text": [
      "C:\\Users\\chava\\Anaconda3\\envs\\tensorflow\\lib\\site-packages\\lightgbm\\engine.py:430: UserWarning:\n",
      "\n",
      "Found `num_iterations` in params. Will use it instead of argument\n",
      "\n",
      "C:\\Users\\chava\\Anaconda3\\envs\\tensorflow\\lib\\site-packages\\lightgbm\\engine.py:435: UserWarning:\n",
      "\n",
      "Found `early_stopping_round` in params. Will use it instead of argument\n",
      "\n"
     ]
    },
    {
     "name": "stdout",
     "output_type": "stream",
     "text": [
      "| \u001b[0m 38      \u001b[0m | \u001b[0m-4.718   \u001b[0m | \u001b[0m 1.0     \u001b[0m | \u001b[0m 0.0     \u001b[0m | \u001b[0m 0.1     \u001b[0m | \u001b[0m 0.001   \u001b[0m | \u001b[0m 1.0     \u001b[0m | \u001b[0m 10.0    \u001b[0m | \u001b[0m 0.001   \u001b[0m | \u001b[0m 7.797e+0\u001b[0m | \u001b[0m 100.0   \u001b[0m | \u001b[0m 1.0     \u001b[0m |\n"
     ]
    },
    {
     "name": "stderr",
     "output_type": "stream",
     "text": [
      "C:\\Users\\chava\\Anaconda3\\envs\\tensorflow\\lib\\site-packages\\lightgbm\\engine.py:430: UserWarning:\n",
      "\n",
      "Found `num_iterations` in params. Will use it instead of argument\n",
      "\n",
      "C:\\Users\\chava\\Anaconda3\\envs\\tensorflow\\lib\\site-packages\\lightgbm\\engine.py:435: UserWarning:\n",
      "\n",
      "Found `early_stopping_round` in params. Will use it instead of argument\n",
      "\n"
     ]
    },
    {
     "name": "stdout",
     "output_type": "stream",
     "text": [
      "| \u001b[0m 39      \u001b[0m | \u001b[0m-4.188   \u001b[0m | \u001b[0m 0.9787  \u001b[0m | \u001b[0m 0.4116  \u001b[0m | \u001b[0m 0.5221  \u001b[0m | \u001b[0m 0.001   \u001b[0m | \u001b[0m 246.9   \u001b[0m | \u001b[0m 17.99   \u001b[0m | \u001b[0m 0.01136 \u001b[0m | \u001b[0m 3.569e+0\u001b[0m | \u001b[0m 66.58   \u001b[0m | \u001b[0m 0.6482  \u001b[0m |\n"
     ]
    },
    {
     "name": "stderr",
     "output_type": "stream",
     "text": [
      "C:\\Users\\chava\\Anaconda3\\envs\\tensorflow\\lib\\site-packages\\lightgbm\\engine.py:430: UserWarning:\n",
      "\n",
      "Found `num_iterations` in params. Will use it instead of argument\n",
      "\n",
      "C:\\Users\\chava\\Anaconda3\\envs\\tensorflow\\lib\\site-packages\\lightgbm\\engine.py:435: UserWarning:\n",
      "\n",
      "Found `early_stopping_round` in params. Will use it instead of argument\n",
      "\n"
     ]
    },
    {
     "name": "stdout",
     "output_type": "stream",
     "text": [
      "| \u001b[0m 40      \u001b[0m | \u001b[0m-2.83    \u001b[0m | \u001b[0m 0.8781  \u001b[0m | \u001b[0m 0.3814  \u001b[0m | \u001b[0m 0.766   \u001b[0m | \u001b[0m 0.4     \u001b[0m | \u001b[0m 171.4   \u001b[0m | \u001b[0m 21.86   \u001b[0m | \u001b[0m 0.001   \u001b[0m | \u001b[0m 2.819e+0\u001b[0m | \u001b[0m 64.47   \u001b[0m | \u001b[0m 0.192   \u001b[0m |\n"
     ]
    },
    {
     "name": "stderr",
     "output_type": "stream",
     "text": [
      "C:\\Users\\chava\\Anaconda3\\envs\\tensorflow\\lib\\site-packages\\lightgbm\\engine.py:430: UserWarning:\n",
      "\n",
      "Found `num_iterations` in params. Will use it instead of argument\n",
      "\n",
      "C:\\Users\\chava\\Anaconda3\\envs\\tensorflow\\lib\\site-packages\\lightgbm\\engine.py:435: UserWarning:\n",
      "\n",
      "Found `early_stopping_round` in params. Will use it instead of argument\n",
      "\n"
     ]
    },
    {
     "name": "stdout",
     "output_type": "stream",
     "text": [
      "| \u001b[0m 41      \u001b[0m | \u001b[0m-2.764   \u001b[0m | \u001b[0m 0.9203  \u001b[0m | \u001b[0m 0.8694  \u001b[0m | \u001b[0m 0.7268  \u001b[0m | \u001b[0m 0.3407  \u001b[0m | \u001b[0m 353.1   \u001b[0m | \u001b[0m 17.53   \u001b[0m | \u001b[0m 0.07592 \u001b[0m | \u001b[0m 2.029e+0\u001b[0m | \u001b[0m 48.58   \u001b[0m | \u001b[0m 0.5118  \u001b[0m |\n"
     ]
    },
    {
     "name": "stderr",
     "output_type": "stream",
     "text": [
      "C:\\Users\\chava\\Anaconda3\\envs\\tensorflow\\lib\\site-packages\\lightgbm\\engine.py:430: UserWarning:\n",
      "\n",
      "Found `num_iterations` in params. Will use it instead of argument\n",
      "\n",
      "C:\\Users\\chava\\Anaconda3\\envs\\tensorflow\\lib\\site-packages\\lightgbm\\engine.py:435: UserWarning:\n",
      "\n",
      "Found `early_stopping_round` in params. Will use it instead of argument\n",
      "\n"
     ]
    },
    {
     "name": "stdout",
     "output_type": "stream",
     "text": [
      "| \u001b[0m 42      \u001b[0m | \u001b[0m-2.663   \u001b[0m | \u001b[0m 0.8665  \u001b[0m | \u001b[0m 0.9369  \u001b[0m | \u001b[0m 0.4985  \u001b[0m | \u001b[0m 0.06769 \u001b[0m | \u001b[0m 177.6   \u001b[0m | \u001b[0m 23.21   \u001b[0m | \u001b[0m 0.06621 \u001b[0m | \u001b[0m 5.414e+0\u001b[0m | \u001b[0m 34.42   \u001b[0m | \u001b[0m 0.1354  \u001b[0m |\n",
      "=================================================================================================================================================\n"
     ]
    },
    {
     "data": {
      "text/plain": [
       "{'target': -2.560506743625896,\n",
       " 'params': {'bagging_fraction': 0.9909798193784446,\n",
       "  'colsample_bytree': 0.0,\n",
       "  'feature_fraction': 0.9,\n",
       "  'learning_rate': 0.4,\n",
       "  'max_depth': 1.0,\n",
       "  'min_child_weight': 25.0,\n",
       "  'min_split_gain': 0.001,\n",
       "  'n_estimators': 3128.6333721765573,\n",
       "  'num_leaves': 100.0,\n",
       "  'subsample': 0.13582740962405526}}"
      ]
     },
     "execution_count": 18,
     "metadata": {},
     "output_type": "execute_result"
    }
   ],
   "source": [
    "train_set = lgb.Dataset(X_train, label=y_train)\n",
    "valid_set = lgb.Dataset(X_test, label=y_test)\n",
    "params = {\n",
    "        \"objective\" : \"regression\", \n",
    "        \"metric\" : \"rmse\", \n",
    "        \"num_leaves\" : 100, \n",
    "        \"learning_rate\" : 0.03, \n",
    "        \"bagging_fraction\" : 0.9,\n",
    "        \"bagging_seed\" : 0, \n",
    "        \"num_threads\" : 4,\n",
    "        \"colsample_bytree\" : 0.5,\n",
    "        'min_data_in_leaf':1900, \n",
    "        'min_split_gain':0.00011,\n",
    "        'lambda_l2':9\n",
    "}\n",
    "\n",
    "model = lgb.train(  params, \n",
    "                    train_set = train_set,\n",
    "                    num_boost_round=9400,\n",
    "                    early_stopping_rounds=200,\n",
    "                    verbose_eval=100, \n",
    "                    valid_sets=[train_set,valid_set]\n",
    "                  )\n",
    "\n",
    "\n",
    "y_pred=model.predict(X_test, num_iteration=model.best_iteration)\n",
    "print('The rmse of Baseline lightgbm is :', sqrt(mean_squared_error(y_test, y_pred)))\n",
    "\n",
    "def bayesion_opt_lgbm(X, y, init_iter=12, n_iters=30, random_state=11, seed = 101, num_iterations = 200):\n",
    "    \n",
    "    \n",
    "    dtrain = lgb.Dataset(data=X, label=y)\n",
    "      \n",
    "      # Objective Function\n",
    "    def hyp_lgbm(num_leaves, feature_fraction, bagging_fraction, max_depth, min_split_gain, min_child_weight, n_estimators, learning_rate, subsample, colsample_bytree):\n",
    "        \n",
    "        params = {'application':'regression','num_iterations': num_iterations, \n",
    "                         'early_stopping_round':50,\n",
    "                        'metric':'l2'} # Default parameters \n",
    "       \n",
    "                \n",
    "        params[\"n_estimators\"] = int(max(n_estimators, 10)) \n",
    "        params[\"learning_rate\"] = float(max(learning_rate, 0 ))\n",
    "        params[\"num_leaves\"] = int(round(num_leaves))\n",
    "        params['feature_fraction'] = max(min(feature_fraction, 1), 0)\n",
    "        params['bagging_fraction'] = max(min(bagging_fraction, 1), 0)\n",
    "        params['max_depth'] = int(round(max_depth))\n",
    "        params['min_split_gain'] = min_split_gain\n",
    "        params['min_child_weight'] = min_child_weight\n",
    "        params['subsample'] = max(subsample, 0)\n",
    "        params['colsample_bytree'] = max(colsample_bytree, 0)\n",
    "        \n",
    "       \n",
    "             \n",
    "            \n",
    "            \n",
    "        cv_results = lgb.cv(params, dtrain, nfold=5, seed=seed, stratified=False,\n",
    "                                  verbose_eval =None, metrics=['l2'])\n",
    "              # print(cv_results)\n",
    "        return -np.min(cv_results['l2-mean'])\n",
    "    \n",
    "    \n",
    "      # Domain space-- Range of hyperparameters \n",
    "    pds = {     'num_leaves': (10, 100),\n",
    "                'feature_fraction': (0.1, 0.9),\n",
    "                'bagging_fraction': (0.8, 1),\n",
    "                'max_depth': (1, 2000),\n",
    "                'min_split_gain': (0.001, 0.1),\n",
    "                'min_child_weight': (10, 25),\n",
    "                'n_estimators' : (10,10000),\n",
    "                \"learning_rate\": (0.001, 0.4),\n",
    "                \"subsample\": (0, 1),\n",
    "                \"colsample_bytree\" : (0, 1)\n",
    "                \n",
    "                }\n",
    "\n",
    "      # Surrogate model\n",
    "    optimizer = BayesianOptimization(hyp_lgbm, pds, random_state=random_state)\n",
    "\n",
    "      # Optimize\n",
    "    optimizer.maximize(init_points=init_iter, n_iter=n_iters)\n",
    "    return optimizer.max\n",
    "\n",
    "opt_params = bayesion_opt_lgbm(X, y, init_iter=12, n_iters=30, random_state=77, seed = 101, num_iterations = 200)\n",
    "\n",
    "opt_params\n"
   ]
  },
  {
   "cell_type": "code",
   "execution_count": 19,
   "metadata": {},
   "outputs": [
    {
     "name": "stdout",
     "output_type": "stream",
     "text": [
      "Starting training...\n"
     ]
    },
    {
     "name": "stderr",
     "output_type": "stream",
     "text": [
      "C:\\Users\\chava\\Anaconda3\\envs\\tensorflow\\lib\\site-packages\\lightgbm\\engine.py:118: UserWarning:\n",
      "\n",
      "Found `n_estimators` in params. Will use it instead of argument\n",
      "\n"
     ]
    },
    {
     "name": "stdout",
     "output_type": "stream",
     "text": [
      "Starting predicting...\n",
      "The rmse of optimize lightgbm is : 1.5626659196437656\n"
     ]
    }
   ],
   "source": [
    "# create dataset for lightgbm\n",
    "lgb_train = lgb.Dataset(X_train, y_train)\n",
    "lgb_eval = lgb.Dataset(X_test, y_test, reference=lgb_train)\n",
    "\n",
    "# specify your configurations as a dict\n",
    "\n",
    "\n",
    "\n",
    "params = {'bagging_fraction': 0.8,\n",
    "  'colsample_bytree': 0.3,\n",
    "  'feature_fraction': 0.9,\n",
    "  'learning_rate': 0.4,\n",
    "  'max_depth': 1,\n",
    "  'min_child_weight': 25.0,\n",
    "  'min_split_gain': 0.001,\n",
    "  'n_estimators': 8160,\n",
    "  'num_leaves': 100,\n",
    "  'subsample': 0.0}\n",
    "\n",
    "print('Starting training...')\n",
    "# train\n",
    "gbm = lgb.train(params,\n",
    "                lgb_train,\n",
    "                num_boost_round=500,\n",
    "                valid_sets=lgb_eval)\n",
    "\n",
    "\n",
    "\n",
    "print('Starting predicting...')\n",
    "# predict\n",
    "y_pred = gbm.predict(X_test, num_iteration=gbm.best_iteration)\n",
    "# eval\n",
    "print('The rmse of optimize lightgbm is :', sqrt(mean_squared_error(y_test, y_pred)))"
   ]
  },
  {
   "cell_type": "markdown",
   "metadata": {},
   "source": [
    "# 3. Replacing zeros with the prediction obtained from best model and traning the complete dataset"
   ]
  },
  {
   "cell_type": "code",
   "execution_count": 20,
   "metadata": {},
   "outputs": [
    {
     "name": "stderr",
     "output_type": "stream",
     "text": [
      "C:\\Users\\chava\\Anaconda3\\envs\\tensorflow\\lib\\site-packages\\ipykernel_launcher.py:6: SettingWithCopyWarning:\n",
      "\n",
      "\n",
      "A value is trying to be set on a copy of a slice from a DataFrame.\n",
      "Try using .loc[row_indexer,col_indexer] = value instead\n",
      "\n",
      "See the caveats in the documentation: http://pandas.pydata.org/pandas-docs/stable/indexing.html#indexing-view-versus-copy\n",
      "\n"
     ]
    }
   ],
   "source": [
    "## our best model is xgbmodel_base \n",
    "##filling zeros \n",
    "\n",
    "X_test = newdf_V2.drop('revenue', axis = 1)\n",
    "y_pred = xgbmodel.predict(X_test)\n",
    "newdf_V2['revenue'] = y_pred\n",
    "final_data2 = pd.concat([newdf, newdf_V2], ignore_index=True)\n",
    "\n",
    "X = final_data2.drop('revenue', axis = 1)\n",
    "y = final_data2['revenue']\n",
    "X_train, X_test, y_train, y_test = train_test_split(X, y, test_size=0.20, random_state=123)\n",
    "## we are going to use \n",
    "X_test = final_check_X_test \n",
    "y_test = final_check_y_test"
   ]
  },
  {
   "cell_type": "markdown",
   "metadata": {},
   "source": [
    "## 3.1 Linear regression"
   ]
  },
  {
   "cell_type": "code",
   "execution_count": 21,
   "metadata": {},
   "outputs": [
    {
     "name": "stdout",
     "output_type": "stream",
     "text": [
      "The rmse of prediction of baseline linear regression is : 1.6960696873425651\n"
     ]
    }
   ],
   "source": [
    "from sklearn.linear_model import LinearRegression\n",
    "\n",
    "reg = LinearRegression()\n",
    "reg.fit(X_train, y_train)\n",
    "y_pred = reg.predict(X_test)\n",
    "print('The rmse of prediction of baseline linear regression is :', sqrt(mean_squared_error(y_test, y_pred)))\n",
    "linear_regression_after = sqrt(mean_squared_error(y_test, y_pred))"
   ]
  },
  {
   "cell_type": "markdown",
   "metadata": {},
   "source": [
    "## 3.2 RandomForest"
   ]
  },
  {
   "cell_type": "code",
   "execution_count": 22,
   "metadata": {},
   "outputs": [
    {
     "name": "stdout",
     "output_type": "stream",
     "text": [
      "The rmse of Random Forest Baseline is : 0.9562620949022258\n"
     ]
    },
    {
     "data": {
      "image/png": "[encoded data removed]",
      "text/plain": [
       "<Figure size 2880x1440 with 1 Axes>"
      ]
     },
     "metadata": {},
     "output_type": "display_data"
    },
    {
     "name": "stdout",
     "output_type": "stream",
     "text": [
      "|   iter    |  target   | max_depth | max_fe... | min_sa... | min_sa... | n_esti... |\n",
      "-------------------------------------------------------------------------------------\n",
      "| \u001b[0m 1       \u001b[0m | \u001b[0m-2.103   \u001b[0m | \u001b[0m 197.3   \u001b[0m | \u001b[0m 0.7267  \u001b[0m | \u001b[0m 53.71   \u001b[0m | \u001b[0m 12.29   \u001b[0m | \u001b[0m 666.7   \u001b[0m |\n",
      "| \u001b[0m 2       \u001b[0m | \u001b[0m-2.15    \u001b[0m | \u001b[0m 96.67   \u001b[0m | \u001b[0m 0.4151  \u001b[0m | \u001b[0m 93.83   \u001b[0m | \u001b[0m 7.979   \u001b[0m | \u001b[0m 579.3   \u001b[0m |\n",
      "| \u001b[0m 3       \u001b[0m | \u001b[0m-2.155   \u001b[0m | \u001b[0m 52.51   \u001b[0m | \u001b[0m 0.9203  \u001b[0m | \u001b[0m 77.42   \u001b[0m | \u001b[0m 2.938   \u001b[0m | \u001b[0m 859.9   \u001b[0m |\n",
      "| \u001b[0m 4       \u001b[0m | \u001b[0m-2.182   \u001b[0m | \u001b[0m 107.2   \u001b[0m | \u001b[0m 0.9654  \u001b[0m | \u001b[0m 99.04   \u001b[0m | \u001b[0m 4.218   \u001b[0m | \u001b[0m 656.6   \u001b[0m |\n",
      "| \u001b[0m 5       \u001b[0m | \u001b[0m-2.136   \u001b[0m | \u001b[0m 184.5   \u001b[0m | \u001b[0m 0.3136  \u001b[0m | \u001b[0m 69.24   \u001b[0m | \u001b[0m 3.997   \u001b[0m | \u001b[0m 790.0   \u001b[0m |\n",
      "| \u001b[0m 6       \u001b[0m | \u001b[0m-2.131   \u001b[0m | \u001b[0m 190.2   \u001b[0m | \u001b[0m 0.7422  \u001b[0m | \u001b[0m 71.61   \u001b[0m | \u001b[0m 10.93   \u001b[0m | \u001b[0m 541.1   \u001b[0m |\n",
      "| \u001b[0m 7       \u001b[0m | \u001b[0m-2.126   \u001b[0m | \u001b[0m 194.5   \u001b[0m | \u001b[0m 0.4982  \u001b[0m | \u001b[0m 75.49   \u001b[0m | \u001b[0m 7.415   \u001b[0m | \u001b[0m 447.4   \u001b[0m |\n",
      "| \u001b[0m 8       \u001b[0m | \u001b[0m-2.196   \u001b[0m | \u001b[0m 31.1    \u001b[0m | \u001b[0m 0.219   \u001b[0m | \u001b[0m 73.21   \u001b[0m | \u001b[0m 12.93   \u001b[0m | \u001b[0m 679.0   \u001b[0m |\n",
      "| \u001b[0m 9       \u001b[0m | \u001b[0m-2.15    \u001b[0m | \u001b[0m 167.1   \u001b[0m | \u001b[0m 0.5383  \u001b[0m | \u001b[0m 95.27   \u001b[0m | \u001b[0m 3.849   \u001b[0m | \u001b[0m 869.9   \u001b[0m |\n",
      "| \u001b[0m 10      \u001b[0m | \u001b[0m-2.152   \u001b[0m | \u001b[0m 63.91   \u001b[0m | \u001b[0m 0.4213  \u001b[0m | \u001b[0m 96.08   \u001b[0m | \u001b[0m 3.246   \u001b[0m | \u001b[0m 637.2   \u001b[0m |\n",
      "| \u001b[0m 11      \u001b[0m | \u001b[0m-2.162   \u001b[0m | \u001b[0m 129.6   \u001b[0m | \u001b[0m 0.8611  \u001b[0m | \u001b[0m 91.36   \u001b[0m | \u001b[0m 6.152   \u001b[0m | \u001b[0m 105.9   \u001b[0m |\n",
      "| \u001b[0m 12      \u001b[0m | \u001b[0m-2.148   \u001b[0m | \u001b[0m 191.0   \u001b[0m | \u001b[0m 0.8841  \u001b[0m | \u001b[0m 75.86   \u001b[0m | \u001b[0m 6.829   \u001b[0m | \u001b[0m 630.6   \u001b[0m |\n",
      "| \u001b[0m 13      \u001b[0m | \u001b[0m-2.113   \u001b[0m | \u001b[0m 199.2   \u001b[0m | \u001b[0m 0.8717  \u001b[0m | \u001b[0m 53.66   \u001b[0m | \u001b[0m 5.331   \u001b[0m | \u001b[0m 995.0   \u001b[0m |\n",
      "| \u001b[95m 14      \u001b[0m | \u001b[95m-2.097   \u001b[0m | \u001b[95m 200.0   \u001b[0m | \u001b[95m 0.6313  \u001b[0m | \u001b[95m 52.65   \u001b[0m | \u001b[95m 6.446   \u001b[0m | \u001b[95m 999.6   \u001b[0m |\n",
      "| \u001b[0m 15      \u001b[0m | \u001b[0m-2.11    \u001b[0m | \u001b[0m 196.3   \u001b[0m | \u001b[0m 0.9718  \u001b[0m | \u001b[0m 50.13   \u001b[0m | \u001b[0m 7.268   \u001b[0m | \u001b[0m 990.4   \u001b[0m |\n",
      "| \u001b[95m 16      \u001b[0m | \u001b[95m-2.093   \u001b[0m | \u001b[95m 199.7   \u001b[0m | \u001b[95m 0.3831  \u001b[0m | \u001b[95m 51.72   \u001b[0m | \u001b[95m 2.208   \u001b[0m | \u001b[95m 989.1   \u001b[0m |\n",
      "| \u001b[0m 17      \u001b[0m | \u001b[0m-2.111   \u001b[0m | \u001b[0m 197.8   \u001b[0m | \u001b[0m 0.9397  \u001b[0m | \u001b[0m 51.63   \u001b[0m | \u001b[0m 4.098   \u001b[0m | \u001b[0m 986.7   \u001b[0m |\n",
      "| \u001b[0m 18      \u001b[0m | \u001b[0m-2.106   \u001b[0m | \u001b[0m 199.7   \u001b[0m | \u001b[0m 0.9321  \u001b[0m | \u001b[0m 50.92   \u001b[0m | \u001b[0m 14.09   \u001b[0m | \u001b[0m 984.1   \u001b[0m |\n",
      "| \u001b[0m 19      \u001b[0m | \u001b[0m-2.103   \u001b[0m | \u001b[0m 199.2   \u001b[0m | \u001b[0m 0.8462  \u001b[0m | \u001b[0m 50.56   \u001b[0m | \u001b[0m 2.021   \u001b[0m | \u001b[0m 994.1   \u001b[0m |\n",
      "| \u001b[95m 20      \u001b[0m | \u001b[95m-2.086   \u001b[0m | \u001b[95m 199.3   \u001b[0m | \u001b[95m 0.4481  \u001b[0m | \u001b[95m 50.63   \u001b[0m | \u001b[95m 10.68   \u001b[0m | \u001b[95m 993.3   \u001b[0m |\n",
      "| \u001b[0m 21      \u001b[0m | \u001b[0m-2.144   \u001b[0m | \u001b[0m 200.0   \u001b[0m | \u001b[0m 0.2     \u001b[0m | \u001b[0m 50.0    \u001b[0m | \u001b[0m 2.0     \u001b[0m | \u001b[0m 1e+03   \u001b[0m |\n",
      "| \u001b[0m 22      \u001b[0m | \u001b[0m-2.096   \u001b[0m | \u001b[0m 199.7   \u001b[0m | \u001b[0m 0.6641  \u001b[0m | \u001b[0m 51.61   \u001b[0m | \u001b[0m 12.38   \u001b[0m | \u001b[0m 985.5   \u001b[0m |\n",
      "| \u001b[0m 23      \u001b[0m | \u001b[0m-2.105   \u001b[0m | \u001b[0m 198.1   \u001b[0m | \u001b[0m 0.832   \u001b[0m | \u001b[0m 51.52   \u001b[0m | \u001b[0m 14.5    \u001b[0m | \u001b[0m 997.5   \u001b[0m |\n",
      "| \u001b[0m 24      \u001b[0m | \u001b[0m-2.177   \u001b[0m | \u001b[0m 199.6   \u001b[0m | \u001b[0m 0.2905  \u001b[0m | \u001b[0m 96.94   \u001b[0m | \u001b[0m 14.51   \u001b[0m | \u001b[0m 999.6   \u001b[0m |\n",
      "| \u001b[0m 25      \u001b[0m | \u001b[0m-2.254   \u001b[0m | \u001b[0m 3.24    \u001b[0m | \u001b[0m 0.3993  \u001b[0m | \u001b[0m 50.39   \u001b[0m | \u001b[0m 2.795   \u001b[0m | \u001b[0m 179.2   \u001b[0m |\n",
      "| \u001b[0m 26      \u001b[0m | \u001b[0m-2.105   \u001b[0m | \u001b[0m 198.9   \u001b[0m | \u001b[0m 0.7795  \u001b[0m | \u001b[0m 52.0    \u001b[0m | \u001b[0m 13.51   \u001b[0m | \u001b[0m 100.2   \u001b[0m |\n",
      "| \u001b[0m 27      \u001b[0m | \u001b[0m-2.105   \u001b[0m | \u001b[0m 6.723   \u001b[0m | \u001b[0m 0.6523  \u001b[0m | \u001b[0m 52.46   \u001b[0m | \u001b[0m 11.56   \u001b[0m | \u001b[0m 997.1   \u001b[0m |\n",
      "| \u001b[0m 28      \u001b[0m | \u001b[0m-2.106   \u001b[0m | \u001b[0m 199.7   \u001b[0m | \u001b[0m 0.9158  \u001b[0m | \u001b[0m 51.6    \u001b[0m | \u001b[0m 2.684   \u001b[0m | \u001b[0m 205.5   \u001b[0m |\n",
      "| \u001b[0m 29      \u001b[0m | \u001b[0m-2.1     \u001b[0m | \u001b[0m 80.98   \u001b[0m | \u001b[0m 0.7987  \u001b[0m | \u001b[0m 50.08   \u001b[0m | \u001b[0m 14.87   \u001b[0m | \u001b[0m 995.1   \u001b[0m |\n",
      "| \u001b[0m 30      \u001b[0m | \u001b[0m-2.256   \u001b[0m | \u001b[0m 200.0   \u001b[0m | \u001b[0m 0.2     \u001b[0m | \u001b[0m 100.0   \u001b[0m | \u001b[0m 2.0     \u001b[0m | \u001b[0m 128.5   \u001b[0m |\n",
      "| \u001b[0m 31      \u001b[0m | \u001b[0m-2.103   \u001b[0m | \u001b[0m 114.9   \u001b[0m | \u001b[0m 0.8816  \u001b[0m | \u001b[0m 50.14   \u001b[0m | \u001b[0m 2.792   \u001b[0m | \u001b[0m 412.6   \u001b[0m |\n",
      "| \u001b[0m 32      \u001b[0m | \u001b[0m-2.108   \u001b[0m | \u001b[0m 199.3   \u001b[0m | \u001b[0m 0.9477  \u001b[0m | \u001b[0m 50.18   \u001b[0m | \u001b[0m 13.28   \u001b[0m | \u001b[0m 339.2   \u001b[0m |\n",
      "| \u001b[0m 33      \u001b[0m | \u001b[0m-2.121   \u001b[0m | \u001b[0m 119.2   \u001b[0m | \u001b[0m 0.2422  \u001b[0m | \u001b[0m 50.52   \u001b[0m | \u001b[0m 2.97    \u001b[0m | \u001b[0m 100.1   \u001b[0m |\n",
      "| \u001b[0m 34      \u001b[0m | \u001b[0m-2.089   \u001b[0m | \u001b[0m 128.5   \u001b[0m | \u001b[0m 0.5378  \u001b[0m | \u001b[0m 51.88   \u001b[0m | \u001b[0m 14.99   \u001b[0m | \u001b[0m 209.6   \u001b[0m |\n",
      "| \u001b[0m 35      \u001b[0m | \u001b[0m-2.104   \u001b[0m | \u001b[0m 198.1   \u001b[0m | \u001b[0m 0.8983  \u001b[0m | \u001b[0m 50.03   \u001b[0m | \u001b[0m 14.41   \u001b[0m | \u001b[0m 907.9   \u001b[0m |\n",
      "| \u001b[0m 36      \u001b[0m | \u001b[0m-2.111   \u001b[0m | \u001b[0m 134.5   \u001b[0m | \u001b[0m 1.0     \u001b[0m | \u001b[0m 50.0    \u001b[0m | \u001b[0m 2.0     \u001b[0m | \u001b[0m 535.7   \u001b[0m |\n",
      "| \u001b[0m 37      \u001b[0m | \u001b[0m-2.281   \u001b[0m | \u001b[0m 3.5     \u001b[0m | \u001b[0m 0.9513  \u001b[0m | \u001b[0m 94.16   \u001b[0m | \u001b[0m 14.73   \u001b[0m | \u001b[0m 999.8   \u001b[0m |\n",
      "| \u001b[0m 38      \u001b[0m | \u001b[0m-3.09    \u001b[0m | \u001b[0m 1.234   \u001b[0m | \u001b[0m 0.6066  \u001b[0m | \u001b[0m 97.88   \u001b[0m | \u001b[0m 10.17   \u001b[0m | \u001b[0m 453.1   \u001b[0m |\n",
      "| \u001b[0m 39      \u001b[0m | \u001b[0m-3.189   \u001b[0m | \u001b[0m 1.0     \u001b[0m | \u001b[0m 1.0     \u001b[0m | \u001b[0m 100.0   \u001b[0m | \u001b[0m 15.0    \u001b[0m | \u001b[0m 100.0   \u001b[0m |\n",
      "| \u001b[0m 40      \u001b[0m | \u001b[0m-2.111   \u001b[0m | \u001b[0m 50.57   \u001b[0m | \u001b[0m 1.0     \u001b[0m | \u001b[0m 50.0    \u001b[0m | \u001b[0m 2.0     \u001b[0m | \u001b[0m 280.1   \u001b[0m |\n",
      "| \u001b[0m 41      \u001b[0m | \u001b[0m-3.489   \u001b[0m | \u001b[0m 1.0     \u001b[0m | \u001b[0m 0.2     \u001b[0m | \u001b[0m 50.0    \u001b[0m | \u001b[0m 2.0     \u001b[0m | \u001b[0m 809.9   \u001b[0m |\n",
      "| \u001b[0m 42      \u001b[0m | \u001b[0m-2.249   \u001b[0m | \u001b[0m 140.4   \u001b[0m | \u001b[0m 0.2     \u001b[0m | \u001b[0m 100.0   \u001b[0m | \u001b[0m 2.0     \u001b[0m | \u001b[0m 316.5   \u001b[0m |\n",
      "=====================================================================================\n",
      "The rmse of bayesian optimize random forest is : 1.55036582380751\n"
     ]
    }
   ],
   "source": [
    "rf = RandomForestRegressor(n_estimators=50, random_state=123)\n",
    "rf.fit(X_train, y_train)\n",
    "y_pred = rf.predict(X_test)\n",
    "print('The rmse of Random Forest Baseline is :', sqrt(mean_squared_error(y_test, y_pred)))\n",
    "random_forest_after = sqrt(mean_squared_error(y_test, y_pred))\n",
    "\n",
    "\n",
    "feature_imp = pd.DataFrame(sorted(zip(rf.feature_importances_,X_train.columns)), \n",
    "                               columns=['Value','Feature'])\n",
    "plt.figure(figsize=(40, 20))\n",
    "sns.set(font_scale = 5)\n",
    "sns.barplot(x=\"Value\", y=\"Feature\", data=feature_imp.sort_values(by=\"Value\", \n",
    "                                                        ascending=False)[0:10])\n",
    "plt.title('Random Forest Baseline features importance')\n",
    "plt.tight_layout()\n",
    "plt.savefig('feaimp_rf.png')\n",
    "plt.show()\n",
    "del feature_imp\n",
    "\n",
    "#Bayesian optimization\n",
    "def bayesian_optimization(dataset, function, parameters):\n",
    "    \n",
    "    \n",
    "    X_train, y_train, X_test, y_test = dataset\n",
    "    n_iterations = 30\n",
    "    gp_params = {\"alpha\": 1e-4}\n",
    "    init_points = 12\n",
    "\n",
    "    BO = BayesianOptimization(function, parameters)\n",
    "    BO.maximize(n_iter=n_iterations, **gp_params, init_points = init_points)\n",
    "\n",
    "    return BO.max\n",
    "\n",
    "## for randomforest\n",
    "def rfc_optimization(cv_splits):\n",
    "    def function(n_estimators, max_depth, min_samples_split, max_features, min_samples_leaf): # make changes here to add more parameters \n",
    "        \n",
    "        return cross_val_score(\n",
    "               RandomForestRegressor(\n",
    "                   n_estimators=int(max(n_estimators,0)),                                                               \n",
    "                   max_depth=int(max(max_depth,1)),\n",
    "                   min_samples_split=int(max(min_samples_split,2)), \n",
    "                   max_features = float(max(max_features,0.2)),\n",
    "                   min_samples_leaf= int(max(min_samples_leaf,50)),\n",
    "                   #oob_score = True,\n",
    "                   \n",
    "                   \n",
    "                   n_jobs=-1, \n",
    "                   random_state=22  \n",
    "                   ),  \n",
    "               X=X_train, \n",
    "               y=y_train, \n",
    "               cv=cv_splits,\n",
    "               scoring=\"neg_mean_squared_error\",\n",
    "               n_jobs=-1).mean()\n",
    "\n",
    "    parameters = {\"n_estimators\": (100, 1000),\n",
    "                  \"max_depth\": (1, 200), #quick note : consider 1 to 200 next time\n",
    "                  \"min_samples_split\": (2, 15),\n",
    "                  \"max_features\": (0.2, 1),\n",
    "                  \"min_samples_leaf\": (50, 100),\n",
    "                  #\"oob_score\": True\n",
    "                  \n",
    "                 }\n",
    "    \n",
    "    return function, parameters\n",
    "\n",
    "#Train model using optimum parameters\n",
    "def rftrain(X_train, y_train, X_test, y_test, function, parameters):\n",
    "    dataset = (X_train, y_train, X_test, y_test)\n",
    "    cv_splits = 10\n",
    "    \n",
    "    best_solution = bayesian_optimization(dataset, function, parameters)      \n",
    "    params = best_solution[\"params\"]\n",
    "\n",
    "    model = RandomForestRegressor(\n",
    "             n_estimators=int(max(params[\"n_estimators\"], 0)),\n",
    "             max_depth=int(max(params[\"max_depth\"], 1)),\n",
    "             min_samples_split=int(max(params[\"min_samples_split\"], 2)), \n",
    "             max_features = float(max(params[\"max_features\"], 0.2)),\n",
    "             min_samples_leaf= int(max(params[\"min_samples_leaf\"],50)),\n",
    "             n_jobs=-1, \n",
    "             random_state=23,\n",
    "             #oob_score = True\n",
    "             )\n",
    "\n",
    "    model.fit(X_train, y_train)\n",
    "    \n",
    "    return model\n",
    "\n",
    "\n",
    "rffunc, rfparams = rfc_optimization(10)\n",
    "rfmodel = rftrain(X_train, y_train, X_test, y_test, rffunc, rfparams)\n",
    "\n",
    "\n",
    "\n",
    "y_pred = rfmodel.predict(X_test)\n",
    "print('The rmse of bayesian optimize random forest is :', sqrt(mean_squared_error(y_test, y_pred)))\n",
    "opt_random_forest_after = sqrt(mean_squared_error(y_test, y_pred))"
   ]
  },
  {
   "cell_type": "markdown",
   "metadata": {},
   "source": [
    "## 3.3 XGBoost "
   ]
  },
  {
   "cell_type": "code",
   "execution_count": 23,
   "metadata": {},
   "outputs": [
    {
     "name": "stdout",
     "output_type": "stream",
     "text": [
      "[17:13:38] WARNING: C:/Jenkins/workspace/xgboost-win64_release_0.90/src/objective/regression_obj.cu:152: reg:linear is now deprecated in favor of reg:squarederror.\n",
      "The rmse of XGBoost Baseline: 1.3993590940431013\n",
      "|   iter    |  target   |    eta    |   gamma   | max_depth | min_ch... | n_esti... |\n",
      "-------------------------------------------------------------------------------------\n",
      "| \u001b[0m 1       \u001b[0m | \u001b[0m-1.849   \u001b[0m | \u001b[0m 0.1801  \u001b[0m | \u001b[0m 0.2746  \u001b[0m | \u001b[0m 6.672   \u001b[0m | \u001b[0m 1.932   \u001b[0m | \u001b[0m 110.0   \u001b[0m |\n",
      "| \u001b[95m 2       \u001b[0m | \u001b[95m-1.726   \u001b[0m | \u001b[95m 0.1907  \u001b[0m | \u001b[95m 1.399   \u001b[0m | \u001b[95m 2.666   \u001b[0m | \u001b[95m 1.412   \u001b[0m | \u001b[95m 121.7   \u001b[0m |\n",
      "| \u001b[0m 3       \u001b[0m | \u001b[0m-1.822   \u001b[0m | \u001b[0m 0.1411  \u001b[0m | \u001b[0m 1.002   \u001b[0m | \u001b[0m 7.686   \u001b[0m | \u001b[0m 7.004   \u001b[0m | \u001b[0m 104.3   \u001b[0m |\n",
      "| \u001b[0m 4       \u001b[0m | \u001b[0m-1.816   \u001b[0m | \u001b[0m 0.1421  \u001b[0m | \u001b[0m 0.02582 \u001b[0m | \u001b[0m 7.053   \u001b[0m | \u001b[0m 1.081   \u001b[0m | \u001b[0m 55.73   \u001b[0m |\n",
      "| \u001b[0m 5       \u001b[0m | \u001b[0m-1.813   \u001b[0m | \u001b[0m 0.08592 \u001b[0m | \u001b[0m 0.6941  \u001b[0m | \u001b[0m 8.495   \u001b[0m | \u001b[0m 7.102   \u001b[0m | \u001b[0m 51.19   \u001b[0m |\n",
      "| \u001b[0m 6       \u001b[0m | \u001b[0m-1.79    \u001b[0m | \u001b[0m 0.07937 \u001b[0m | \u001b[0m 0.7869  \u001b[0m | \u001b[0m 6.456   \u001b[0m | \u001b[0m 8.455   \u001b[0m | \u001b[0m 59.32   \u001b[0m |\n",
      "| \u001b[0m 7       \u001b[0m | \u001b[0m-2.133   \u001b[0m | \u001b[0m 0.1883  \u001b[0m | \u001b[0m 1.008   \u001b[0m | \u001b[0m 1.855   \u001b[0m | \u001b[0m 3.425   \u001b[0m | \u001b[0m 52.45   \u001b[0m |\n",
      "| \u001b[95m 8       \u001b[0m | \u001b[95m-1.705   \u001b[0m | \u001b[95m 0.1554  \u001b[0m | \u001b[95m 0.9558  \u001b[0m | \u001b[95m 2.387   \u001b[0m | \u001b[95m 8.569   \u001b[0m | \u001b[95m 146.4   \u001b[0m |\n",
      "| \u001b[0m 9       \u001b[0m | \u001b[0m-1.789   \u001b[0m | \u001b[0m 0.09087 \u001b[0m | \u001b[0m 0.1109  \u001b[0m | \u001b[0m 7.716   \u001b[0m | \u001b[0m 5.645   \u001b[0m | \u001b[0m 143.3   \u001b[0m |\n",
      "| \u001b[0m 10      \u001b[0m | \u001b[0m-1.779   \u001b[0m | \u001b[0m 0.1505  \u001b[0m | \u001b[0m 0.2557  \u001b[0m | \u001b[0m 6.939   \u001b[0m | \u001b[0m 6.369   \u001b[0m | \u001b[0m 131.6   \u001b[0m |\n",
      "| \u001b[0m 11      \u001b[0m | \u001b[0m-1.771   \u001b[0m | \u001b[0m 0.177   \u001b[0m | \u001b[0m 0.4072  \u001b[0m | \u001b[0m 5.696   \u001b[0m | \u001b[0m 6.732   \u001b[0m | \u001b[0m 107.8   \u001b[0m |\n",
      "| \u001b[0m 12      \u001b[0m | \u001b[0m-1.787   \u001b[0m | \u001b[0m 0.1245  \u001b[0m | \u001b[0m 1.954   \u001b[0m | \u001b[0m 7.649   \u001b[0m | \u001b[0m 3.832   \u001b[0m | \u001b[0m 67.68   \u001b[0m |\n",
      "| \u001b[0m 13      \u001b[0m | \u001b[0m-2.046   \u001b[0m | \u001b[0m 0.2     \u001b[0m | \u001b[0m 0.0     \u001b[0m | \u001b[0m 1.0     \u001b[0m | \u001b[0m 1.0     \u001b[0m | \u001b[0m 150.0   \u001b[0m |\n",
      "| \u001b[0m 14      \u001b[0m | \u001b[0m-1.848   \u001b[0m | \u001b[0m 0.2     \u001b[0m | \u001b[0m 2.0     \u001b[0m | \u001b[0m 10.0    \u001b[0m | \u001b[0m 10.0    \u001b[0m | \u001b[0m 150.0   \u001b[0m |\n",
      "| \u001b[0m 15      \u001b[0m | \u001b[0m-2.195   \u001b[0m | \u001b[0m 0.07    \u001b[0m | \u001b[0m 0.0     \u001b[0m | \u001b[0m 1.0     \u001b[0m | \u001b[0m 10.0    \u001b[0m | \u001b[0m 88.94   \u001b[0m |\n",
      "| \u001b[0m 16      \u001b[0m | \u001b[0m-2.142   \u001b[0m | \u001b[0m 0.07    \u001b[0m | \u001b[0m 2.0     \u001b[0m | \u001b[0m 1.0     \u001b[0m | \u001b[0m 10.0    \u001b[0m | \u001b[0m 122.0   \u001b[0m |\n",
      "| \u001b[0m 17      \u001b[0m | \u001b[0m-1.869   \u001b[0m | \u001b[0m 0.2     \u001b[0m | \u001b[0m 0.0     \u001b[0m | \u001b[0m 10.0    \u001b[0m | \u001b[0m 10.0    \u001b[0m | \u001b[0m 73.65   \u001b[0m |\n",
      "| \u001b[0m 18      \u001b[0m | \u001b[0m-2.057   \u001b[0m | \u001b[0m 0.2     \u001b[0m | \u001b[0m 2.0     \u001b[0m | \u001b[0m 1.0     \u001b[0m | \u001b[0m 1.0     \u001b[0m | \u001b[0m 135.0   \u001b[0m |\n",
      "| \u001b[0m 19      \u001b[0m | \u001b[0m-2.001   \u001b[0m | \u001b[0m 0.2     \u001b[0m | \u001b[0m 0.0     \u001b[0m | \u001b[0m 10.0    \u001b[0m | \u001b[0m 1.0     \u001b[0m | \u001b[0m 122.9   \u001b[0m |\n",
      "| \u001b[0m 20      \u001b[0m | \u001b[0m-2.083   \u001b[0m | \u001b[0m 0.2     \u001b[0m | \u001b[0m 2.0     \u001b[0m | \u001b[0m 1.0     \u001b[0m | \u001b[0m 1.0     \u001b[0m | \u001b[0m 101.4   \u001b[0m |\n",
      "| \u001b[0m 21      \u001b[0m | \u001b[0m-1.914   \u001b[0m | \u001b[0m 0.07    \u001b[0m | \u001b[0m 0.0     \u001b[0m | \u001b[0m 10.0    \u001b[0m | \u001b[0m 1.0     \u001b[0m | \u001b[0m 82.78   \u001b[0m |\n",
      "| \u001b[0m 22      \u001b[0m | \u001b[0m-1.913   \u001b[0m | \u001b[0m 0.2     \u001b[0m | \u001b[0m 0.0     \u001b[0m | \u001b[0m 10.0    \u001b[0m | \u001b[0m 10.0    \u001b[0m | \u001b[0m 138.3   \u001b[0m |\n",
      "| \u001b[0m 23      \u001b[0m | \u001b[0m-2.103   \u001b[0m | \u001b[0m 0.2     \u001b[0m | \u001b[0m 0.0     \u001b[0m | \u001b[0m 1.0     \u001b[0m | \u001b[0m 1.0     \u001b[0m | \u001b[0m 73.05   \u001b[0m |\n",
      "| \u001b[0m 24      \u001b[0m | \u001b[0m-1.994   \u001b[0m | \u001b[0m 0.2     \u001b[0m | \u001b[0m 0.0     \u001b[0m | \u001b[0m 10.0    \u001b[0m | \u001b[0m 1.0     \u001b[0m | \u001b[0m 64.75   \u001b[0m |\n",
      "| \u001b[0m 25      \u001b[0m | \u001b[0m-2.109   \u001b[0m | \u001b[0m 0.07    \u001b[0m | \u001b[0m 2.0     \u001b[0m | \u001b[0m 10.0    \u001b[0m | \u001b[0m 1.0     \u001b[0m | \u001b[0m 50.0    \u001b[0m |\n",
      "| \u001b[0m 26      \u001b[0m | \u001b[0m-1.848   \u001b[0m | \u001b[0m 0.2     \u001b[0m | \u001b[0m 2.0     \u001b[0m | \u001b[0m 10.0    \u001b[0m | \u001b[0m 10.0    \u001b[0m | \u001b[0m 89.01   \u001b[0m |\n",
      "| \u001b[0m 27      \u001b[0m | \u001b[0m-1.848   \u001b[0m | \u001b[0m 0.2     \u001b[0m | \u001b[0m 2.0     \u001b[0m | \u001b[0m 10.0    \u001b[0m | \u001b[0m 10.0    \u001b[0m | \u001b[0m 112.3   \u001b[0m |\n",
      "| \u001b[0m 28      \u001b[0m | \u001b[0m-2.121   \u001b[0m | \u001b[0m 0.07    \u001b[0m | \u001b[0m 0.0     \u001b[0m | \u001b[0m 1.0     \u001b[0m | \u001b[0m 10.0    \u001b[0m | \u001b[0m 150.0   \u001b[0m |\n",
      "| \u001b[0m 29      \u001b[0m | \u001b[0m-2.054   \u001b[0m | \u001b[0m 0.2     \u001b[0m | \u001b[0m 2.0     \u001b[0m | \u001b[0m 1.0     \u001b[0m | \u001b[0m 10.0    \u001b[0m | \u001b[0m 138.3   \u001b[0m |\n",
      "| \u001b[0m 30      \u001b[0m | \u001b[0m-1.723   \u001b[0m | \u001b[0m 0.122   \u001b[0m | \u001b[0m 0.6056  \u001b[0m | \u001b[0m 2.195   \u001b[0m | \u001b[0m 8.471   \u001b[0m | \u001b[0m 146.4   \u001b[0m |\n",
      "| \u001b[0m 31      \u001b[0m | \u001b[0m-2.267   \u001b[0m | \u001b[0m 0.07    \u001b[0m | \u001b[0m 2.0     \u001b[0m | \u001b[0m 1.0     \u001b[0m | \u001b[0m 10.0    \u001b[0m | \u001b[0m 69.47   \u001b[0m |\n",
      "| \u001b[0m 32      \u001b[0m | \u001b[0m-2.151   \u001b[0m | \u001b[0m 0.07    \u001b[0m | \u001b[0m 0.0     \u001b[0m | \u001b[0m 1.0     \u001b[0m | \u001b[0m 1.0     \u001b[0m | \u001b[0m 114.5   \u001b[0m |\n",
      "| \u001b[0m 33      \u001b[0m | \u001b[0m-1.995   \u001b[0m | \u001b[0m 0.2     \u001b[0m | \u001b[0m 0.0     \u001b[0m | \u001b[0m 10.0    \u001b[0m | \u001b[0m 1.0     \u001b[0m | \u001b[0m 94.94   \u001b[0m |\n",
      "| \u001b[0m 34      \u001b[0m | \u001b[0m-1.942   \u001b[0m | \u001b[0m 0.2     \u001b[0m | \u001b[0m 2.0     \u001b[0m | \u001b[0m 10.0    \u001b[0m | \u001b[0m 1.0     \u001b[0m | \u001b[0m 150.0   \u001b[0m |\n",
      "| \u001b[0m 35      \u001b[0m | \u001b[0m-1.847   \u001b[0m | \u001b[0m 0.2     \u001b[0m | \u001b[0m 2.0     \u001b[0m | \u001b[0m 10.0    \u001b[0m | \u001b[0m 10.0    \u001b[0m | \u001b[0m 56.96   \u001b[0m |\n",
      "| \u001b[0m 36      \u001b[0m | \u001b[0m-1.848   \u001b[0m | \u001b[0m 0.2     \u001b[0m | \u001b[0m 2.0     \u001b[0m | \u001b[0m 10.0    \u001b[0m | \u001b[0m 10.0    \u001b[0m | \u001b[0m 126.0   \u001b[0m |\n",
      "| \u001b[0m 37      \u001b[0m | \u001b[0m-1.942   \u001b[0m | \u001b[0m 0.2     \u001b[0m | \u001b[0m 2.0     \u001b[0m | \u001b[0m 10.0    \u001b[0m | \u001b[0m 1.0     \u001b[0m | \u001b[0m 132.8   \u001b[0m |\n",
      "| \u001b[0m 38      \u001b[0m | \u001b[0m-2.095   \u001b[0m | \u001b[0m 0.2     \u001b[0m | \u001b[0m 2.0     \u001b[0m | \u001b[0m 1.0     \u001b[0m | \u001b[0m 1.0     \u001b[0m | \u001b[0m 85.99   \u001b[0m |\n",
      "| \u001b[0m 39      \u001b[0m | \u001b[0m-1.794   \u001b[0m | \u001b[0m 0.07    \u001b[0m | \u001b[0m 2.0     \u001b[0m | \u001b[0m 10.0    \u001b[0m | \u001b[0m 7.577   \u001b[0m | \u001b[0m 79.9    \u001b[0m |\n",
      "| \u001b[0m 40      \u001b[0m | \u001b[0m-2.081   \u001b[0m | \u001b[0m 0.2     \u001b[0m | \u001b[0m 2.0     \u001b[0m | \u001b[0m 1.0     \u001b[0m | \u001b[0m 10.0    \u001b[0m | \u001b[0m 103.6   \u001b[0m |\n",
      "| \u001b[0m 41      \u001b[0m | \u001b[0m-2.318   \u001b[0m | \u001b[0m 0.07    \u001b[0m | \u001b[0m 2.0     \u001b[0m | \u001b[0m 1.27    \u001b[0m | \u001b[0m 1.0     \u001b[0m | \u001b[0m 62.46   \u001b[0m |\n",
      "| \u001b[0m 42      \u001b[0m | \u001b[0m-1.942   \u001b[0m | \u001b[0m 0.2     \u001b[0m | \u001b[0m 2.0     \u001b[0m | \u001b[0m 10.0    \u001b[0m | \u001b[0m 1.0     \u001b[0m | \u001b[0m 74.77   \u001b[0m |\n",
      "=====================================================================================\n",
      "[17:25:57] WARNING: C:/Jenkins/workspace/xgboost-win64_release_0.90/src/objective/regression_obj.cu:152: reg:linear is now deprecated in favor of reg:squarederror.\n",
      "The rmse of optimize XGBoost is : 1.4021034664396108\n"
     ]
    }
   ],
   "source": [
    "model = xgb.XGBRegressor()\n",
    "model.fit(X_train, y_train)\n",
    "y_pred = model.predict(X_test)\n",
    "print('The rmse of XGBoost Baseline:', sqrt(mean_squared_error(y_test, y_pred)))\n",
    "xgb_after = sqrt(mean_squared_error(y_test, y_pred))\n",
    "eval_set = [(X_test, y_test)]\n",
    "def xgb_optimization(cv_splits, eval_set):\n",
    "    def function(eta, gamma, max_depth,n_estimators,min_child_weight):  \n",
    "            return cross_val_score(\n",
    "                   xgb.XGBRegressor(\n",
    "                       n_estimators=int(max(n_estimators,50)),\n",
    "                       objective=\"reg:linear\",\n",
    "                       learning_rate=max(eta, 0),\n",
    "                       gamma=max(gamma, 0),\n",
    "                       max_depth=max(int(max_depth), 1),   \n",
    "                       min_child_weight=max(min_child_weight, 1),\n",
    "                       #subsample = max(subsample, 0),\n",
    "                       #colsample_bytree = max(colsample_bytree, 0),\n",
    "                       #colsample_bylevel = max(colsample_bylevel, 0),\n",
    "\n",
    "                       seed=42,\n",
    "                       nthread=-1\n",
    "                       ),  \n",
    "                   X=X_train, \n",
    "                   y=y_train, \n",
    "                   cv=cv_splits,\n",
    "                   scoring='neg_mean_squared_error',\n",
    "                   fit_params={\n",
    "                        \"early_stopping_rounds\": 200, \n",
    "                        \"eval_metric\": \"rmse\", \n",
    "                        \"eval_set\": eval_set},\n",
    "                   n_jobs=-1).mean()\n",
    "\n",
    "    parameters = {\"eta\": (0.07, 0.2),\n",
    "                  \"gamma\": (0,2),\n",
    "                  \"max_depth\": (1, 10),\n",
    "                 \"min_child_weight\": (1, 10),\n",
    "                 #\"subsample\": (0,1),\n",
    "                 #\"colsample_bytree\": (0,1),\n",
    "                  \"n_estimators\": (50,150), \n",
    "                  #\"colsample_bylevel\": (0,1)\n",
    "                  \n",
    "                 }\n",
    "    \n",
    "    return function, parameters\n",
    "\n",
    "#Train model using optimum parameters\n",
    "def xgbtrain(X_train, y_train, X_test, y_test, function, parameters):\n",
    "    dataset = (X_train, y_train, X_test, y_test)\n",
    "    cv_splits = 10\n",
    "    \n",
    "    best_solution = bayesian_optimization(dataset, function, parameters)      \n",
    "    params = best_solution[\"params\"]\n",
    "\n",
    "    model = XGBRegressor(\n",
    "             n_estimators=int(params[\"n_estimators\"]),\n",
    "             objective=\"reg:linear\",\n",
    "             learning_rate= params[\"eta\"],\n",
    "             gamma=int(params[\"gamma\"]),\n",
    "             max_depth=int(params[\"max_depth\"]),\n",
    "             min_child_weight=int(params[\"min_child_weight\"]),\n",
    "             #subsample=int(params[\"subsample\"]),\n",
    "             #colsample_bytree=int(params[\"colsample_bytree\"]),\n",
    "             #colsample_bylevel = int(params[\"colsample_bylevel\"]),\n",
    "             nthread=-1, \n",
    "             seed=42 \n",
    "             )\n",
    "\n",
    "    model.fit(X_train, y_train)\n",
    "    \n",
    "    return model\n",
    "\n",
    "\n",
    "xgbfunction, xgbparameters = xgb_optimization(10, eval_set)\n",
    "xgbmodel =xgbtrain(X_train, y_train, X_test, y_test, xgbfunction, xgbparameters)\n",
    "\n",
    "\n",
    "y_pred = xgbmodel.predict(X_test)\n",
    "print('The rmse of optimize XGBoost is :', sqrt(mean_squared_error(y_test, y_pred)))\n",
    "opt_xgboost = sqrt(mean_squared_error(y_test, y_pred))"
   ]
  },
  {
   "cell_type": "markdown",
   "metadata": {},
   "source": [
    "## 3.3 LightGBM"
   ]
  },
  {
   "cell_type": "code",
   "execution_count": 24,
   "metadata": {},
   "outputs": [
    {
     "name": "stdout",
     "output_type": "stream",
     "text": [
      "Training until validation scores don't improve for 200 rounds.\n",
      "[100]\ttraining's rmse: 1.76641\tvalid_1's rmse: 1.80979\n",
      "[200]\ttraining's rmse: 1.72999\tvalid_1's rmse: 1.80566\n",
      "[300]\ttraining's rmse: 1.72572\tvalid_1's rmse: 1.81066\n",
      "Early stopping, best iteration is:\n",
      "[142]\ttraining's rmse: 1.74122\tvalid_1's rmse: 1.80336\n",
      "The rmse of Baseline lightgbm is : 1.803357117496274\n",
      "|   iter    |  target   | baggin... | colsam... | featur... | learni... | max_depth | min_ch... | min_sp... | n_esti... | num_le... | subsample |\n",
      "-------------------------------------------------------------------------------------------------------------------------------------------------\n"
     ]
    },
    {
     "name": "stderr",
     "output_type": "stream",
     "text": [
      "C:\\Users\\chava\\Anaconda3\\envs\\tensorflow\\lib\\site-packages\\lightgbm\\engine.py:430: UserWarning:\n",
      "\n",
      "Found `num_iterations` in params. Will use it instead of argument\n",
      "\n",
      "C:\\Users\\chava\\Anaconda3\\envs\\tensorflow\\lib\\site-packages\\lightgbm\\engine.py:435: UserWarning:\n",
      "\n",
      "Found `early_stopping_round` in params. Will use it instead of argument\n",
      "\n"
     ]
    },
    {
     "name": "stdout",
     "output_type": "stream",
     "text": [
      "| \u001b[0m 1       \u001b[0m | \u001b[0m-1.881   \u001b[0m | \u001b[0m 0.9838  \u001b[0m | \u001b[0m 0.6422  \u001b[0m | \u001b[0m 0.703   \u001b[0m | \u001b[0m 0.05659 \u001b[0m | \u001b[0m 175.6   \u001b[0m | \u001b[0m 21.82   \u001b[0m | \u001b[0m 0.03329 \u001b[0m | \u001b[0m 5.415e+0\u001b[0m | \u001b[0m 31.62   \u001b[0m | \u001b[0m 0.5454  \u001b[0m |\n"
     ]
    },
    {
     "name": "stderr",
     "output_type": "stream",
     "text": [
      "C:\\Users\\chava\\Anaconda3\\envs\\tensorflow\\lib\\site-packages\\lightgbm\\engine.py:430: UserWarning:\n",
      "\n",
      "Found `num_iterations` in params. Will use it instead of argument\n",
      "\n",
      "C:\\Users\\chava\\Anaconda3\\envs\\tensorflow\\lib\\site-packages\\lightgbm\\engine.py:435: UserWarning:\n",
      "\n",
      "Found `early_stopping_round` in params. Will use it instead of argument\n",
      "\n"
     ]
    },
    {
     "name": "stdout",
     "output_type": "stream",
     "text": [
      "| \u001b[0m 2       \u001b[0m | \u001b[0m-1.89    \u001b[0m | \u001b[0m 0.8801  \u001b[0m | \u001b[0m 0.7152  \u001b[0m | \u001b[0m 0.7693  \u001b[0m | \u001b[0m 0.2358  \u001b[0m | \u001b[0m 593.0   \u001b[0m | \u001b[0m 14.22   \u001b[0m | \u001b[0m 0.07085 \u001b[0m | \u001b[0m 4.232e+0\u001b[0m | \u001b[0m 15.16   \u001b[0m | \u001b[0m 0.747   \u001b[0m |\n"
     ]
    },
    {
     "name": "stderr",
     "output_type": "stream",
     "text": [
      "C:\\Users\\chava\\Anaconda3\\envs\\tensorflow\\lib\\site-packages\\lightgbm\\engine.py:430: UserWarning:\n",
      "\n",
      "Found `num_iterations` in params. Will use it instead of argument\n",
      "\n",
      "C:\\Users\\chava\\Anaconda3\\envs\\tensorflow\\lib\\site-packages\\lightgbm\\engine.py:435: UserWarning:\n",
      "\n",
      "Found `early_stopping_round` in params. Will use it instead of argument\n",
      "\n"
     ]
    },
    {
     "name": "stdout",
     "output_type": "stream",
     "text": [
      "| \u001b[0m 3       \u001b[0m | \u001b[0m-1.938   \u001b[0m | \u001b[0m 0.8905  \u001b[0m | \u001b[0m 0.1758  \u001b[0m | \u001b[0m 0.1395  \u001b[0m | \u001b[0m 0.1177  \u001b[0m | \u001b[0m 134.5   \u001b[0m | \u001b[0m 21.27   \u001b[0m | \u001b[0m 0.007313\u001b[0m | \u001b[0m 4.325e+0\u001b[0m | \u001b[0m 42.78   \u001b[0m | \u001b[0m 0.152   \u001b[0m |\n"
     ]
    },
    {
     "name": "stderr",
     "output_type": "stream",
     "text": [
      "C:\\Users\\chava\\Anaconda3\\envs\\tensorflow\\lib\\site-packages\\lightgbm\\engine.py:430: UserWarning:\n",
      "\n",
      "Found `num_iterations` in params. Will use it instead of argument\n",
      "\n",
      "C:\\Users\\chava\\Anaconda3\\envs\\tensorflow\\lib\\site-packages\\lightgbm\\engine.py:435: UserWarning:\n",
      "\n",
      "Found `early_stopping_round` in params. Will use it instead of argument\n",
      "\n"
     ]
    },
    {
     "name": "stdout",
     "output_type": "stream",
     "text": [
      "| \u001b[0m 4       \u001b[0m | \u001b[0m-2.023   \u001b[0m | \u001b[0m 0.9093  \u001b[0m | \u001b[0m 0.4433  \u001b[0m | \u001b[0m 0.1288  \u001b[0m | \u001b[0m 0.3293  \u001b[0m | \u001b[0m 547.3   \u001b[0m | \u001b[0m 12.53   \u001b[0m | \u001b[0m 0.06479 \u001b[0m | \u001b[0m 1.084e+0\u001b[0m | \u001b[0m 41.79   \u001b[0m | \u001b[0m 0.3857  \u001b[0m |\n"
     ]
    },
    {
     "name": "stderr",
     "output_type": "stream",
     "text": [
      "C:\\Users\\chava\\Anaconda3\\envs\\tensorflow\\lib\\site-packages\\lightgbm\\engine.py:430: UserWarning:\n",
      "\n",
      "Found `num_iterations` in params. Will use it instead of argument\n",
      "\n",
      "C:\\Users\\chava\\Anaconda3\\envs\\tensorflow\\lib\\site-packages\\lightgbm\\engine.py:435: UserWarning:\n",
      "\n",
      "Found `early_stopping_round` in params. Will use it instead of argument\n",
      "\n"
     ]
    },
    {
     "name": "stdout",
     "output_type": "stream",
     "text": [
      "| \u001b[0m 5       \u001b[0m | \u001b[0m-1.89    \u001b[0m | \u001b[0m 0.8891  \u001b[0m | \u001b[0m 0.9771  \u001b[0m | \u001b[0m 0.6835  \u001b[0m | \u001b[0m 0.1256  \u001b[0m | \u001b[0m 1.79e+03\u001b[0m | \u001b[0m 21.75   \u001b[0m | \u001b[0m 0.02694 \u001b[0m | \u001b[0m 3.102e+0\u001b[0m | \u001b[0m 21.65   \u001b[0m | \u001b[0m 0.4222  \u001b[0m |\n"
     ]
    },
    {
     "name": "stderr",
     "output_type": "stream",
     "text": [
      "C:\\Users\\chava\\Anaconda3\\envs\\tensorflow\\lib\\site-packages\\lightgbm\\engine.py:430: UserWarning:\n",
      "\n",
      "Found `num_iterations` in params. Will use it instead of argument\n",
      "\n",
      "C:\\Users\\chava\\Anaconda3\\envs\\tensorflow\\lib\\site-packages\\lightgbm\\engine.py:435: UserWarning:\n",
      "\n",
      "Found `early_stopping_round` in params. Will use it instead of argument\n",
      "\n"
     ]
    },
    {
     "name": "stdout",
     "output_type": "stream",
     "text": [
      "| \u001b[0m 6       \u001b[0m | \u001b[0m-1.917   \u001b[0m | \u001b[0m 0.988   \u001b[0m | \u001b[0m 0.367   \u001b[0m | \u001b[0m 0.4478  \u001b[0m | \u001b[0m 0.3669  \u001b[0m | \u001b[0m 1.895e+0\u001b[0m | \u001b[0m 13.82   \u001b[0m | \u001b[0m 0.07126 \u001b[0m | \u001b[0m 509.3   \u001b[0m | \u001b[0m 22.13   \u001b[0m | \u001b[0m 0.5065  \u001b[0m |\n"
     ]
    },
    {
     "name": "stderr",
     "output_type": "stream",
     "text": [
      "C:\\Users\\chava\\Anaconda3\\envs\\tensorflow\\lib\\site-packages\\lightgbm\\engine.py:430: UserWarning:\n",
      "\n",
      "Found `num_iterations` in params. Will use it instead of argument\n",
      "\n",
      "C:\\Users\\chava\\Anaconda3\\envs\\tensorflow\\lib\\site-packages\\lightgbm\\engine.py:435: UserWarning:\n",
      "\n",
      "Found `early_stopping_round` in params. Will use it instead of argument\n",
      "\n"
     ]
    },
    {
     "name": "stdout",
     "output_type": "stream",
     "text": [
      "| \u001b[0m 7       \u001b[0m | \u001b[0m-1.897   \u001b[0m | \u001b[0m 0.9178  \u001b[0m | \u001b[0m 0.3269  \u001b[0m | \u001b[0m 0.2159  \u001b[0m | \u001b[0m 0.1038  \u001b[0m | \u001b[0m 1.715e+0\u001b[0m | \u001b[0m 20.26   \u001b[0m | \u001b[0m 0.09986 \u001b[0m | \u001b[0m 3.201e+0\u001b[0m | \u001b[0m 50.81   \u001b[0m | \u001b[0m 0.8676  \u001b[0m |\n"
     ]
    },
    {
     "name": "stderr",
     "output_type": "stream",
     "text": [
      "C:\\Users\\chava\\Anaconda3\\envs\\tensorflow\\lib\\site-packages\\lightgbm\\engine.py:430: UserWarning:\n",
      "\n",
      "Found `num_iterations` in params. Will use it instead of argument\n",
      "\n",
      "C:\\Users\\chava\\Anaconda3\\envs\\tensorflow\\lib\\site-packages\\lightgbm\\engine.py:435: UserWarning:\n",
      "\n",
      "Found `early_stopping_round` in params. Will use it instead of argument\n",
      "\n"
     ]
    },
    {
     "name": "stdout",
     "output_type": "stream",
     "text": [
      "| \u001b[95m 8       \u001b[0m | \u001b[95m-1.876   \u001b[0m | \u001b[95m 0.9277  \u001b[0m | \u001b[95m 0.3319  \u001b[0m | \u001b[95m 0.5336  \u001b[0m | \u001b[95m 0.04582 \u001b[0m | \u001b[95m 1.633e+0\u001b[0m | \u001b[95m 13.31   \u001b[0m | \u001b[95m 0.05198 \u001b[0m | \u001b[95m 5.266e+0\u001b[0m | \u001b[95m 34.94   \u001b[0m | \u001b[95m 0.9044  \u001b[0m |\n"
     ]
    },
    {
     "name": "stderr",
     "output_type": "stream",
     "text": [
      "C:\\Users\\chava\\Anaconda3\\envs\\tensorflow\\lib\\site-packages\\lightgbm\\engine.py:430: UserWarning:\n",
      "\n",
      "Found `num_iterations` in params. Will use it instead of argument\n",
      "\n",
      "C:\\Users\\chava\\Anaconda3\\envs\\tensorflow\\lib\\site-packages\\lightgbm\\engine.py:435: UserWarning:\n",
      "\n",
      "Found `early_stopping_round` in params. Will use it instead of argument\n",
      "\n"
     ]
    },
    {
     "name": "stdout",
     "output_type": "stream",
     "text": [
      "| \u001b[95m 9       \u001b[0m | \u001b[95m-1.873   \u001b[0m | \u001b[95m 0.8841  \u001b[0m | \u001b[95m 0.949   \u001b[0m | \u001b[95m 0.7292  \u001b[0m | \u001b[95m 0.1931  \u001b[0m | \u001b[95m 24.83   \u001b[0m | \u001b[95m 10.9    \u001b[0m | \u001b[95m 0.08275 \u001b[0m | \u001b[95m 4.052e+0\u001b[0m | \u001b[95m 14.78   \u001b[0m | \u001b[95m 0.2596  \u001b[0m |\n"
     ]
    },
    {
     "name": "stderr",
     "output_type": "stream",
     "text": [
      "C:\\Users\\chava\\Anaconda3\\envs\\tensorflow\\lib\\site-packages\\lightgbm\\engine.py:430: UserWarning:\n",
      "\n",
      "Found `num_iterations` in params. Will use it instead of argument\n",
      "\n",
      "C:\\Users\\chava\\Anaconda3\\envs\\tensorflow\\lib\\site-packages\\lightgbm\\engine.py:435: UserWarning:\n",
      "\n",
      "Found `early_stopping_round` in params. Will use it instead of argument\n",
      "\n"
     ]
    },
    {
     "name": "stdout",
     "output_type": "stream",
     "text": [
      "| \u001b[0m 10      \u001b[0m | \u001b[0m-1.918   \u001b[0m | \u001b[0m 0.8562  \u001b[0m | \u001b[0m 0.9433  \u001b[0m | \u001b[0m 0.8149  \u001b[0m | \u001b[0m 0.08171 \u001b[0m | \u001b[0m 201.6   \u001b[0m | \u001b[0m 18.6    \u001b[0m | \u001b[0m 0.07479 \u001b[0m | \u001b[0m 6.012e+0\u001b[0m | \u001b[0m 91.83   \u001b[0m | \u001b[0m 0.9386  \u001b[0m |\n"
     ]
    },
    {
     "name": "stderr",
     "output_type": "stream",
     "text": [
      "C:\\Users\\chava\\Anaconda3\\envs\\tensorflow\\lib\\site-packages\\lightgbm\\engine.py:430: UserWarning:\n",
      "\n",
      "Found `num_iterations` in params. Will use it instead of argument\n",
      "\n",
      "C:\\Users\\chava\\Anaconda3\\envs\\tensorflow\\lib\\site-packages\\lightgbm\\engine.py:435: UserWarning:\n",
      "\n",
      "Found `early_stopping_round` in params. Will use it instead of argument\n",
      "\n"
     ]
    },
    {
     "name": "stdout",
     "output_type": "stream",
     "text": [
      "| \u001b[0m 11      \u001b[0m | \u001b[0m-1.887   \u001b[0m | \u001b[0m 0.9123  \u001b[0m | \u001b[0m 0.8908  \u001b[0m | \u001b[0m 0.35    \u001b[0m | \u001b[0m 0.3087  \u001b[0m | \u001b[0m 428.1   \u001b[0m | \u001b[0m 14.33   \u001b[0m | \u001b[0m 0.02807 \u001b[0m | \u001b[0m 2.493e+0\u001b[0m | \u001b[0m 11.3    \u001b[0m | \u001b[0m 0.6091  \u001b[0m |\n"
     ]
    },
    {
     "name": "stderr",
     "output_type": "stream",
     "text": [
      "C:\\Users\\chava\\Anaconda3\\envs\\tensorflow\\lib\\site-packages\\lightgbm\\engine.py:430: UserWarning:\n",
      "\n",
      "Found `num_iterations` in params. Will use it instead of argument\n",
      "\n",
      "C:\\Users\\chava\\Anaconda3\\envs\\tensorflow\\lib\\site-packages\\lightgbm\\engine.py:435: UserWarning:\n",
      "\n",
      "Found `early_stopping_round` in params. Will use it instead of argument\n",
      "\n"
     ]
    },
    {
     "name": "stdout",
     "output_type": "stream",
     "text": [
      "| \u001b[0m 12      \u001b[0m | \u001b[0m-1.912   \u001b[0m | \u001b[0m 0.9724  \u001b[0m | \u001b[0m 0.2591  \u001b[0m | \u001b[0m 0.7935  \u001b[0m | \u001b[0m 0.1712  \u001b[0m | \u001b[0m 321.6   \u001b[0m | \u001b[0m 10.85   \u001b[0m | \u001b[0m 0.04286 \u001b[0m | \u001b[0m 7.363e+0\u001b[0m | \u001b[0m 52.93   \u001b[0m | \u001b[0m 0.7007  \u001b[0m |\n"
     ]
    },
    {
     "name": "stderr",
     "output_type": "stream",
     "text": [
      "C:\\Users\\chava\\Anaconda3\\envs\\tensorflow\\lib\\site-packages\\lightgbm\\engine.py:430: UserWarning:\n",
      "\n",
      "Found `num_iterations` in params. Will use it instead of argument\n",
      "\n",
      "C:\\Users\\chava\\Anaconda3\\envs\\tensorflow\\lib\\site-packages\\lightgbm\\engine.py:435: UserWarning:\n",
      "\n",
      "Found `early_stopping_round` in params. Will use it instead of argument\n",
      "\n"
     ]
    },
    {
     "name": "stdout",
     "output_type": "stream",
     "text": [
      "| \u001b[0m 13      \u001b[0m | \u001b[0m-1.903   \u001b[0m | \u001b[0m 1.0     \u001b[0m | \u001b[0m 1.0     \u001b[0m | \u001b[0m 0.9     \u001b[0m | \u001b[0m 0.4     \u001b[0m | \u001b[0m 2e+03   \u001b[0m | \u001b[0m 10.0    \u001b[0m | \u001b[0m 0.1     \u001b[0m | \u001b[0m 1e+04   \u001b[0m | \u001b[0m 10.0    \u001b[0m | \u001b[0m 1.0     \u001b[0m |\n"
     ]
    },
    {
     "name": "stderr",
     "output_type": "stream",
     "text": [
      "C:\\Users\\chava\\Anaconda3\\envs\\tensorflow\\lib\\site-packages\\lightgbm\\engine.py:430: UserWarning:\n",
      "\n",
      "Found `num_iterations` in params. Will use it instead of argument\n",
      "\n",
      "C:\\Users\\chava\\Anaconda3\\envs\\tensorflow\\lib\\site-packages\\lightgbm\\engine.py:435: UserWarning:\n",
      "\n",
      "Found `early_stopping_round` in params. Will use it instead of argument\n",
      "\n"
     ]
    },
    {
     "name": "stdout",
     "output_type": "stream",
     "text": [
      "| \u001b[0m 14      \u001b[0m | \u001b[0m-2.002   \u001b[0m | \u001b[0m 1.0     \u001b[0m | \u001b[0m 1.0     \u001b[0m | \u001b[0m 0.9     \u001b[0m | \u001b[0m 0.4     \u001b[0m | \u001b[0m 1.0     \u001b[0m | \u001b[0m 10.0    \u001b[0m | \u001b[0m 0.1     \u001b[0m | \u001b[0m 1e+04   \u001b[0m | \u001b[0m 10.0    \u001b[0m | \u001b[0m 1.0     \u001b[0m |\n"
     ]
    },
    {
     "name": "stderr",
     "output_type": "stream",
     "text": [
      "C:\\Users\\chava\\Anaconda3\\envs\\tensorflow\\lib\\site-packages\\lightgbm\\engine.py:430: UserWarning:\n",
      "\n",
      "Found `num_iterations` in params. Will use it instead of argument\n",
      "\n",
      "C:\\Users\\chava\\Anaconda3\\envs\\tensorflow\\lib\\site-packages\\lightgbm\\engine.py:435: UserWarning:\n",
      "\n",
      "Found `early_stopping_round` in params. Will use it instead of argument\n",
      "\n"
     ]
    },
    {
     "name": "stdout",
     "output_type": "stream",
     "text": [
      "| \u001b[95m 15      \u001b[0m | \u001b[95m-1.864   \u001b[0m | \u001b[95m 1.0     \u001b[0m | \u001b[95m 1.0     \u001b[0m | \u001b[95m 0.8818  \u001b[0m | \u001b[95m 0.3909  \u001b[0m | \u001b[95m 2e+03   \u001b[0m | \u001b[95m 10.0    \u001b[0m | \u001b[95m 0.09774 \u001b[0m | \u001b[95m 7.837e+0\u001b[0m | \u001b[95m 10.0    \u001b[0m | \u001b[95m 0.9772  \u001b[0m |\n"
     ]
    },
    {
     "name": "stderr",
     "output_type": "stream",
     "text": [
      "C:\\Users\\chava\\Anaconda3\\envs\\tensorflow\\lib\\site-packages\\lightgbm\\engine.py:430: UserWarning:\n",
      "\n",
      "Found `num_iterations` in params. Will use it instead of argument\n",
      "\n",
      "C:\\Users\\chava\\Anaconda3\\envs\\tensorflow\\lib\\site-packages\\lightgbm\\engine.py:435: UserWarning:\n",
      "\n",
      "Found `early_stopping_round` in params. Will use it instead of argument\n",
      "\n"
     ]
    },
    {
     "name": "stdout",
     "output_type": "stream",
     "text": [
      "| \u001b[0m 16      \u001b[0m | \u001b[0m-2.002   \u001b[0m | \u001b[0m 1.0     \u001b[0m | \u001b[0m 1.0     \u001b[0m | \u001b[0m 0.9     \u001b[0m | \u001b[0m 0.4     \u001b[0m | \u001b[0m 1.0     \u001b[0m | \u001b[0m 10.0    \u001b[0m | \u001b[0m 0.1     \u001b[0m | \u001b[0m 10.0    \u001b[0m | \u001b[0m 10.0    \u001b[0m | \u001b[0m 1.0     \u001b[0m |\n"
     ]
    },
    {
     "name": "stderr",
     "output_type": "stream",
     "text": [
      "C:\\Users\\chava\\Anaconda3\\envs\\tensorflow\\lib\\site-packages\\lightgbm\\engine.py:430: UserWarning:\n",
      "\n",
      "Found `num_iterations` in params. Will use it instead of argument\n",
      "\n",
      "C:\\Users\\chava\\Anaconda3\\envs\\tensorflow\\lib\\site-packages\\lightgbm\\engine.py:435: UserWarning:\n",
      "\n",
      "Found `early_stopping_round` in params. Will use it instead of argument\n",
      "\n"
     ]
    },
    {
     "name": "stdout",
     "output_type": "stream",
     "text": [
      "| \u001b[0m 17      \u001b[0m | \u001b[0m-2.107   \u001b[0m | \u001b[0m 0.8175  \u001b[0m | \u001b[0m 0.08762 \u001b[0m | \u001b[0m 0.1     \u001b[0m | \u001b[0m 0.03596 \u001b[0m | \u001b[0m 1.086e+0\u001b[0m | \u001b[0m 10.0    \u001b[0m | \u001b[0m 0.009675\u001b[0m | \u001b[0m 8.899e+0\u001b[0m | \u001b[0m 10.0    \u001b[0m | \u001b[0m 0.0     \u001b[0m |\n"
     ]
    },
    {
     "name": "stderr",
     "output_type": "stream",
     "text": [
      "C:\\Users\\chava\\Anaconda3\\envs\\tensorflow\\lib\\site-packages\\lightgbm\\engine.py:430: UserWarning:\n",
      "\n",
      "Found `num_iterations` in params. Will use it instead of argument\n",
      "\n",
      "C:\\Users\\chava\\Anaconda3\\envs\\tensorflow\\lib\\site-packages\\lightgbm\\engine.py:435: UserWarning:\n",
      "\n",
      "Found `early_stopping_round` in params. Will use it instead of argument\n",
      "\n"
     ]
    },
    {
     "name": "stdout",
     "output_type": "stream",
     "text": [
      "| \u001b[0m 18      \u001b[0m | \u001b[0m-5.421   \u001b[0m | \u001b[0m 0.8     \u001b[0m | \u001b[0m 0.0     \u001b[0m | \u001b[0m 0.1     \u001b[0m | \u001b[0m 0.001   \u001b[0m | \u001b[0m 2e+03   \u001b[0m | \u001b[0m 14.95   \u001b[0m | \u001b[0m 0.001   \u001b[0m | \u001b[0m 6.53e+03\u001b[0m | \u001b[0m 10.0    \u001b[0m | \u001b[0m 0.0     \u001b[0m |\n"
     ]
    },
    {
     "name": "stderr",
     "output_type": "stream",
     "text": [
      "C:\\Users\\chava\\Anaconda3\\envs\\tensorflow\\lib\\site-packages\\lightgbm\\engine.py:430: UserWarning:\n",
      "\n",
      "Found `num_iterations` in params. Will use it instead of argument\n",
      "\n",
      "C:\\Users\\chava\\Anaconda3\\envs\\tensorflow\\lib\\site-packages\\lightgbm\\engine.py:435: UserWarning:\n",
      "\n",
      "Found `early_stopping_round` in params. Will use it instead of argument\n",
      "\n"
     ]
    },
    {
     "name": "stdout",
     "output_type": "stream",
     "text": [
      "| \u001b[0m 19      \u001b[0m | \u001b[0m-1.902   \u001b[0m | \u001b[0m 1.0     \u001b[0m | \u001b[0m 1.0     \u001b[0m | \u001b[0m 0.9     \u001b[0m | \u001b[0m 0.4     \u001b[0m | \u001b[0m 2e+03   \u001b[0m | \u001b[0m 25.0    \u001b[0m | \u001b[0m 0.001   \u001b[0m | \u001b[0m 4.361e+0\u001b[0m | \u001b[0m 10.0    \u001b[0m | \u001b[0m 0.0     \u001b[0m |\n"
     ]
    },
    {
     "name": "stderr",
     "output_type": "stream",
     "text": [
      "C:\\Users\\chava\\Anaconda3\\envs\\tensorflow\\lib\\site-packages\\lightgbm\\engine.py:430: UserWarning:\n",
      "\n",
      "Found `num_iterations` in params. Will use it instead of argument\n",
      "\n",
      "C:\\Users\\chava\\Anaconda3\\envs\\tensorflow\\lib\\site-packages\\lightgbm\\engine.py:435: UserWarning:\n",
      "\n",
      "Found `early_stopping_round` in params. Will use it instead of argument\n",
      "\n"
     ]
    },
    {
     "name": "stdout",
     "output_type": "stream",
     "text": [
      "| \u001b[0m 20      \u001b[0m | \u001b[0m-2.087   \u001b[0m | \u001b[0m 1.0     \u001b[0m | \u001b[0m 0.0     \u001b[0m | \u001b[0m 0.1     \u001b[0m | \u001b[0m 0.4     \u001b[0m | \u001b[0m 2e+03   \u001b[0m | \u001b[0m 10.0    \u001b[0m | \u001b[0m 0.1     \u001b[0m | \u001b[0m 1.747e+0\u001b[0m | \u001b[0m 100.0   \u001b[0m | \u001b[0m 1.0     \u001b[0m |\n"
     ]
    },
    {
     "name": "stderr",
     "output_type": "stream",
     "text": [
      "C:\\Users\\chava\\Anaconda3\\envs\\tensorflow\\lib\\site-packages\\lightgbm\\engine.py:430: UserWarning:\n",
      "\n",
      "Found `num_iterations` in params. Will use it instead of argument\n",
      "\n",
      "C:\\Users\\chava\\Anaconda3\\envs\\tensorflow\\lib\\site-packages\\lightgbm\\engine.py:435: UserWarning:\n",
      "\n",
      "Found `early_stopping_round` in params. Will use it instead of argument\n",
      "\n"
     ]
    },
    {
     "name": "stdout",
     "output_type": "stream",
     "text": [
      "| \u001b[0m 21      \u001b[0m | \u001b[0m-2.0     \u001b[0m | \u001b[0m 1.0     \u001b[0m | \u001b[0m 1.0     \u001b[0m | \u001b[0m 0.9     \u001b[0m | \u001b[0m 0.4     \u001b[0m | \u001b[0m 1.0     \u001b[0m | \u001b[0m 25.0    \u001b[0m | \u001b[0m 0.1     \u001b[0m | \u001b[0m 8.473e+0\u001b[0m | \u001b[0m 100.0   \u001b[0m | \u001b[0m 1.0     \u001b[0m |\n"
     ]
    },
    {
     "name": "stderr",
     "output_type": "stream",
     "text": [
      "C:\\Users\\chava\\Anaconda3\\envs\\tensorflow\\lib\\site-packages\\lightgbm\\engine.py:430: UserWarning:\n",
      "\n",
      "Found `num_iterations` in params. Will use it instead of argument\n",
      "\n",
      "C:\\Users\\chava\\Anaconda3\\envs\\tensorflow\\lib\\site-packages\\lightgbm\\engine.py:435: UserWarning:\n",
      "\n",
      "Found `early_stopping_round` in params. Will use it instead of argument\n",
      "\n"
     ]
    },
    {
     "name": "stdout",
     "output_type": "stream",
     "text": [
      "| \u001b[0m 22      \u001b[0m | \u001b[0m-2.041   \u001b[0m | \u001b[0m 1.0     \u001b[0m | \u001b[0m 1.0     \u001b[0m | \u001b[0m 0.9     \u001b[0m | \u001b[0m 0.4     \u001b[0m | \u001b[0m 2e+03   \u001b[0m | \u001b[0m 25.0    \u001b[0m | \u001b[0m 0.1     \u001b[0m | \u001b[0m 8.752e+0\u001b[0m | \u001b[0m 100.0   \u001b[0m | \u001b[0m 1.0     \u001b[0m |\n"
     ]
    },
    {
     "name": "stderr",
     "output_type": "stream",
     "text": [
      "C:\\Users\\chava\\Anaconda3\\envs\\tensorflow\\lib\\site-packages\\lightgbm\\engine.py:430: UserWarning:\n",
      "\n",
      "Found `num_iterations` in params. Will use it instead of argument\n",
      "\n",
      "C:\\Users\\chava\\Anaconda3\\envs\\tensorflow\\lib\\site-packages\\lightgbm\\engine.py:435: UserWarning:\n",
      "\n",
      "Found `early_stopping_round` in params. Will use it instead of argument\n",
      "\n"
     ]
    },
    {
     "name": "stdout",
     "output_type": "stream",
     "text": [
      "| \u001b[0m 23      \u001b[0m | \u001b[0m-5.417   \u001b[0m | \u001b[0m 0.8     \u001b[0m | \u001b[0m 1.0     \u001b[0m | \u001b[0m 0.1     \u001b[0m | \u001b[0m 0.001   \u001b[0m | \u001b[0m 1.085e+0\u001b[0m | \u001b[0m 25.0    \u001b[0m | \u001b[0m 0.001   \u001b[0m | \u001b[0m 10.0    \u001b[0m | \u001b[0m 100.0   \u001b[0m | \u001b[0m 0.0     \u001b[0m |\n"
     ]
    },
    {
     "name": "stderr",
     "output_type": "stream",
     "text": [
      "C:\\Users\\chava\\Anaconda3\\envs\\tensorflow\\lib\\site-packages\\lightgbm\\engine.py:430: UserWarning:\n",
      "\n",
      "Found `num_iterations` in params. Will use it instead of argument\n",
      "\n",
      "C:\\Users\\chava\\Anaconda3\\envs\\tensorflow\\lib\\site-packages\\lightgbm\\engine.py:435: UserWarning:\n",
      "\n",
      "Found `early_stopping_round` in params. Will use it instead of argument\n",
      "\n"
     ]
    },
    {
     "name": "stdout",
     "output_type": "stream",
     "text": [
      "| \u001b[0m 24      \u001b[0m | \u001b[0m-4.991   \u001b[0m | \u001b[0m 1.0     \u001b[0m | \u001b[0m 0.0     \u001b[0m | \u001b[0m 0.9     \u001b[0m | \u001b[0m 0.001   \u001b[0m | \u001b[0m 1.0     \u001b[0m | \u001b[0m 25.0    \u001b[0m | \u001b[0m 0.09215 \u001b[0m | \u001b[0m 1.73e+03\u001b[0m | \u001b[0m 100.0   \u001b[0m | \u001b[0m 1.0     \u001b[0m |\n"
     ]
    },
    {
     "name": "stderr",
     "output_type": "stream",
     "text": [
      "C:\\Users\\chava\\Anaconda3\\envs\\tensorflow\\lib\\site-packages\\lightgbm\\engine.py:430: UserWarning:\n",
      "\n",
      "Found `num_iterations` in params. Will use it instead of argument\n",
      "\n",
      "C:\\Users\\chava\\Anaconda3\\envs\\tensorflow\\lib\\site-packages\\lightgbm\\engine.py:435: UserWarning:\n",
      "\n",
      "Found `early_stopping_round` in params. Will use it instead of argument\n",
      "\n"
     ]
    },
    {
     "name": "stdout",
     "output_type": "stream",
     "text": [
      "| \u001b[0m 25      \u001b[0m | \u001b[0m-1.881   \u001b[0m | \u001b[0m 0.9069  \u001b[0m | \u001b[0m 1.0     \u001b[0m | \u001b[0m 0.5516  \u001b[0m | \u001b[0m 0.3635  \u001b[0m | \u001b[0m 975.9   \u001b[0m | \u001b[0m 14.46   \u001b[0m | \u001b[0m 0.1     \u001b[0m | \u001b[0m 2.875e+0\u001b[0m | \u001b[0m 10.0    \u001b[0m | \u001b[0m 0.3414  \u001b[0m |\n"
     ]
    },
    {
     "name": "stderr",
     "output_type": "stream",
     "text": [
      "C:\\Users\\chava\\Anaconda3\\envs\\tensorflow\\lib\\site-packages\\lightgbm\\engine.py:430: UserWarning:\n",
      "\n",
      "Found `num_iterations` in params. Will use it instead of argument\n",
      "\n",
      "C:\\Users\\chava\\Anaconda3\\envs\\tensorflow\\lib\\site-packages\\lightgbm\\engine.py:435: UserWarning:\n",
      "\n",
      "Found `early_stopping_round` in params. Will use it instead of argument\n",
      "\n"
     ]
    },
    {
     "name": "stdout",
     "output_type": "stream",
     "text": [
      "| \u001b[0m 26      \u001b[0m | \u001b[0m-5.421   \u001b[0m | \u001b[0m 0.8     \u001b[0m | \u001b[0m 0.0     \u001b[0m | \u001b[0m 0.1     \u001b[0m | \u001b[0m 0.001   \u001b[0m | \u001b[0m 327.8   \u001b[0m | \u001b[0m 12.8    \u001b[0m | \u001b[0m 0.001   \u001b[0m | \u001b[0m 3.236e+0\u001b[0m | \u001b[0m 10.0    \u001b[0m | \u001b[0m 0.0     \u001b[0m |\n"
     ]
    },
    {
     "name": "stderr",
     "output_type": "stream",
     "text": [
      "C:\\Users\\chava\\Anaconda3\\envs\\tensorflow\\lib\\site-packages\\lightgbm\\engine.py:430: UserWarning:\n",
      "\n",
      "Found `num_iterations` in params. Will use it instead of argument\n",
      "\n",
      "C:\\Users\\chava\\Anaconda3\\envs\\tensorflow\\lib\\site-packages\\lightgbm\\engine.py:435: UserWarning:\n",
      "\n",
      "Found `early_stopping_round` in params. Will use it instead of argument\n",
      "\n"
     ]
    },
    {
     "name": "stdout",
     "output_type": "stream",
     "text": [
      "| \u001b[0m 27      \u001b[0m | \u001b[0m-1.915   \u001b[0m | \u001b[0m 0.9901  \u001b[0m | \u001b[0m 1.0     \u001b[0m | \u001b[0m 0.3624  \u001b[0m | \u001b[0m 0.4     \u001b[0m | \u001b[0m 911.4   \u001b[0m | \u001b[0m 13.15   \u001b[0m | \u001b[0m 0.1     \u001b[0m | \u001b[0m 2.408e+0\u001b[0m | \u001b[0m 10.0    \u001b[0m | \u001b[0m 0.8062  \u001b[0m |\n"
     ]
    },
    {
     "name": "stderr",
     "output_type": "stream",
     "text": [
      "C:\\Users\\chava\\Anaconda3\\envs\\tensorflow\\lib\\site-packages\\lightgbm\\engine.py:430: UserWarning:\n",
      "\n",
      "Found `num_iterations` in params. Will use it instead of argument\n",
      "\n",
      "C:\\Users\\chava\\Anaconda3\\envs\\tensorflow\\lib\\site-packages\\lightgbm\\engine.py:435: UserWarning:\n",
      "\n",
      "Found `early_stopping_round` in params. Will use it instead of argument\n",
      "\n"
     ]
    },
    {
     "name": "stdout",
     "output_type": "stream",
     "text": [
      "| \u001b[0m 28      \u001b[0m | \u001b[0m-2.087   \u001b[0m | \u001b[0m 0.8423  \u001b[0m | \u001b[0m 0.0     \u001b[0m | \u001b[0m 0.1     \u001b[0m | \u001b[0m 0.4     \u001b[0m | \u001b[0m 1.425e+0\u001b[0m | \u001b[0m 10.0    \u001b[0m | \u001b[0m 0.1     \u001b[0m | \u001b[0m 2.698e+0\u001b[0m | \u001b[0m 100.0   \u001b[0m | \u001b[0m 1.0     \u001b[0m |\n"
     ]
    },
    {
     "name": "stderr",
     "output_type": "stream",
     "text": [
      "C:\\Users\\chava\\Anaconda3\\envs\\tensorflow\\lib\\site-packages\\lightgbm\\engine.py:430: UserWarning:\n",
      "\n",
      "Found `num_iterations` in params. Will use it instead of argument\n",
      "\n",
      "C:\\Users\\chava\\Anaconda3\\envs\\tensorflow\\lib\\site-packages\\lightgbm\\engine.py:435: UserWarning:\n",
      "\n",
      "Found `early_stopping_round` in params. Will use it instead of argument\n",
      "\n"
     ]
    },
    {
     "name": "stdout",
     "output_type": "stream",
     "text": [
      "| \u001b[0m 29      \u001b[0m | \u001b[0m-1.914   \u001b[0m | \u001b[0m 1.0     \u001b[0m | \u001b[0m 0.03632 \u001b[0m | \u001b[0m 0.9     \u001b[0m | \u001b[0m 0.2896  \u001b[0m | \u001b[0m 1.513e+0\u001b[0m | \u001b[0m 17.96   \u001b[0m | \u001b[0m 0.1     \u001b[0m | \u001b[0m 4.699e+0\u001b[0m | \u001b[0m 19.47   \u001b[0m | \u001b[0m 0.02333 \u001b[0m |\n"
     ]
    },
    {
     "name": "stderr",
     "output_type": "stream",
     "text": [
      "C:\\Users\\chava\\Anaconda3\\envs\\tensorflow\\lib\\site-packages\\lightgbm\\engine.py:430: UserWarning:\n",
      "\n",
      "Found `num_iterations` in params. Will use it instead of argument\n",
      "\n",
      "C:\\Users\\chava\\Anaconda3\\envs\\tensorflow\\lib\\site-packages\\lightgbm\\engine.py:435: UserWarning:\n",
      "\n",
      "Found `early_stopping_round` in params. Will use it instead of argument\n",
      "\n"
     ]
    },
    {
     "name": "stdout",
     "output_type": "stream",
     "text": [
      "| \u001b[0m 30      \u001b[0m | \u001b[0m-1.955   \u001b[0m | \u001b[0m 1.0     \u001b[0m | \u001b[0m 0.757   \u001b[0m | \u001b[0m 0.9     \u001b[0m | \u001b[0m 0.4     \u001b[0m | \u001b[0m 799.3   \u001b[0m | \u001b[0m 15.44   \u001b[0m | \u001b[0m 0.1     \u001b[0m | \u001b[0m 4.885e+0\u001b[0m | \u001b[0m 24.09   \u001b[0m | \u001b[0m 0.8363  \u001b[0m |\n"
     ]
    },
    {
     "name": "stderr",
     "output_type": "stream",
     "text": [
      "C:\\Users\\chava\\Anaconda3\\envs\\tensorflow\\lib\\site-packages\\lightgbm\\engine.py:430: UserWarning:\n",
      "\n",
      "Found `num_iterations` in params. Will use it instead of argument\n",
      "\n",
      "C:\\Users\\chava\\Anaconda3\\envs\\tensorflow\\lib\\site-packages\\lightgbm\\engine.py:435: UserWarning:\n",
      "\n",
      "Found `early_stopping_round` in params. Will use it instead of argument\n",
      "\n"
     ]
    },
    {
     "name": "stdout",
     "output_type": "stream",
     "text": [
      "| \u001b[0m 31      \u001b[0m | \u001b[0m-1.892   \u001b[0m | \u001b[0m 0.9377  \u001b[0m | \u001b[0m 0.6737  \u001b[0m | \u001b[0m 0.7216  \u001b[0m | \u001b[0m 0.07313 \u001b[0m | \u001b[0m 776.6   \u001b[0m | \u001b[0m 17.52   \u001b[0m | \u001b[0m 0.084   \u001b[0m | \u001b[0m 5.576e+0\u001b[0m | \u001b[0m 69.14   \u001b[0m | \u001b[0m 0.8634  \u001b[0m |\n"
     ]
    },
    {
     "name": "stderr",
     "output_type": "stream",
     "text": [
      "C:\\Users\\chava\\Anaconda3\\envs\\tensorflow\\lib\\site-packages\\lightgbm\\engine.py:430: UserWarning:\n",
      "\n",
      "Found `num_iterations` in params. Will use it instead of argument\n",
      "\n",
      "C:\\Users\\chava\\Anaconda3\\envs\\tensorflow\\lib\\site-packages\\lightgbm\\engine.py:435: UserWarning:\n",
      "\n",
      "Found `early_stopping_round` in params. Will use it instead of argument\n",
      "\n"
     ]
    },
    {
     "name": "stdout",
     "output_type": "stream",
     "text": [
      "| \u001b[0m 32      \u001b[0m | \u001b[0m-1.948   \u001b[0m | \u001b[0m 0.9287  \u001b[0m | \u001b[0m 0.4962  \u001b[0m | \u001b[0m 0.83    \u001b[0m | \u001b[0m 0.4     \u001b[0m | \u001b[0m 1.502e+0\u001b[0m | \u001b[0m 16.46   \u001b[0m | \u001b[0m 0.1     \u001b[0m | \u001b[0m 8.218e+0\u001b[0m | \u001b[0m 24.61   \u001b[0m | \u001b[0m 0.5704  \u001b[0m |\n"
     ]
    },
    {
     "name": "stderr",
     "output_type": "stream",
     "text": [
      "C:\\Users\\chava\\Anaconda3\\envs\\tensorflow\\lib\\site-packages\\lightgbm\\engine.py:430: UserWarning:\n",
      "\n",
      "Found `num_iterations` in params. Will use it instead of argument\n",
      "\n",
      "C:\\Users\\chava\\Anaconda3\\envs\\tensorflow\\lib\\site-packages\\lightgbm\\engine.py:435: UserWarning:\n",
      "\n",
      "Found `early_stopping_round` in params. Will use it instead of argument\n",
      "\n"
     ]
    },
    {
     "name": "stdout",
     "output_type": "stream",
     "text": [
      "| \u001b[0m 33      \u001b[0m | \u001b[0m-1.962   \u001b[0m | \u001b[0m 1.0     \u001b[0m | \u001b[0m 0.0     \u001b[0m | \u001b[0m 0.7934  \u001b[0m | \u001b[0m 0.285   \u001b[0m | \u001b[0m 646.1   \u001b[0m | \u001b[0m 15.52   \u001b[0m | \u001b[0m 0.1     \u001b[0m | \u001b[0m 8.02e+03\u001b[0m | \u001b[0m 55.02   \u001b[0m | \u001b[0m 0.0     \u001b[0m |\n"
     ]
    },
    {
     "name": "stderr",
     "output_type": "stream",
     "text": [
      "C:\\Users\\chava\\Anaconda3\\envs\\tensorflow\\lib\\site-packages\\lightgbm\\engine.py:430: UserWarning:\n",
      "\n",
      "Found `num_iterations` in params. Will use it instead of argument\n",
      "\n",
      "C:\\Users\\chava\\Anaconda3\\envs\\tensorflow\\lib\\site-packages\\lightgbm\\engine.py:435: UserWarning:\n",
      "\n",
      "Found `early_stopping_round` in params. Will use it instead of argument\n",
      "\n"
     ]
    },
    {
     "name": "stdout",
     "output_type": "stream",
     "text": [
      "| \u001b[0m 34      \u001b[0m | \u001b[0m-1.902   \u001b[0m | \u001b[0m 1.0     \u001b[0m | \u001b[0m 1.0     \u001b[0m | \u001b[0m 0.9     \u001b[0m | \u001b[0m 0.4     \u001b[0m | \u001b[0m 1.406e+0\u001b[0m | \u001b[0m 25.0    \u001b[0m | \u001b[0m 0.001   \u001b[0m | \u001b[0m 4.016e+0\u001b[0m | \u001b[0m 10.0    \u001b[0m | \u001b[0m 0.0     \u001b[0m |\n"
     ]
    },
    {
     "name": "stderr",
     "output_type": "stream",
     "text": [
      "C:\\Users\\chava\\Anaconda3\\envs\\tensorflow\\lib\\site-packages\\lightgbm\\engine.py:430: UserWarning:\n",
      "\n",
      "Found `num_iterations` in params. Will use it instead of argument\n",
      "\n",
      "C:\\Users\\chava\\Anaconda3\\envs\\tensorflow\\lib\\site-packages\\lightgbm\\engine.py:435: UserWarning:\n",
      "\n",
      "Found `early_stopping_round` in params. Will use it instead of argument\n",
      "\n"
     ]
    },
    {
     "name": "stdout",
     "output_type": "stream",
     "text": [
      "| \u001b[0m 35      \u001b[0m | \u001b[0m-5.414   \u001b[0m | \u001b[0m 0.8017  \u001b[0m | \u001b[0m 0.2352  \u001b[0m | \u001b[0m 0.1     \u001b[0m | \u001b[0m 0.001   \u001b[0m | \u001b[0m 1.601e+0\u001b[0m | \u001b[0m 19.94   \u001b[0m | \u001b[0m 0.001   \u001b[0m | \u001b[0m 9.477e+0\u001b[0m | \u001b[0m 100.0   \u001b[0m | \u001b[0m 0.2057  \u001b[0m |\n"
     ]
    },
    {
     "name": "stderr",
     "output_type": "stream",
     "text": [
      "C:\\Users\\chava\\Anaconda3\\envs\\tensorflow\\lib\\site-packages\\lightgbm\\engine.py:430: UserWarning:\n",
      "\n",
      "Found `num_iterations` in params. Will use it instead of argument\n",
      "\n",
      "C:\\Users\\chava\\Anaconda3\\envs\\tensorflow\\lib\\site-packages\\lightgbm\\engine.py:435: UserWarning:\n",
      "\n",
      "Found `early_stopping_round` in params. Will use it instead of argument\n",
      "\n"
     ]
    },
    {
     "name": "stdout",
     "output_type": "stream",
     "text": [
      "| \u001b[0m 36      \u001b[0m | \u001b[0m-5.414   \u001b[0m | \u001b[0m 0.8     \u001b[0m | \u001b[0m 0.0     \u001b[0m | \u001b[0m 0.1     \u001b[0m | \u001b[0m 0.001   \u001b[0m | \u001b[0m 1.074e+0\u001b[0m | \u001b[0m 10.0    \u001b[0m | \u001b[0m 0.1     \u001b[0m | \u001b[0m 4.411e+0\u001b[0m | \u001b[0m 100.0   \u001b[0m | \u001b[0m 1.0     \u001b[0m |\n"
     ]
    },
    {
     "name": "stderr",
     "output_type": "stream",
     "text": [
      "C:\\Users\\chava\\Anaconda3\\envs\\tensorflow\\lib\\site-packages\\lightgbm\\engine.py:430: UserWarning:\n",
      "\n",
      "Found `num_iterations` in params. Will use it instead of argument\n",
      "\n",
      "C:\\Users\\chava\\Anaconda3\\envs\\tensorflow\\lib\\site-packages\\lightgbm\\engine.py:435: UserWarning:\n",
      "\n",
      "Found `early_stopping_round` in params. Will use it instead of argument\n",
      "\n"
     ]
    },
    {
     "name": "stdout",
     "output_type": "stream",
     "text": [
      "| \u001b[0m 37      \u001b[0m | \u001b[0m-1.903   \u001b[0m | \u001b[0m 1.0     \u001b[0m | \u001b[0m 1.0     \u001b[0m | \u001b[0m 0.9     \u001b[0m | \u001b[0m 0.4     \u001b[0m | \u001b[0m 335.7   \u001b[0m | \u001b[0m 10.0    \u001b[0m | \u001b[0m 0.1     \u001b[0m | \u001b[0m 4.083e+0\u001b[0m | \u001b[0m 10.0    \u001b[0m | \u001b[0m 0.1487  \u001b[0m |\n"
     ]
    },
    {
     "name": "stderr",
     "output_type": "stream",
     "text": [
      "C:\\Users\\chava\\Anaconda3\\envs\\tensorflow\\lib\\site-packages\\lightgbm\\engine.py:430: UserWarning:\n",
      "\n",
      "Found `num_iterations` in params. Will use it instead of argument\n",
      "\n",
      "C:\\Users\\chava\\Anaconda3\\envs\\tensorflow\\lib\\site-packages\\lightgbm\\engine.py:435: UserWarning:\n",
      "\n",
      "Found `early_stopping_round` in params. Will use it instead of argument\n",
      "\n"
     ]
    },
    {
     "name": "stdout",
     "output_type": "stream",
     "text": [
      "| \u001b[0m 38      \u001b[0m | \u001b[0m-1.905   \u001b[0m | \u001b[0m 0.8893  \u001b[0m | \u001b[0m 0.691   \u001b[0m | \u001b[0m 0.7365  \u001b[0m | \u001b[0m 0.1477  \u001b[0m | \u001b[0m 414.3   \u001b[0m | \u001b[0m 18.84   \u001b[0m | \u001b[0m 0.05718 \u001b[0m | \u001b[0m 5.689e+0\u001b[0m | \u001b[0m 68.16   \u001b[0m | \u001b[0m 0.8318  \u001b[0m |\n"
     ]
    },
    {
     "name": "stderr",
     "output_type": "stream",
     "text": [
      "C:\\Users\\chava\\Anaconda3\\envs\\tensorflow\\lib\\site-packages\\lightgbm\\engine.py:430: UserWarning:\n",
      "\n",
      "Found `num_iterations` in params. Will use it instead of argument\n",
      "\n",
      "C:\\Users\\chava\\Anaconda3\\envs\\tensorflow\\lib\\site-packages\\lightgbm\\engine.py:435: UserWarning:\n",
      "\n",
      "Found `early_stopping_round` in params. Will use it instead of argument\n",
      "\n"
     ]
    },
    {
     "name": "stdout",
     "output_type": "stream",
     "text": [
      "| \u001b[0m 39      \u001b[0m | \u001b[0m-1.886   \u001b[0m | \u001b[0m 0.9855  \u001b[0m | \u001b[0m 0.2716  \u001b[0m | \u001b[0m 0.7319  \u001b[0m | \u001b[0m 0.09816 \u001b[0m | \u001b[0m 563.9   \u001b[0m | \u001b[0m 18.26   \u001b[0m | \u001b[0m 0.03979 \u001b[0m | \u001b[0m 5.237e+0\u001b[0m | \u001b[0m 33.98   \u001b[0m | \u001b[0m 0.8397  \u001b[0m |\n"
     ]
    },
    {
     "name": "stderr",
     "output_type": "stream",
     "text": [
      "C:\\Users\\chava\\Anaconda3\\envs\\tensorflow\\lib\\site-packages\\lightgbm\\engine.py:430: UserWarning:\n",
      "\n",
      "Found `num_iterations` in params. Will use it instead of argument\n",
      "\n",
      "C:\\Users\\chava\\Anaconda3\\envs\\tensorflow\\lib\\site-packages\\lightgbm\\engine.py:435: UserWarning:\n",
      "\n",
      "Found `early_stopping_round` in params. Will use it instead of argument\n",
      "\n"
     ]
    },
    {
     "name": "stdout",
     "output_type": "stream",
     "text": [
      "| \u001b[0m 40      \u001b[0m | \u001b[0m-1.907   \u001b[0m | \u001b[0m 1.0     \u001b[0m | \u001b[0m 0.6392  \u001b[0m | \u001b[0m 0.9     \u001b[0m | \u001b[0m 0.3697  \u001b[0m | \u001b[0m 1.849e+0\u001b[0m | \u001b[0m 21.11   \u001b[0m | \u001b[0m 0.05716 \u001b[0m | \u001b[0m 4.851e+0\u001b[0m | \u001b[0m 10.0    \u001b[0m | \u001b[0m 0.1974  \u001b[0m |\n"
     ]
    },
    {
     "name": "stderr",
     "output_type": "stream",
     "text": [
      "C:\\Users\\chava\\Anaconda3\\envs\\tensorflow\\lib\\site-packages\\lightgbm\\engine.py:430: UserWarning:\n",
      "\n",
      "Found `num_iterations` in params. Will use it instead of argument\n",
      "\n",
      "C:\\Users\\chava\\Anaconda3\\envs\\tensorflow\\lib\\site-packages\\lightgbm\\engine.py:435: UserWarning:\n",
      "\n",
      "Found `early_stopping_round` in params. Will use it instead of argument\n",
      "\n"
     ]
    },
    {
     "name": "stdout",
     "output_type": "stream",
     "text": [
      "| \u001b[0m 41      \u001b[0m | \u001b[0m-1.902   \u001b[0m | \u001b[0m 1.0     \u001b[0m | \u001b[0m 1.0     \u001b[0m | \u001b[0m 0.9     \u001b[0m | \u001b[0m 0.4     \u001b[0m | \u001b[0m 1.777e+0\u001b[0m | \u001b[0m 25.0    \u001b[0m | \u001b[0m 0.001   \u001b[0m | \u001b[0m 3.913e+0\u001b[0m | \u001b[0m 10.0    \u001b[0m | \u001b[0m 0.0     \u001b[0m |\n"
     ]
    },
    {
     "name": "stderr",
     "output_type": "stream",
     "text": [
      "C:\\Users\\chava\\Anaconda3\\envs\\tensorflow\\lib\\site-packages\\lightgbm\\engine.py:430: UserWarning:\n",
      "\n",
      "Found `num_iterations` in params. Will use it instead of argument\n",
      "\n",
      "C:\\Users\\chava\\Anaconda3\\envs\\tensorflow\\lib\\site-packages\\lightgbm\\engine.py:435: UserWarning:\n",
      "\n",
      "Found `early_stopping_round` in params. Will use it instead of argument\n",
      "\n"
     ]
    },
    {
     "name": "stdout",
     "output_type": "stream",
     "text": [
      "| \u001b[0m 42      \u001b[0m | \u001b[0m-1.889   \u001b[0m | \u001b[0m 0.8665  \u001b[0m | \u001b[0m 0.9369  \u001b[0m | \u001b[0m 0.4985  \u001b[0m | \u001b[0m 0.06769 \u001b[0m | \u001b[0m 177.6   \u001b[0m | \u001b[0m 23.21   \u001b[0m | \u001b[0m 0.06621 \u001b[0m | \u001b[0m 5.414e+0\u001b[0m | \u001b[0m 34.42   \u001b[0m | \u001b[0m 0.1354  \u001b[0m |\n",
      "=================================================================================================================================================\n"
     ]
    },
    {
     "data": {
      "text/plain": [
       "{'target': -1.8641144850030944,\n",
       " 'params': {'bagging_fraction': 1.0,\n",
       "  'colsample_bytree': 1.0,\n",
       "  'feature_fraction': 0.8817721405492712,\n",
       "  'learning_rate': 0.390908855098949,\n",
       "  'max_depth': 2000.0,\n",
       "  'min_child_weight': 10.000000001086345,\n",
       "  'min_split_gain': 0.09774430239297233,\n",
       "  'n_estimators': 7836.58516042702,\n",
       "  'num_leaves': 10.0,\n",
       "  'subsample': 0.977215175686589}}"
      ]
     },
     "execution_count": 24,
     "metadata": {},
     "output_type": "execute_result"
    }
   ],
   "source": [
    "train_set = lgb.Dataset(X_train, label=y_train)\n",
    "valid_set = lgb.Dataset(X_test, label=y_test)\n",
    "params = {\n",
    "        \"objective\" : \"regression\", \n",
    "        \"metric\" : \"rmse\", \n",
    "        \"num_leaves\" : 100, \n",
    "        \"learning_rate\" : 0.03, \n",
    "        \"bagging_fraction\" : 0.9,\n",
    "        \"bagging_seed\" : 0, \n",
    "        \"num_threads\" : 4,\n",
    "        \"colsample_bytree\" : 0.5,\n",
    "        'min_data_in_leaf':1900, \n",
    "        'min_split_gain':0.00011,\n",
    "        'lambda_l2':9\n",
    "}\n",
    "\n",
    "model = lgb.train(  params, \n",
    "                    train_set = train_set,\n",
    "                    num_boost_round=9400,\n",
    "                    early_stopping_rounds=200,\n",
    "                    verbose_eval=100, \n",
    "                    valid_sets=[train_set,valid_set]\n",
    "                  )\n",
    "\n",
    "\n",
    "y_pred=model.predict(X_test, num_iteration=model.best_iteration)\n",
    "print('The rmse of Baseline lightgbm is :', sqrt(mean_squared_error(y_test, y_pred)))\n",
    "lgb_after = sqrt(mean_squared_error(y_test, y_pred))\n",
    "\n",
    "def bayesion_opt_lgbm(X, y, init_iter=12, n_iters=30, random_state=11, seed = 101, num_iterations = 200):\n",
    "    \n",
    "    \n",
    "    dtrain = lgb.Dataset(data=X, label=y)\n",
    "      \n",
    "      # Objective Function\n",
    "    def hyp_lgbm(num_leaves, feature_fraction, bagging_fraction, max_depth, min_split_gain, min_child_weight, n_estimators, learning_rate, subsample, colsample_bytree):\n",
    "        \n",
    "        params = {'application':'regression','num_iterations': num_iterations, \n",
    "                         'early_stopping_round':50,\n",
    "                        'metric':'l2'} # Default parameters \n",
    "       \n",
    "                \n",
    "        params[\"n_estimators\"] = int(max(n_estimators, 10)) \n",
    "        params[\"learning_rate\"] = float(max(learning_rate, 0 ))\n",
    "        params[\"num_leaves\"] = int(round(num_leaves))\n",
    "        params['feature_fraction'] = max(min(feature_fraction, 1), 0)\n",
    "        params['bagging_fraction'] = max(min(bagging_fraction, 1), 0)\n",
    "        params['max_depth'] = int(round(max_depth))\n",
    "        params['min_split_gain'] = min_split_gain\n",
    "        params['min_child_weight'] = min_child_weight\n",
    "        params['subsample'] = max(subsample, 0)\n",
    "        params['colsample_bytree'] = max(colsample_bytree, 0)\n",
    "        \n",
    "       \n",
    "             \n",
    "            \n",
    "            \n",
    "        cv_results = lgb.cv(params, dtrain, nfold=5, seed=seed, stratified=False,\n",
    "                                  verbose_eval =None, metrics=['l2'])\n",
    "              # print(cv_results)\n",
    "        return -np.min(cv_results['l2-mean'])\n",
    "    \n",
    "    \n",
    "      # Domain space-- Range of hyperparameters \n",
    "    pds = {     'num_leaves': (10, 100),\n",
    "                'feature_fraction': (0.1, 0.9),\n",
    "                'bagging_fraction': (0.8, 1),\n",
    "                'max_depth': (1, 2000),\n",
    "                'min_split_gain': (0.001, 0.1),\n",
    "                'min_child_weight': (10, 25),\n",
    "                'n_estimators' : (10,10000),\n",
    "                \"learning_rate\": (0.001, 0.4),\n",
    "                \"subsample\": (0, 1),\n",
    "                \"colsample_bytree\" : (0, 1)\n",
    "                \n",
    "                }\n",
    "\n",
    "      # Surrogate model\n",
    "    optimizer = BayesianOptimization(hyp_lgbm, pds, random_state=random_state)\n",
    "\n",
    "      # Optimize\n",
    "    optimizer.maximize(init_points=init_iter, n_iter=n_iters)\n",
    "    return optimizer.max\n",
    "\n",
    "opt_params = bayesion_opt_lgbm(X, y, init_iter=12, n_iters=30, random_state=77, seed = 101, num_iterations = 200)\n",
    "\n",
    "opt_params\n"
   ]
  },
  {
   "cell_type": "code",
   "execution_count": 25,
   "metadata": {},
   "outputs": [
    {
     "name": "stdout",
     "output_type": "stream",
     "text": [
      "Starting training...\n"
     ]
    },
    {
     "name": "stderr",
     "output_type": "stream",
     "text": [
      "C:\\Users\\chava\\Anaconda3\\envs\\tensorflow\\lib\\site-packages\\lightgbm\\engine.py:118: UserWarning:\n",
      "\n",
      "Found `n_estimators` in params. Will use it instead of argument\n",
      "\n"
     ]
    },
    {
     "name": "stdout",
     "output_type": "stream",
     "text": [
      "Starting predicting...\n",
      "The rmse of optimize lightgbm is : 1.097545801252295\n"
     ]
    }
   ],
   "source": [
    "# create dataset for lightgbm\n",
    "lgb_train = lgb.Dataset(X_train, y_train)\n",
    "lgb_eval = lgb.Dataset(X_test, y_test, reference=lgb_train)\n",
    "\n",
    "# specify your configurations as a dict\n",
    "\n",
    "params =  {'bagging_fraction': 1.0,\n",
    "  'colsample_bytree': 1.0,\n",
    "  'feature_fraction': 0.9,\n",
    "  'learning_rate': 0.4,\n",
    "  'max_depth': 2000,\n",
    "  'min_child_weight': 10.0,\n",
    "  'min_split_gain': 0.1,\n",
    "  'n_estimators': 10000.0,\n",
    "  'num_leaves': 10,\n",
    "  'subsample': 0.0}\n",
    "\n",
    "\n",
    "print('Starting training...')\n",
    "# train\n",
    "gbm = lgb.train(params,\n",
    "                lgb_train,\n",
    "                num_boost_round=500,\n",
    "                valid_sets=lgb_eval)\n",
    "\n",
    "\n",
    "\n",
    "print('Starting predicting...')\n",
    "# predict\n",
    "y_pred = gbm.predict(X_test, num_iteration=gbm.best_iteration)\n",
    "# eval\n",
    "print('The rmse of optimize lightgbm is :', sqrt(mean_squared_error(y_test, y_pred)))\n",
    "opt_lgb_after = sqrt(mean_squared_error(y_test, y_pred))\n",
    "\n"
   ]
  },
  {
   "cell_type": "markdown",
   "metadata": {},
   "source": [
    "# 4. Ensembling top two models"
   ]
  },
  {
   "cell_type": "markdown",
   "metadata": {},
   "source": [
    "Lets try if can improve results using simple ensembling techniques"
   ]
  },
  {
   "cell_type": "code",
   "execution_count": 26,
   "metadata": {},
   "outputs": [
    {
     "name": "stdout",
     "output_type": "stream",
     "text": [
      "Random Forest Baseline : 0.9562620949022258\n",
      "Optimize Lightgbm : 1.097545801252295\n",
      "RMSE by ensembling top individual models:  0.9568998331900027\n"
     ]
    }
   ],
   "source": [
    "#Top Models\n",
    "print(\"Random Forest Baseline :\", random_forest_after)\n",
    "print(\"Optimize Lightgbm :\", opt_lgb_after)\n",
    "opt_lightgbm = y_pred   #1.09\n",
    "random_forest_base = rf.predict(X_test) #0.95\n",
    "\n",
    "def ensembling(model1_prediction, model2_prediction):\n",
    "    for weight1 in np.arange(0,1,0.05):\n",
    "        smallest = 100\n",
    "        tmp10 = (weight1 * model1_prediction) + ((1-weight1) * model2_prediction)\n",
    "        result = sqrt(mean_squared_error(y_test, tmp10))\n",
    "        if result < smallest:\n",
    "            smallest = result\n",
    "            wt1 = weight1\n",
    "            wt2 = (1-weight1)\n",
    "    return smallest, wt1, wt2\n",
    "\n",
    "\n",
    "best_rmse, rf_weight, gbm_weight =ensembling(random_forest_base, opt_lightgbm)\n",
    "print (\"RMSE by ensembling top individual models: \", best_rmse)"
   ]
  },
  {
   "cell_type": "code",
   "execution_count": null,
   "metadata": {},
   "outputs": [],
   "source": []
  },
  {
   "cell_type": "code",
   "execution_count": null,
   "metadata": {},
   "outputs": [],
   "source": []
  },
  {
   "cell_type": "code",
   "execution_count": null,
   "metadata": {},
   "outputs": [],
   "source": []
  },
  {
   "cell_type": "code",
   "execution_count": null,
   "metadata": {},
   "outputs": [],
   "source": []
  },
  {
   "cell_type": "code",
   "execution_count": null,
   "metadata": {},
   "outputs": [],
   "source": []
  },
  {
   "cell_type": "code",
   "execution_count": null,
   "metadata": {},
   "outputs": [],
   "source": []
  },
  {
   "cell_type": "code",
   "execution_count": null,
   "metadata": {},
   "outputs": [],
   "source": []
  },
  {
   "cell_type": "code",
   "execution_count": null,
   "metadata": {},
   "outputs": [],
   "source": []
  },
  {
   "cell_type": "code",
   "execution_count": null,
   "metadata": {},
   "outputs": [],
   "source": []
  },
  {
   "cell_type": "code",
   "execution_count": null,
   "metadata": {},
   "outputs": [],
   "source": []
  },
  {
   "cell_type": "code",
   "execution_count": null,
   "metadata": {},
   "outputs": [],
   "source": []
  }
 ],
 "metadata": {
  "kernelspec": {
   "display_name": "Python 3",
   "language": "python",
   "name": "python3"
  },
  "language_info": {
   "codemirror_mode": {
    "name": "ipython",
    "version": 3
   },
   "file_extension": ".py",
   "mimetype": "text/x-python",
   "name": "python",
   "nbconvert_exporter": "python",
   "pygments_lexer": "ipython3",
   "version": "3.6.7"
  }
 },
 "nbformat": 4,
 "nbformat_minor": 2
}
